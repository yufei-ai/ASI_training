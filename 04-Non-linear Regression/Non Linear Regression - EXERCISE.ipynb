{
 "cells": [
  {
   "cell_type": "markdown",
   "metadata": {},
   "source": [
    "# Non Linear Regression "
   ]
  },
  {
   "cell_type": "markdown",
   "metadata": {},
   "source": [
    "Begin by importing all necessary modules"
   ]
  },
  {
   "cell_type": "code",
   "execution_count": 1,
   "metadata": {},
   "outputs": [],
   "source": [
    "import numpy as np\n",
    "import pandas as pd\n",
    "import matplotlib as mpl\n",
    "import matplotlib.pyplot as plt\n",
    "import pylab\n",
    "from scipy.optimize import minimize\n",
    "%matplotlib inline \n",
    "\n",
    "mpl.style.available\n",
    "mpl.style.use('ggplot') "
   ]
  },
  {
   "cell_type": "code",
   "execution_count": 2,
   "metadata": {},
   "outputs": [],
   "source": [
    "df = pd.read_csv('data/NonLinRegDataset.csv')"
   ]
  },
  {
   "cell_type": "markdown",
   "metadata": {},
   "source": [
    "Explore first lines and data format using head()"
   ]
  },
  {
   "cell_type": "code",
   "execution_count": 3,
   "metadata": {},
   "outputs": [
    {
     "data": {
      "text/html": [
       "<div>\n",
       "<style>\n",
       "    .dataframe thead tr:only-child th {\n",
       "        text-align: right;\n",
       "    }\n",
       "\n",
       "    .dataframe thead th {\n",
       "        text-align: left;\n",
       "    }\n",
       "\n",
       "    .dataframe tbody tr th {\n",
       "        vertical-align: top;\n",
       "    }\n",
       "</style>\n",
       "<table border=\"1\" class=\"dataframe\">\n",
       "  <thead>\n",
       "    <tr style=\"text-align: right;\">\n",
       "      <th></th>\n",
       "      <th>X</th>\n",
       "      <th>Y</th>\n",
       "    </tr>\n",
       "  </thead>\n",
       "  <tbody>\n",
       "    <tr>\n",
       "      <th>0</th>\n",
       "      <td>52.180138</td>\n",
       "      <td>200.108322</td>\n",
       "    </tr>\n",
       "    <tr>\n",
       "      <th>1</th>\n",
       "      <td>65.231421</td>\n",
       "      <td>215.061647</td>\n",
       "    </tr>\n",
       "    <tr>\n",
       "      <th>2</th>\n",
       "      <td>36.517554</td>\n",
       "      <td>171.206869</td>\n",
       "    </tr>\n",
       "    <tr>\n",
       "      <th>3</th>\n",
       "      <td>11.029448</td>\n",
       "      <td>112.232517</td>\n",
       "    </tr>\n",
       "    <tr>\n",
       "      <th>4</th>\n",
       "      <td>34.858912</td>\n",
       "      <td>130.389441</td>\n",
       "    </tr>\n",
       "  </tbody>\n",
       "</table>\n",
       "</div>"
      ],
      "text/plain": [
       "           X           Y\n",
       "0  52.180138  200.108322\n",
       "1  65.231421  215.061647\n",
       "2  36.517554  171.206869\n",
       "3  11.029448  112.232517\n",
       "4  34.858912  130.389441"
      ]
     },
     "execution_count": 3,
     "metadata": {},
     "output_type": "execute_result"
    }
   ],
   "source": [
    "df.head()"
   ]
  },
  {
   "cell_type": "markdown",
   "metadata": {},
   "source": [
    "## Feature Scaling"
   ]
  },
  {
   "cell_type": "markdown",
   "metadata": {},
   "source": [
    "Write function to scale features according to:\n",
    "\n",
    "$$x_i = \\frac{x_i - \\mu_i}{std(x_i)}$$\n",
    "\n",
    "Use mean() and max() operators built into pandas to do this.\n",
    "The function should should return both the scaled input vector, as well as the mean and standard deviation so we can scale future inputs.\n",
    "    "
   ]
  },
  {
   "cell_type": "code",
   "execution_count": 4,
   "metadata": {},
   "outputs": [],
   "source": [
    "def FeatureScale(x):\n",
    "    mu = x.mean()\n",
    "    std = x.std()\n",
    "    x_scaled = (x - mu) / std\n",
    "    return x_scaled, mu, std"
   ]
  },
  {
   "cell_type": "markdown",
   "metadata": {},
   "source": [
    "##Gradient definition"
   ]
  },
  {
   "cell_type": "code",
   "execution_count": 5,
   "metadata": {},
   "outputs": [],
   "source": [
    "def g(y_obs,y_pred,x):\n",
    "    g = (1/float(np.size(y_pred))) * np.sum((y_pred - y_obs)*x)\n",
    "    return g"
   ]
  },
  {
   "cell_type": "markdown",
   "metadata": {},
   "source": [
    "Define cost function:\n",
    "$$C = \\frac{1}{2m} \\sum_{i=1}^m (y_{pred}^i - y_{obs}^i)^2$$"
   ]
  },
  {
   "cell_type": "code",
   "execution_count": 6,
   "metadata": {},
   "outputs": [],
   "source": [
    "def CostFunction(y_obs,y_pred):\n",
    "    cost = np.sum((y_pred - y_obs)**2) / (2*np.size(y_pred))\n",
    "    return cost"
   ]
  },
  {
   "cell_type": "markdown",
   "metadata": {},
   "source": [
    "Use plt.scatter() to plot X against Y"
   ]
  },
  {
   "cell_type": "code",
   "execution_count": 7,
   "metadata": {},
   "outputs": [
    {
     "data": {
      "text/plain": [
       "<matplotlib.collections.PathCollection at 0x7f6b621bbed0>"
      ]
     },
     "execution_count": 7,
     "metadata": {},
     "output_type": "execute_result"
    },
    {
     "data": {
      "image/png": "[encoded data removed]",
      "text/plain": [
       "<matplotlib.figure.Figure at 0x7f6b65597150>"
      ]
     },
     "metadata": {},
     "output_type": "display_data"
    }
   ],
   "source": [
    "plt.scatter(df.X,df.Y)"
   ]
  },
  {
   "cell_type": "markdown",
   "metadata": {},
   "source": [
    "We are interested in fitting a third order polynomial function to this dataset. At the moment, our only input feature is the original X input.\n",
    "For simplicity, we can create the following input features:\n",
    "$$X^2 \\text{ and } X^3$$\n",
    "In order to do this create new columns in the data frame equal to these."
   ]
  },
  {
   "cell_type": "code",
   "execution_count": 8,
   "metadata": {},
   "outputs": [],
   "source": [
    "df['X2'] = df.X**2\n",
    "df['X3'] = df.X**3"
   ]
  },
  {
   "cell_type": "markdown",
   "metadata": {},
   "source": [
    "We now need to scale all three feature vectors, which we can do using our original feature scaling function.\n",
    "Ensure you store the scaling values once again, and store scaled values as new columns in data frame."
   ]
  },
  {
   "cell_type": "code",
   "execution_count": 9,
   "metadata": {},
   "outputs": [],
   "source": [
    "df['X_scaled'], X_mu, X_std = FeatureScale(df.X)\n",
    "df['X2_scaled'], X2_mu, X2_std = FeatureScale(df.X2)\n",
    "df['X3_scaled'], X3_mu, X3_std = FeatureScale(df.X3)"
   ]
  },
  {
   "cell_type": "markdown",
   "metadata": {},
   "source": [
    "**Exercise** <br>\n",
    "Finish gradient descent algorithm where:\n",
    "$$\\theta_j := \\theta_j - \\alpha g_j$$\n",
    "remembering that \n",
    "$$x_0^i = 1 \\quad \\text{for all } i$$"
   ]
  },
  {
   "cell_type": "markdown",
   "metadata": {},
   "source": [
    "Code polynomial function directly into the function (using the scaled features!)\n",
    "Use g function coded earlier for the update equations."
   ]
  },
  {
   "cell_type": "code",
   "execution_count": 10,
   "metadata": {},
   "outputs": [],
   "source": [
    "def GradDescent(df, theta_0,theta_1,theta_2,theta_3,alpha,num_iters):\n",
    "    \n",
    "    #C_history records values for plotting\n",
    "    C_history = []\n",
    "    \n",
    "    #Initalises Ypredicted to ensure existence in dataframe\n",
    "    df['Ypredicted'] = df.Y\n",
    "    \n",
    "    for i in np.arange(num_iters):\n",
    "        #Calculate prediction for parameter values\n",
    "        df.Ypredicted = theta_0 + theta_1*df.X_scaled + theta_2*df.X2_scaled + theta_3*df.X3_scaled\n",
    "        \n",
    "        #Update parameters\n",
    "        theta_0 -= alpha * g(df.Y,df.Ypredicted,1)\n",
    "        theta_1 -= alpha * g(df.Y,df.Ypredicted,df.X_scaled)\n",
    "        theta_2 -= alpha * g(df.Y,df.Ypredicted,df.X2_scaled)\n",
    "        theta_3 -= alpha * g(df.Y,df.Ypredicted,df.X3_scaled)\n",
    "            \n",
    "        C_history.append([CostFunction(df.Y,df.Ypredicted)])\n",
    "        \n",
    "        \n",
    "    print \"Finished at \", [theta_0,theta_1,theta_2,theta_3]\n",
    "    return theta_0, theta_1, theta_2, theta_3, np.array(C_history)"
   ]
  },
  {
   "cell_type": "markdown",
   "metadata": {},
   "source": [
    "Set initial guess for all three parameters and alpha value, then run Gradient Descent algorithm"
   ]
  },
  {
   "cell_type": "code",
   "execution_count": 17,
   "metadata": {},
   "outputs": [
    {
     "name": "stdout",
     "output_type": "stream",
     "text": [
      "Finished at  [167.89453372877136, 48.78168053618758, 7.61109040308534, -26.946889649926096]\n"
     ]
    }
   ],
   "source": [
    "theta_0_guess = \n",
    "theta_1_guess = 10\n",
    "theta_2_guess = 10\n",
    "theta_3_guess = 0\n",
    "alpha = 0.1\n",
    "num_iters = 100\n",
    "\n",
    "theta_0, theta_1, theta_2, theta_3, C_history = GradDescent(df, theta_0_guess,theta_1_guess,theta_2_guess,theta_3_guess,alpha,num_iters)"
   ]
  },
  {
   "cell_type": "markdown",
   "metadata": {},
   "source": [
    "Use plt.plot() to plot the Cost function history and ensure convergence"
   ]
  },
  {
   "cell_type": "code",
   "execution_count": 18,
   "metadata": {},
   "outputs": [
    {
     "data": {
      "text/plain": [
       "[<matplotlib.lines.Line2D at 0x7f6b61df6b10>]"
      ]
     },
     "execution_count": 18,
     "metadata": {},
     "output_type": "execute_result"
    },
    {
     "data": {
      "image/png": "[encoded data removed]",
      "text/plain": [
       "<matplotlib.figure.Figure at 0x7f6b620a57d0>"
      ]
     },
     "metadata": {},
     "output_type": "display_data"
    }
   ],
   "source": [
    "plt.plot(C_history)"
   ]
  },
  {
   "cell_type": "markdown",
   "metadata": {},
   "source": [
    "Use the following code to plot the fitted function and observe how good the fit is"
   ]
  },
  {
   "cell_type": "code",
   "execution_count": 20,
   "metadata": {
    "scrolled": true
   },
   "outputs": [
    {
     "name": "stdout",
     "output_type": "stream",
     "text": [
      "167.894533729\n"
     ]
    },
    {
     "data": {
      "text/plain": [
       "[<matplotlib.lines.Line2D at 0x7f6b61ce5850>]"
      ]
     },
     "execution_count": 20,
     "metadata": {},
     "output_type": "execute_result"
    },
    {
     "data": {
      "image/png": "[encoded data removed]",
      "text/plain": [
       "<matplotlib.figure.Figure at 0x7f6b61ce5f10>"
      ]
     },
     "metadata": {},
     "output_type": "display_data"
    }
   ],
   "source": [
    "xpvec = np.linspace(0,100,100)\n",
    "xpvec2 = xpvec**2\n",
    "xpvec3 = xpvec**3\n",
    "xpvec_scaled = (xpvec - X_mu) / X_std\n",
    "xpvec2_scaled = (xpvec2 - X2_mu) / X2_std\n",
    "xpvec3_scaled = (xpvec3 - X3_mu) / X3_std\n",
    "\n",
    "ypred = theta_0 + theta_1*xpvec_scaled + theta_2*xpvec2_scaled + theta_3*xpvec3_scaled\n",
    "print theta_0\n",
    "plt.scatter(df.X,df.Y)\n",
    "plt.plot(xpvec,ypred)"
   ]
  },
  {
   "cell_type": "markdown",
   "metadata": {},
   "source": [
    "What is wrong with this plot? Why might it not have found a good fit?"
   ]
  },
  {
   "cell_type": "markdown",
   "metadata": {},
   "source": [
    "The answer lies in the algorithm finding a LOCAL MINIMUM. Try changing the original guesses and see what happens to the line."
   ]
  }
 ],
 "metadata": {
  "kernelspec": {
   "display_name": "Python [conda env:Python2]",
   "language": "python",
   "name": "conda-env-Python2-py"
  },
  "language_info": {
   "codemirror_mode": {
    "name": "ipython",
    "version": 2
   },
   "file_extension": ".py",
   "mimetype": "text/x-python",
   "name": "python",
   "nbconvert_exporter": "python",
   "pygments_lexer": "ipython2",
   "version": "2.7.13"
  }
 },
 "nbformat": 4,
 "nbformat_minor": 1
}
