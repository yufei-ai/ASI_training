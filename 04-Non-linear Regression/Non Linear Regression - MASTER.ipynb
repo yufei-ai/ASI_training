{
 "cells": [
  {
   "cell_type": "markdown",
   "metadata": {},
   "source": [
    "# Non Linear Regression "
   ]
  },
  {
   "cell_type": "markdown",
   "metadata": {},
   "source": [
    "Begin by importing all necessary modules"
   ]
  },
  {
   "cell_type": "code",
   "execution_count": null,
   "metadata": {
    "collapsed": false
   },
   "outputs": [],
   "source": [
    "import numpy as np\n",
    "import pandas as pd\n",
    "import matplotlib as mpl\n",
    "import matplotlib.pyplot as plt\n",
    "import pylab\n",
    "from scipy.optimize import minimize\n",
    "%matplotlib inline \n",
    "\n",
    "mpl.style.available\n",
    "mpl.style.use('ggplot') "
   ]
  },
  {
   "cell_type": "code",
   "execution_count": null,
   "metadata": {
    "collapsed": false
   },
   "outputs": [],
   "source": [
    "df = pd.read_csv('data/NonLinRegDataset.csv')"
   ]
  },
  {
   "cell_type": "markdown",
   "metadata": {},
   "source": [
    "Explore first lines and data format using head()"
   ]
  },
  {
   "cell_type": "code",
   "execution_count": null,
   "metadata": {
    "collapsed": false
   },
   "outputs": [],
   "source": [
    "df.head()"
   ]
  },
  {
   "cell_type": "markdown",
   "metadata": {},
   "source": [
    "## Feature Scaling"
   ]
  },
  {
   "cell_type": "markdown",
   "metadata": {},
   "source": [
    "Write function to scale features according to:\n",
    "\n",
    "$$x_i = \\frac{x_i - \\mu_i}{std(x_i)}$$\n",
    "\n",
    "Use mean() and max() operators built into pandas to do this.\n",
    "The function should should return both the scaled input vector, as well as the mean and standard deviation so we can scale future inputs.\n",
    "    "
   ]
  },
  {
   "cell_type": "code",
   "execution_count": null,
   "metadata": {
    "collapsed": false
   },
   "outputs": [],
   "source": [
    "def FeatureScale(x):\n",
    "    mu = x.mean()\n",
    "    std = x.std()\n",
    "    x_scaled = (x - mu) / std\n",
    "    return x_scaled, mu, std"
   ]
  },
  {
   "cell_type": "markdown",
   "metadata": {},
   "source": [
    "##Gradient definition"
   ]
  },
  {
   "cell_type": "code",
   "execution_count": null,
   "metadata": {
    "collapsed": false
   },
   "outputs": [],
   "source": [
    "def g(y_obs,y_pred,x):\n",
    "    g = (1/float(np.size(y_pred))) * np.sum((y_pred - y_obs)*x)\n",
    "    return g"
   ]
  },
  {
   "cell_type": "markdown",
   "metadata": {},
   "source": [
    "Define cost function:\n",
    "$$C = \\frac{1}{2m} \\sum_{i=1}^m (y_{pred}^i - y_{obs}^i)^2$$"
   ]
  },
  {
   "cell_type": "code",
   "execution_count": null,
   "metadata": {
    "collapsed": false
   },
   "outputs": [],
   "source": [
    "def CostFunction(y_obs,y_pred):\n",
    "    cost = np.sum((y_pred - y_obs)**2) / (2*np.size(y_pred))\n",
    "    return cost"
   ]
  },
  {
   "cell_type": "markdown",
   "metadata": {},
   "source": [
    "Use plt.scatter() to plot X against Y"
   ]
  },
  {
   "cell_type": "code",
   "execution_count": null,
   "metadata": {
    "collapsed": false
   },
   "outputs": [],
   "source": [
    "plt.scatter(df.X,df.Y)"
   ]
  },
  {
   "cell_type": "markdown",
   "metadata": {},
   "source": [
    "We are interested in fitting a third order polynomial function to this dataset. At the moment, our only input feature is the original X input.\n",
    "For simplicity, we can create the following input features:\n",
    "$$X^2 \\text{ and } X^3$$\n",
    "In order to do this create new columns in the data frame equal to these."
   ]
  },
  {
   "cell_type": "code",
   "execution_count": null,
   "metadata": {
    "collapsed": false
   },
   "outputs": [],
   "source": [
    "df['X2'] = df.X**2\n",
    "df['X3'] = df.X**3"
   ]
  },
  {
   "cell_type": "markdown",
   "metadata": {},
   "source": [
    "We now need to scale all three feature vectors, which we can do using our original feature scaling function.\n",
    "Ensure you store the scaling values once again, and store scaled values as new columns in data frame."
   ]
  },
  {
   "cell_type": "code",
   "execution_count": null,
   "metadata": {
    "collapsed": false
   },
   "outputs": [],
   "source": [
    "df['X_scaled'], X_mu, X_std = FeatureScale(df.X)\n",
    "df['X2_scaled'], X2_mu, X2_std = FeatureScale(df.X2)\n",
    "df['X3_scaled'], X3_mu, X3_std = FeatureScale(df.X3)"
   ]
  },
  {
   "cell_type": "markdown",
   "metadata": {},
   "source": [
    "Finish gradient descent algorithm where:\n",
    "$$\\theta_j := \\theta_j - \\alpha g_j$$\n",
    "remembering that \n",
    "$$x_0^i = 1 \\quad \\text{for all } i$$"
   ]
  },
  {
   "cell_type": "markdown",
   "metadata": {},
   "source": [
    "Code polynomial function directly into the function (using the scaled features!)\n",
    "Use g function coded earlier for the update equations."
   ]
  },
  {
   "cell_type": "code",
   "execution_count": null,
   "metadata": {
    "collapsed": false
   },
   "outputs": [],
   "source": [
    "def GradDescent(df, theta_0,theta_1,theta_2,theta_3,alpha,num_iters):\n",
    "    \n",
    "    #C_history records values for plotting\n",
    "    C_history = []\n",
    "    \n",
    "    #Initalises Ypredicted to ensure existence in dataframe\n",
    "    df['Ypredicted'] = df.Y\n",
    "    \n",
    "    for i in np.arange(num_iters):\n",
    "        #Calculate prediction for parameter values\n",
    "        df.Ypredicted = theta_0 + theta_1*df.X_scaled + theta_2*df.X2_scaled + theta_3*df.X3_scaled\n",
    "        \n",
    "        #Update parameters\n",
    "        theta_0 = theta_0 - alpha * g(df.Y,df.Ypredicted,1) \n",
    "        theta_1 = theta_1 - alpha * g(df.Y,df.Ypredicted,df.X_scaled) \n",
    "        theta_2 = theta_2 - alpha * g(df.Y,df.Ypredicted,df.X2_scaled) \n",
    "        theta_3 = theta_3 - alpha * g(df.Y,df.Ypredicted,df.X3_scaled)\n",
    "            \n",
    "        C_history.append([CostFunction(df.Y,df.Ypredicted)])\n",
    "        \n",
    "        \n",
    "    print \"Finished at \", [theta_0,theta_1,theta_2,theta_3]\n",
    "    return theta_0, theta_1, theta_2, theta_3, np.array(C_history)"
   ]
  },
  {
   "cell_type": "markdown",
   "metadata": {},
   "source": [
    "Set initial guess for all three parameters and alpha value, then run Gradient Descent algorithm"
   ]
  },
  {
   "cell_type": "code",
   "execution_count": null,
   "metadata": {
    "collapsed": false
   },
   "outputs": [],
   "source": [
    "theta_0_guess = 10\n",
    "theta_1_guess = 1000\n",
    "theta_2_guess = 10\n",
    "theta_3_guess = 1000\n",
    "alpha = 0.1\n",
    "num_iters = 100\n",
    "\n",
    "theta_0, theta_1, theta_2, theta_3, C_history = GradDescent(df, theta_0_guess,theta_1_guess,theta_2_guess,theta_3_guess,alpha,num_iters)"
   ]
  },
  {
   "cell_type": "markdown",
   "metadata": {},
   "source": [
    "Use plt.plot() to plot the Cost function history and ensure convergence"
   ]
  },
  {
   "cell_type": "code",
   "execution_count": null,
   "metadata": {
    "collapsed": false
   },
   "outputs": [],
   "source": [
    "plt.plot(C_history)"
   ]
  },
  {
   "cell_type": "markdown",
   "metadata": {},
   "source": [
    "Use the following code to plot the fitted function and observe how good the fit is"
   ]
  },
  {
   "cell_type": "code",
   "execution_count": null,
   "metadata": {
    "collapsed": false,
    "scrolled": true
   },
   "outputs": [],
   "source": [
    "xpvec = np.linspace(0,100,100)\n",
    "xpvec2 = xpvec**2\n",
    "xpvec3 = xpvec**3\n",
    "xpvec_scaled = (xpvec - X_mu) / X_std\n",
    "xpvec2_scaled = (xpvec2 - X2_mu) / X2_std\n",
    "xpvec3_scaled = (xpvec3 - X3_mu) / X3_std\n",
    "\n",
    "ypred = theta_0 + theta_1*xpvec_scaled + theta_2*xpvec2_scaled + theta_3*xpvec3_scaled\n",
    "print theta_0\n",
    "plt.scatter(df.X,df.Y)\n",
    "plt.plot(xpvec,ypred)"
   ]
  },
  {
   "cell_type": "markdown",
   "metadata": {},
   "source": [
    "What is wrong with this plot? Why might it not have found a good fit?"
   ]
  },
  {
   "cell_type": "markdown",
   "metadata": {},
   "source": [
    "The answer lies in the algorithm finding a LOCAL MINIMUM. Try changing the original guesses and see what happens to the line."
   ]
  }
 ],
 "metadata": {
  "kernelspec": {
   "display_name": "Python 2",
   "language": "python",
   "name": "python2"
  },
  "language_info": {
   "codemirror_mode": {
    "name": "ipython",
    "version": 2
   },
   "file_extension": ".py",
   "mimetype": "text/x-python",
   "name": "python",
   "nbconvert_exporter": "python",
   "pygments_lexer": "ipython2",
   "version": "2.7.9"
  }
 },
 "nbformat": 4,
 "nbformat_minor": 0
}
