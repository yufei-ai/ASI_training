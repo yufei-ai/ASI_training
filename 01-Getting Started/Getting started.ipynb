{
 "cells": [
  {
   "cell_type": "markdown",
   "metadata": {},
   "source": [
    "#Getting started with Data Analysis in Python"
   ]
  },
  {
   "cell_type": "markdown",
   "metadata": {},
   "source": [
    "## This is a python environment\n",
    "\n",
    "To run a command, click in the cell and click the play button above or press Ctrl+enter (or shift+enter which automatically places your cursor in the next cell down, or alt+enter to also add a new cell below)"
   ]
  },
  {
   "cell_type": "code",
   "execution_count": 2,
   "metadata": {},
   "outputs": [
    {
     "name": "stdout",
     "output_type": "stream",
     "text": [
      "Hello, Fellows!\n"
     ]
    }
   ],
   "source": [
    "print \"Hello, Fellows!\""
   ]
  },
  {
   "cell_type": "code",
   "execution_count": 3,
   "metadata": {},
   "outputs": [
    {
     "data": {
      "text/plain": [
       "3"
      ]
     },
     "execution_count": 3,
     "metadata": {},
     "output_type": "execute_result"
    }
   ],
   "source": [
    "#shorthand for print 1+2 , can only be used once per cell to avoid ambiguity\n",
    "1+2 "
   ]
  },
  {
   "cell_type": "code",
   "execution_count": 1,
   "metadata": {
    "scrolled": true
   },
   "outputs": [
    {
     "name": "stdout",
     "output_type": "stream",
     "text": [
      "0\n",
      "1\n",
      "2\n",
      "3\n",
      "4\n"
     ]
    }
   ],
   "source": [
    "for i in xrange(0,5):\n",
    "    print i"
   ]
  },
  {
   "cell_type": "markdown",
   "metadata": {},
   "source": [
    "#### Notebooks have two different keyboard input modes:\n",
    "1. <b>Edit mode</b> allows you to type code/text into a cell and is indicated by a green cell border. \n",
    "2. <b>Command mode</b> binds the keyboard to notebook level actions and is indicated by a grey cell border.\n",
    "<br>\n",
    "> Change from edit to command mode by press `esc`. And change back by hitting `enter` \n",
    "\n",
    "#### Change, add and delete cells in command mode\n",
    "- Change cell type from code to markdown by pressing `m`. Change it back to code with `y`. \n",
    "- Add a cell above with `a` and below with `b`\n",
    "- Delete a cell with `dd`"
   ]
  },
  {
   "cell_type": "markdown",
   "metadata": {},
   "source": [
    "##Libraries\n",
    "The core libraries for data analysis are:\n",
    "- Pandas\n",
    "- Numpy\n",
    "- Matplotlib"
   ]
  },
  {
   "cell_type": "markdown",
   "metadata": {},
   "source": [
    "### Pandas\n",
    "Pandas is a Python package providing fast, flexible, and expressive data structures designed to make working with “relational” or “labeled” data both easy and intuitive. It aims to be the fundamental high-level building block for doing practical, real world data analysis in Python.\n",
    "\n",
    "The core data structure pandas is the dataframe. It is well suited for many different kinds of data:\n",
    "- Tabular data with heterogeneously-typed columns, as in an SQL table or Excel spreadsheet\n",
    "- Ordered and unordered (not necessarily fixed-frequency) time series data.\n",
    "- Arbitrary matrix data (homogeneously typed or heterogeneous) with row and column labels\n",
    "- Any other form of observational / statistical data sets. The data actually need not be labeled at all to be placed into a pandas data structure"
   ]
  },
  {
   "cell_type": "code",
   "execution_count": 27,
   "metadata": {
    "collapsed": true
   },
   "outputs": [],
   "source": [
    "import pandas as pd\n",
    "#from now on, every time you type pd.method, python will look to see if that method exists within the pandas library \n",
    "#and if so, it will be called"
   ]
  },
  {
   "cell_type": "code",
   "execution_count": 8,
   "metadata": {
    "scrolled": true
   },
   "outputs": [
    {
     "data": {
      "text/html": [
       "<div>\n",
       "<style>\n",
       "    .dataframe thead tr:only-child th {\n",
       "        text-align: right;\n",
       "    }\n",
       "\n",
       "    .dataframe thead th {\n",
       "        text-align: left;\n",
       "    }\n",
       "\n",
       "    .dataframe tbody tr th {\n",
       "        vertical-align: top;\n",
       "    }\n",
       "</style>\n",
       "<table border=\"1\" class=\"dataframe\">\n",
       "  <thead>\n",
       "    <tr style=\"text-align: right;\">\n",
       "      <th></th>\n",
       "      <th>place</th>\n",
       "      <th>type_of_meteorite</th>\n",
       "      <th>mass_g</th>\n",
       "      <th>fell_found</th>\n",
       "      <th>year</th>\n",
       "      <th>database</th>\n",
       "      <th>coordinate_1</th>\n",
       "      <th>coordinates_2</th>\n",
       "      <th>cartodb_id</th>\n",
       "      <th>created_at</th>\n",
       "      <th>updated_at</th>\n",
       "      <th>year_date</th>\n",
       "      <th>longitude</th>\n",
       "      <th>latitude</th>\n",
       "      <th>geojson</th>\n",
       "    </tr>\n",
       "  </thead>\n",
       "  <tbody>\n",
       "    <tr>\n",
       "      <th>0</th>\n",
       "      <td>Ur</td>\n",
       "      <td>Iron</td>\n",
       "      <td>0.00</td>\n",
       "      <td>Found</td>\n",
       "      <td>-2500.0</td>\n",
       "      <td>http://www.lpi.usra.edu/meteor/metbull.php?cod...</td>\n",
       "      <td>30.90000</td>\n",
       "      <td>46.01667</td>\n",
       "      <td>34242</td>\n",
       "      <td>15/02/13 20:56</td>\n",
       "      <td>15/02/13 21:04</td>\n",
       "      <td>NaN</td>\n",
       "      <td>46.01667</td>\n",
       "      <td>30.90000</td>\n",
       "      <td>{\"type\":\"Point\",\"coordinates\":[46.01667,30.9]}</td>\n",
       "    </tr>\n",
       "    <tr>\n",
       "      <th>1</th>\n",
       "      <td>A-881561</td>\n",
       "      <td>H4</td>\n",
       "      <td>836.87</td>\n",
       "      <td>Found</td>\n",
       "      <td>1988.0</td>\n",
       "      <td>http://www.lpi.usra.edu/meteor/metbull.php?cod...</td>\n",
       "      <td>-72.00000</td>\n",
       "      <td>26.00000</td>\n",
       "      <td>4141</td>\n",
       "      <td>15/02/13 20:56</td>\n",
       "      <td>15/02/13 21:11</td>\n",
       "      <td>01/01/88 00:00</td>\n",
       "      <td>26.00000</td>\n",
       "      <td>-72.00000</td>\n",
       "      <td>{\"type\":\"Point\",\"coordinates\":[26,-72]}</td>\n",
       "    </tr>\n",
       "    <tr>\n",
       "      <th>2</th>\n",
       "      <td>Wietrzno-Bobrka</td>\n",
       "      <td>Iron</td>\n",
       "      <td>376.00</td>\n",
       "      <td>Found</td>\n",
       "      <td>-600.0</td>\n",
       "      <td>http://www.lpi.usra.edu/meteor/metbull.php?cod...</td>\n",
       "      <td>49.41667</td>\n",
       "      <td>21.70000</td>\n",
       "      <td>6037</td>\n",
       "      <td>15/02/13 20:56</td>\n",
       "      <td>15/02/13 21:04</td>\n",
       "      <td>NaN</td>\n",
       "      <td>21.70000</td>\n",
       "      <td>49.41667</td>\n",
       "      <td>{\"type\":\"Point\",\"coordinates\":[21.7,49.41667]}</td>\n",
       "    </tr>\n",
       "    <tr>\n",
       "      <th>3</th>\n",
       "      <td>A-881448</td>\n",
       "      <td>H4</td>\n",
       "      <td>341.27</td>\n",
       "      <td>Found</td>\n",
       "      <td>1988.0</td>\n",
       "      <td>http://www.lpi.usra.edu/meteor/metbull.php?cod...</td>\n",
       "      <td>-72.00000</td>\n",
       "      <td>26.00000</td>\n",
       "      <td>6340</td>\n",
       "      <td>15/02/13 20:56</td>\n",
       "      <td>15/02/13 21:11</td>\n",
       "      <td>01/01/88 00:00</td>\n",
       "      <td>26.00000</td>\n",
       "      <td>-72.00000</td>\n",
       "      <td>{\"type\":\"Point\",\"coordinates\":[26,-72]}</td>\n",
       "    </tr>\n",
       "    <tr>\n",
       "      <th>4</th>\n",
       "      <td>A-881813</td>\n",
       "      <td>L6</td>\n",
       "      <td>296.96</td>\n",
       "      <td>Found</td>\n",
       "      <td>1988.0</td>\n",
       "      <td>http://www.lpi.usra.edu/meteor/metbull.php?cod...</td>\n",
       "      <td>-72.00000</td>\n",
       "      <td>26.00000</td>\n",
       "      <td>6753</td>\n",
       "      <td>15/02/13 20:56</td>\n",
       "      <td>15/02/13 21:11</td>\n",
       "      <td>01/01/88 00:00</td>\n",
       "      <td>26.00000</td>\n",
       "      <td>-72.00000</td>\n",
       "      <td>{\"type\":\"Point\",\"coordinates\":[26,-72]}</td>\n",
       "    </tr>\n",
       "  </tbody>\n",
       "</table>\n",
       "</div>"
      ],
      "text/plain": [
       "             place type_of_meteorite  mass_g fell_found    year  \\\n",
       "0               Ur              Iron    0.00      Found -2500.0   \n",
       "1         A-881561                H4  836.87      Found  1988.0   \n",
       "2  Wietrzno-Bobrka              Iron  376.00      Found  -600.0   \n",
       "3         A-881448                H4  341.27      Found  1988.0   \n",
       "4         A-881813                L6  296.96      Found  1988.0   \n",
       "\n",
       "                                            database  coordinate_1  \\\n",
       "0  http://www.lpi.usra.edu/meteor/metbull.php?cod...      30.90000   \n",
       "1  http://www.lpi.usra.edu/meteor/metbull.php?cod...     -72.00000   \n",
       "2  http://www.lpi.usra.edu/meteor/metbull.php?cod...      49.41667   \n",
       "3  http://www.lpi.usra.edu/meteor/metbull.php?cod...     -72.00000   \n",
       "4  http://www.lpi.usra.edu/meteor/metbull.php?cod...     -72.00000   \n",
       "\n",
       "   coordinates_2  cartodb_id      created_at      updated_at       year_date  \\\n",
       "0       46.01667       34242  15/02/13 20:56  15/02/13 21:04             NaN   \n",
       "1       26.00000        4141  15/02/13 20:56  15/02/13 21:11  01/01/88 00:00   \n",
       "2       21.70000        6037  15/02/13 20:56  15/02/13 21:04             NaN   \n",
       "3       26.00000        6340  15/02/13 20:56  15/02/13 21:11  01/01/88 00:00   \n",
       "4       26.00000        6753  15/02/13 20:56  15/02/13 21:11  01/01/88 00:00   \n",
       "\n",
       "   longitude  latitude                                         geojson  \n",
       "0   46.01667  30.90000  {\"type\":\"Point\",\"coordinates\":[46.01667,30.9]}  \n",
       "1   26.00000 -72.00000         {\"type\":\"Point\",\"coordinates\":[26,-72]}  \n",
       "2   21.70000  49.41667  {\"type\":\"Point\",\"coordinates\":[21.7,49.41667]}  \n",
       "3   26.00000 -72.00000         {\"type\":\"Point\",\"coordinates\":[26,-72]}  \n",
       "4   26.00000 -72.00000         {\"type\":\"Point\",\"coordinates\":[26,-72]}  "
      ]
     },
     "execution_count": 8,
     "metadata": {},
     "output_type": "execute_result"
    }
   ],
   "source": [
    "#read a csv file from the parent folder into a dataframe\n",
    "df = pd.read_csv('meteors.csv')\n",
    "#print the \"head\" or top of the file. The (optional) argument in brackets is how many rows to print out (default n=5)\n",
    "#this command will be particularly familiar to linux users\n",
    "df.head(5)"
   ]
  },
  {
   "cell_type": "markdown",
   "metadata": {},
   "source": [
    "####Selecting rows\n",
    "You can select rows in a pandas dataframe like you would an array"
   ]
  },
  {
   "cell_type": "code",
   "execution_count": 9,
   "metadata": {},
   "outputs": [
    {
     "data": {
      "text/html": [
       "<div>\n",
       "<style>\n",
       "    .dataframe thead tr:only-child th {\n",
       "        text-align: right;\n",
       "    }\n",
       "\n",
       "    .dataframe thead th {\n",
       "        text-align: left;\n",
       "    }\n",
       "\n",
       "    .dataframe tbody tr th {\n",
       "        vertical-align: top;\n",
       "    }\n",
       "</style>\n",
       "<table border=\"1\" class=\"dataframe\">\n",
       "  <thead>\n",
       "    <tr style=\"text-align: right;\">\n",
       "      <th></th>\n",
       "      <th>place</th>\n",
       "      <th>type_of_meteorite</th>\n",
       "      <th>mass_g</th>\n",
       "      <th>fell_found</th>\n",
       "      <th>year</th>\n",
       "      <th>database</th>\n",
       "      <th>coordinate_1</th>\n",
       "      <th>coordinates_2</th>\n",
       "      <th>cartodb_id</th>\n",
       "      <th>created_at</th>\n",
       "      <th>updated_at</th>\n",
       "      <th>year_date</th>\n",
       "      <th>longitude</th>\n",
       "      <th>latitude</th>\n",
       "      <th>geojson</th>\n",
       "    </tr>\n",
       "  </thead>\n",
       "  <tbody>\n",
       "    <tr>\n",
       "      <th>3</th>\n",
       "      <td>A-881448</td>\n",
       "      <td>H4</td>\n",
       "      <td>341.27</td>\n",
       "      <td>Found</td>\n",
       "      <td>1988.0</td>\n",
       "      <td>http://www.lpi.usra.edu/meteor/metbull.php?cod...</td>\n",
       "      <td>-72.0</td>\n",
       "      <td>26.0</td>\n",
       "      <td>6340</td>\n",
       "      <td>15/02/13 20:56</td>\n",
       "      <td>15/02/13 21:11</td>\n",
       "      <td>01/01/88 00:00</td>\n",
       "      <td>26.0</td>\n",
       "      <td>-72.0</td>\n",
       "      <td>{\"type\":\"Point\",\"coordinates\":[26,-72]}</td>\n",
       "    </tr>\n",
       "    <tr>\n",
       "      <th>4</th>\n",
       "      <td>A-881813</td>\n",
       "      <td>L6</td>\n",
       "      <td>296.96</td>\n",
       "      <td>Found</td>\n",
       "      <td>1988.0</td>\n",
       "      <td>http://www.lpi.usra.edu/meteor/metbull.php?cod...</td>\n",
       "      <td>-72.0</td>\n",
       "      <td>26.0</td>\n",
       "      <td>6753</td>\n",
       "      <td>15/02/13 20:56</td>\n",
       "      <td>15/02/13 21:11</td>\n",
       "      <td>01/01/88 00:00</td>\n",
       "      <td>26.0</td>\n",
       "      <td>-72.0</td>\n",
       "      <td>{\"type\":\"Point\",\"coordinates\":[26,-72]}</td>\n",
       "    </tr>\n",
       "    <tr>\n",
       "      <th>5</th>\n",
       "      <td>A-881637</td>\n",
       "      <td>L3</td>\n",
       "      <td>195.62</td>\n",
       "      <td>Found</td>\n",
       "      <td>1988.0</td>\n",
       "      <td>http://www.lpi.usra.edu/meteor/metbull.php?cod...</td>\n",
       "      <td>-72.0</td>\n",
       "      <td>26.0</td>\n",
       "      <td>8147</td>\n",
       "      <td>15/02/13 20:56</td>\n",
       "      <td>15/02/13 21:11</td>\n",
       "      <td>01/01/88 00:00</td>\n",
       "      <td>26.0</td>\n",
       "      <td>-72.0</td>\n",
       "      <td>{\"type\":\"Point\",\"coordinates\":[26,-72]}</td>\n",
       "    </tr>\n",
       "  </tbody>\n",
       "</table>\n",
       "</div>"
      ],
      "text/plain": [
       "      place type_of_meteorite  mass_g fell_found    year  \\\n",
       "3  A-881448                H4  341.27      Found  1988.0   \n",
       "4  A-881813                L6  296.96      Found  1988.0   \n",
       "5  A-881637                L3  195.62      Found  1988.0   \n",
       "\n",
       "                                            database  coordinate_1  \\\n",
       "3  http://www.lpi.usra.edu/meteor/metbull.php?cod...         -72.0   \n",
       "4  http://www.lpi.usra.edu/meteor/metbull.php?cod...         -72.0   \n",
       "5  http://www.lpi.usra.edu/meteor/metbull.php?cod...         -72.0   \n",
       "\n",
       "   coordinates_2  cartodb_id      created_at      updated_at       year_date  \\\n",
       "3           26.0        6340  15/02/13 20:56  15/02/13 21:11  01/01/88 00:00   \n",
       "4           26.0        6753  15/02/13 20:56  15/02/13 21:11  01/01/88 00:00   \n",
       "5           26.0        8147  15/02/13 20:56  15/02/13 21:11  01/01/88 00:00   \n",
       "\n",
       "   longitude  latitude                                  geojson  \n",
       "3       26.0     -72.0  {\"type\":\"Point\",\"coordinates\":[26,-72]}  \n",
       "4       26.0     -72.0  {\"type\":\"Point\",\"coordinates\":[26,-72]}  \n",
       "5       26.0     -72.0  {\"type\":\"Point\",\"coordinates\":[26,-72]}  "
      ]
     },
     "execution_count": 9,
     "metadata": {},
     "output_type": "execute_result"
    }
   ],
   "source": [
    "df[3:6] # show the 3rd to 5th rows"
   ]
  },
  {
   "cell_type": "markdown",
   "metadata": {},
   "source": [
    "####Selecting a column\n",
    "You can select a single or multiple columns, by passing in a list of column names"
   ]
  },
  {
   "cell_type": "code",
   "execution_count": 12,
   "metadata": {},
   "outputs": [
    {
     "data": {
      "text/html": [
       "<div>\n",
       "<style>\n",
       "    .dataframe thead tr:only-child th {\n",
       "        text-align: right;\n",
       "    }\n",
       "\n",
       "    .dataframe thead th {\n",
       "        text-align: left;\n",
       "    }\n",
       "\n",
       "    .dataframe tbody tr th {\n",
       "        vertical-align: top;\n",
       "    }\n",
       "</style>\n",
       "<table border=\"1\" class=\"dataframe\">\n",
       "  <thead>\n",
       "    <tr style=\"text-align: right;\">\n",
       "      <th></th>\n",
       "      <th>place</th>\n",
       "      <th>mass_g</th>\n",
       "    </tr>\n",
       "  </thead>\n",
       "  <tbody>\n",
       "    <tr>\n",
       "      <th>0</th>\n",
       "      <td>Ur</td>\n",
       "      <td>0.00</td>\n",
       "    </tr>\n",
       "    <tr>\n",
       "      <th>1</th>\n",
       "      <td>A-881561</td>\n",
       "      <td>836.87</td>\n",
       "    </tr>\n",
       "    <tr>\n",
       "      <th>2</th>\n",
       "      <td>Wietrzno-Bobrka</td>\n",
       "      <td>376.00</td>\n",
       "    </tr>\n",
       "  </tbody>\n",
       "</table>\n",
       "</div>"
      ],
      "text/plain": [
       "             place  mass_g\n",
       "0               Ur    0.00\n",
       "1         A-881561  836.87\n",
       "2  Wietrzno-Bobrka  376.00"
      ]
     },
     "execution_count": 12,
     "metadata": {},
     "output_type": "execute_result"
    }
   ],
   "source": [
    "df[['place','mass_g']][:3] # Selects the first 3 rows of the place column"
   ]
  },
  {
   "cell_type": "markdown",
   "metadata": {},
   "source": [
    "You can also select multiple columns"
   ]
  },
  {
   "cell_type": "code",
   "execution_count": 13,
   "metadata": {},
   "outputs": [
    {
     "data": {
      "text/html": [
       "<div>\n",
       "<style>\n",
       "    .dataframe thead tr:only-child th {\n",
       "        text-align: right;\n",
       "    }\n",
       "\n",
       "    .dataframe thead th {\n",
       "        text-align: left;\n",
       "    }\n",
       "\n",
       "    .dataframe tbody tr th {\n",
       "        vertical-align: top;\n",
       "    }\n",
       "</style>\n",
       "<table border=\"1\" class=\"dataframe\">\n",
       "  <thead>\n",
       "    <tr style=\"text-align: right;\">\n",
       "      <th></th>\n",
       "      <th>mass_g</th>\n",
       "      <th>year</th>\n",
       "    </tr>\n",
       "  </thead>\n",
       "  <tbody>\n",
       "    <tr>\n",
       "      <th>0</th>\n",
       "      <td>0.00</td>\n",
       "      <td>-2500.0</td>\n",
       "    </tr>\n",
       "    <tr>\n",
       "      <th>1</th>\n",
       "      <td>836.87</td>\n",
       "      <td>1988.0</td>\n",
       "    </tr>\n",
       "    <tr>\n",
       "      <th>2</th>\n",
       "      <td>376.00</td>\n",
       "      <td>-600.0</td>\n",
       "    </tr>\n",
       "  </tbody>\n",
       "</table>\n",
       "</div>"
      ],
      "text/plain": [
       "   mass_g    year\n",
       "0    0.00 -2500.0\n",
       "1  836.87  1988.0\n",
       "2  376.00  -600.0"
      ]
     },
     "execution_count": 13,
     "metadata": {},
     "output_type": "execute_result"
    }
   ],
   "source": [
    "df[['mass_g', 'year']][:3]"
   ]
  },
  {
   "cell_type": "markdown",
   "metadata": {},
   "source": [
    "You can group by values and count using `value_counts`"
   ]
  },
  {
   "cell_type": "code",
   "execution_count": 14,
   "metadata": {},
   "outputs": [
    {
     "data": {
      "text/plain": [
       "L6            6565\n",
       "H5            5620\n",
       "H4            3322\n",
       "H6            3230\n",
       "L5            2732\n",
       "Stone-uncl    1942\n",
       "LL5           1896\n",
       "LL6            961\n",
       "L4             822\n",
       "H4/5           378\n",
       "Name: type_of_meteorite, dtype: int64"
      ]
     },
     "execution_count": 14,
     "metadata": {},
     "output_type": "execute_result"
    }
   ],
   "source": [
    "df['type_of_meteorite'].value_counts()[:10]"
   ]
  },
  {
   "cell_type": "markdown",
   "metadata": {},
   "source": [
    "Columns can also be references using the SQL-like notational of df.column_name. The next cell does the same as the previous one"
   ]
  },
  {
   "cell_type": "code",
   "execution_count": 15,
   "metadata": {},
   "outputs": [
    {
     "data": {
      "text/plain": [
       "L6            6565\n",
       "H5            5620\n",
       "H4            3322\n",
       "H6            3230\n",
       "L5            2732\n",
       "Stone-uncl    1942\n",
       "LL5           1896\n",
       "LL6            961\n",
       "L4             822\n",
       "H4/5           378\n",
       "Name: type_of_meteorite, dtype: int64"
      ]
     },
     "execution_count": 15,
     "metadata": {},
     "output_type": "execute_result"
    }
   ],
   "source": [
    "df.type_of_meteorite.value_counts()[:10]"
   ]
  },
  {
   "cell_type": "markdown",
   "metadata": {},
   "source": [
    "Find the number of meteor impacts where the meteor itself was found"
   ]
  },
  {
   "cell_type": "code",
   "execution_count": 16,
   "metadata": {},
   "outputs": [
    {
     "data": {
      "text/plain": [
       "Found                     33148\n",
       "Fell                       1189\n",
       "Age <70 Ma                    4\n",
       "Age <300 Ma                   4\n",
       "Age <500 Ma                   3\n",
       "Age 290 +/- 20 Ma             2\n",
       "Age <0.1 Ma                   2\n",
       "Age <345 Ma                   2\n",
       "Age <1800 Ma                  2\n",
       "Age 40 +/- 20 Ma              2\n",
       "Age >35 Ma                    2\n",
       "Age <65 Ma                    2\n",
       "Age 49.0 +/- 0.2 Ma           2\n",
       "Age <1000 a                   2\n",
       "Age <1 Ma                     2\n",
       "Age ~455 Ma                   2\n",
       "Age <120 Ma                   2\n",
       "Age ~600 Ma                   2\n",
       "Age ~470 Ma                   2\n",
       "Age <140 Ma                   2\n",
       "Age 145.0 +/- 0.8 Ma          1\n",
       "Age ~590 Ma                   1\n",
       "Age >570 Ma                   1\n",
       "Age ~230 Ma                   1\n",
       "Age 190 +/- 20 Ma             1\n",
       "Age 400 +/- 50 Ma             1\n",
       "Age <5 Ma                     1\n",
       "Age <50 Ma                    1\n",
       "Age <10000 a                  1\n",
       "Age ~1000 Ma                  1\n",
       "                          ...  \n",
       "Age 550 +/- 100 Ma            1\n",
       "Age                           1\n",
       "Age <75 Ma                    1\n",
       "Age >1000 Ma                  1\n",
       "Age 4200 +/- 1900 a           1\n",
       "Age 450 +/- 10 Ma             1\n",
       "Age 46 +/- 3 Ma               1\n",
       "Age 244.40 +/- 3.25 Ma        1\n",
       "Age ~560 Ma                   1\n",
       "Age 46 +/- 7 Ma               1\n",
       "Age 1.07 Ma                   1\n",
       "Age 142.0 +/- 2.6 Ma          1\n",
       "Age <360 Ma                   1\n",
       "Age <50000 a                  1\n",
       "Age 37-56 Ma                  1\n",
       "Age 70.3 +/- 2.2 Ma           1\n",
       "Age <1200 Ma                  1\n",
       "Age >160 +/- 10 Ma            1\n",
       "Age <4000 a                   1\n",
       "Age 455 Ma                    1\n",
       "Age ~0.27 Ma                  1\n",
       "Age 250 +/- 80 Ma             1\n",
       "Age 280 +/- 10 Ma             1\n",
       "Age <170 Ma                   1\n",
       "Age 200 +/- 100 Ma            1\n",
       "Age <505 Ma                   1\n",
       "Age 2023 +/- 4 Ma             1\n",
       "Age 1640 - 600  Ma            1\n",
       "Age 0.25 +/- 0.05 Ma          1\n",
       "Age <1000 Ma                  1\n",
       "Name: fell_found, Length: 155, dtype: int64"
      ]
     },
     "execution_count": 16,
     "metadata": {},
     "output_type": "execute_result"
    }
   ],
   "source": [
    "df.fell_found.value_counts()"
   ]
  },
  {
   "cell_type": "markdown",
   "metadata": {},
   "source": [
    "####Filtering\n",
    "Pandas allows you to filter a dataframe by the values in columns"
   ]
  },
  {
   "cell_type": "code",
   "execution_count": 17,
   "metadata": {},
   "outputs": [
    {
     "data": {
      "text/html": [
       "<div>\n",
       "<style>\n",
       "    .dataframe thead tr:only-child th {\n",
       "        text-align: right;\n",
       "    }\n",
       "\n",
       "    .dataframe thead th {\n",
       "        text-align: left;\n",
       "    }\n",
       "\n",
       "    .dataframe tbody tr th {\n",
       "        vertical-align: top;\n",
       "    }\n",
       "</style>\n",
       "<table border=\"1\" class=\"dataframe\">\n",
       "  <thead>\n",
       "    <tr style=\"text-align: right;\">\n",
       "      <th></th>\n",
       "      <th>place</th>\n",
       "      <th>type_of_meteorite</th>\n",
       "      <th>mass_g</th>\n",
       "      <th>fell_found</th>\n",
       "      <th>year</th>\n",
       "      <th>database</th>\n",
       "      <th>coordinate_1</th>\n",
       "      <th>coordinates_2</th>\n",
       "      <th>cartodb_id</th>\n",
       "      <th>created_at</th>\n",
       "      <th>updated_at</th>\n",
       "      <th>year_date</th>\n",
       "      <th>longitude</th>\n",
       "      <th>latitude</th>\n",
       "      <th>geojson</th>\n",
       "    </tr>\n",
       "  </thead>\n",
       "  <tbody>\n",
       "    <tr>\n",
       "      <th>447</th>\n",
       "      <td>Xifu</td>\n",
       "      <td>Iron, IAB complex</td>\n",
       "      <td>3000000.0</td>\n",
       "      <td>Found</td>\n",
       "      <td>2004.0</td>\n",
       "      <td>http://www.lpi.usra.edu/meteor/metbull.php?cod...</td>\n",
       "      <td>36.30000</td>\n",
       "      <td>120.48333</td>\n",
       "      <td>22</td>\n",
       "      <td>15/02/13 20:56</td>\n",
       "      <td>15/02/13 21:11</td>\n",
       "      <td>01/01/04 00:00</td>\n",
       "      <td>120.48333</td>\n",
       "      <td>36.30000</td>\n",
       "      <td>{\"type\":\"Point\",\"coordinates\":[120.48333,36.3]}</td>\n",
       "    </tr>\n",
       "    <tr>\n",
       "      <th>448</th>\n",
       "      <td>Al Haggounia 001</td>\n",
       "      <td>Aubrite</td>\n",
       "      <td>3000000.0</td>\n",
       "      <td>Found</td>\n",
       "      <td>2006.0</td>\n",
       "      <td>http://www.lpi.usra.edu/meteor/metbull.php?cod...</td>\n",
       "      <td>27.50000</td>\n",
       "      <td>-12.50000</td>\n",
       "      <td>23</td>\n",
       "      <td>15/02/13 20:56</td>\n",
       "      <td>15/02/13 21:11</td>\n",
       "      <td>01/01/06 00:00</td>\n",
       "      <td>-12.50000</td>\n",
       "      <td>27.50000</td>\n",
       "      <td>{\"type\":\"Point\",\"coordinates\":[-12.5,27.5]}</td>\n",
       "    </tr>\n",
       "    <tr>\n",
       "      <th>460</th>\n",
       "      <td>Gebel Kamil</td>\n",
       "      <td>Iron, ungrouped</td>\n",
       "      <td>1600000.0</td>\n",
       "      <td>Found</td>\n",
       "      <td>2009.0</td>\n",
       "      <td>http://www.lpi.usra.edu/meteor/metbull.php?cod...</td>\n",
       "      <td>22.01833</td>\n",
       "      <td>26.08778</td>\n",
       "      <td>35</td>\n",
       "      <td>15/02/13 20:56</td>\n",
       "      <td>15/02/13 21:11</td>\n",
       "      <td>01/01/09 00:00</td>\n",
       "      <td>26.08778</td>\n",
       "      <td>22.01833</td>\n",
       "      <td>{\"type\":\"Point\",\"coordinates\":[26.08778,22.018...</td>\n",
       "    </tr>\n",
       "  </tbody>\n",
       "</table>\n",
       "</div>"
      ],
      "text/plain": [
       "                place  type_of_meteorite     mass_g fell_found    year  \\\n",
       "447              Xifu  Iron, IAB complex  3000000.0      Found  2004.0   \n",
       "448  Al Haggounia 001            Aubrite  3000000.0      Found  2006.0   \n",
       "460       Gebel Kamil    Iron, ungrouped  1600000.0      Found  2009.0   \n",
       "\n",
       "                                              database  coordinate_1  \\\n",
       "447  http://www.lpi.usra.edu/meteor/metbull.php?cod...      36.30000   \n",
       "448  http://www.lpi.usra.edu/meteor/metbull.php?cod...      27.50000   \n",
       "460  http://www.lpi.usra.edu/meteor/metbull.php?cod...      22.01833   \n",
       "\n",
       "     coordinates_2  cartodb_id      created_at      updated_at  \\\n",
       "447      120.48333          22  15/02/13 20:56  15/02/13 21:11   \n",
       "448      -12.50000          23  15/02/13 20:56  15/02/13 21:11   \n",
       "460       26.08778          35  15/02/13 20:56  15/02/13 21:11   \n",
       "\n",
       "          year_date  longitude  latitude  \\\n",
       "447  01/01/04 00:00  120.48333  36.30000   \n",
       "448  01/01/06 00:00  -12.50000  27.50000   \n",
       "460  01/01/09 00:00   26.08778  22.01833   \n",
       "\n",
       "                                               geojson  \n",
       "447    {\"type\":\"Point\",\"coordinates\":[120.48333,36.3]}  \n",
       "448        {\"type\":\"Point\",\"coordinates\":[-12.5,27.5]}  \n",
       "460  {\"type\":\"Point\",\"coordinates\":[26.08778,22.018...  "
      ]
     },
     "execution_count": 17,
     "metadata": {},
     "output_type": "execute_result"
    }
   ],
   "source": [
    "# filter by impacts after 1999, i.e. dataframe where it is true that df.year > 1999\n",
    "after1999 = df[df['year'] > 1999] \n",
    "# only print the 1st 3\n",
    "after1999[:3] "
   ]
  },
  {
   "cell_type": "markdown",
   "metadata": {},
   "source": [
    "Visualise what the above actually does"
   ]
  },
  {
   "cell_type": "code",
   "execution_count": 18,
   "metadata": {
    "scrolled": false
   },
   "outputs": [
    {
     "name": "stdout",
     "output_type": "stream",
     "text": [
      "<<- click over here to reduce framesize of cell output \n",
      "\n",
      "0        False\n",
      "1        False\n",
      "2        False\n",
      "3        False\n",
      "4        False\n",
      "5        False\n",
      "6        False\n",
      "7        False\n",
      "8        False\n",
      "9        False\n",
      "10       False\n",
      "11       False\n",
      "12       False\n",
      "13       False\n",
      "14       False\n",
      "15       False\n",
      "16       False\n",
      "17       False\n",
      "18       False\n",
      "19       False\n",
      "20       False\n",
      "21       False\n",
      "22       False\n",
      "23       False\n",
      "24       False\n",
      "25       False\n",
      "26       False\n",
      "27       False\n",
      "28       False\n",
      "29       False\n",
      "         ...  \n",
      "34483     True\n",
      "34484     True\n",
      "34485     True\n",
      "34486     True\n",
      "34487     True\n",
      "34488     True\n",
      "34489     True\n",
      "34490     True\n",
      "34491     True\n",
      "34492     True\n",
      "34493     True\n",
      "34494     True\n",
      "34495     True\n",
      "34496     True\n",
      "34497     True\n",
      "34498     True\n",
      "34499     True\n",
      "34500     True\n",
      "34501     True\n",
      "34502     True\n",
      "34503     True\n",
      "34504     True\n",
      "34505     True\n",
      "34506     True\n",
      "34507     True\n",
      "34508     True\n",
      "34509     True\n",
      "34510     True\n",
      "34511     True\n",
      "34512     True\n",
      "Name: year, Length: 34513, dtype: bool\n"
     ]
    }
   ],
   "source": [
    "# to minimize the long array we are about to print and keep the notebook tidy\n",
    "# you can click the cell output, just to the left of the index\n",
    "print \"<<- click over here to reduce framesize of cell output \\n\"\n",
    "\n",
    "# filter for after 1999\n",
    "after1999 = df['year'] >1999 \n",
    "# It evaluates the condition (df['year'] >1999) for every row in df and creates a boolean array\n",
    "print after1999\n"
   ]
  },
  {
   "cell_type": "markdown",
   "metadata": {},
   "source": [
    "We can filter on multiple columns"
   ]
  },
  {
   "cell_type": "code",
   "execution_count": 19,
   "metadata": {
    "scrolled": true
   },
   "outputs": [
    {
     "data": {
      "text/html": [
       "<div>\n",
       "<style>\n",
       "    .dataframe thead tr:only-child th {\n",
       "        text-align: right;\n",
       "    }\n",
       "\n",
       "    .dataframe thead th {\n",
       "        text-align: left;\n",
       "    }\n",
       "\n",
       "    .dataframe tbody tr th {\n",
       "        vertical-align: top;\n",
       "    }\n",
       "</style>\n",
       "<table border=\"1\" class=\"dataframe\">\n",
       "  <thead>\n",
       "    <tr style=\"text-align: right;\">\n",
       "      <th></th>\n",
       "      <th>place</th>\n",
       "      <th>type_of_meteorite</th>\n",
       "      <th>mass_g</th>\n",
       "      <th>fell_found</th>\n",
       "      <th>year</th>\n",
       "      <th>database</th>\n",
       "      <th>coordinate_1</th>\n",
       "      <th>coordinates_2</th>\n",
       "      <th>cartodb_id</th>\n",
       "      <th>created_at</th>\n",
       "      <th>updated_at</th>\n",
       "      <th>year_date</th>\n",
       "      <th>longitude</th>\n",
       "      <th>latitude</th>\n",
       "      <th>geojson</th>\n",
       "    </tr>\n",
       "  </thead>\n",
       "  <tbody>\n",
       "    <tr>\n",
       "      <th>497</th>\n",
       "      <td>JaH 073</td>\n",
       "      <td>L6</td>\n",
       "      <td>550000.0</td>\n",
       "      <td>Found</td>\n",
       "      <td>2002.0</td>\n",
       "      <td>http://www.lpi.usra.edu/meteor/metbull.php?cod...</td>\n",
       "      <td>19.70000</td>\n",
       "      <td>55.73333</td>\n",
       "      <td>73</td>\n",
       "      <td>15/02/13 20:56</td>\n",
       "      <td>15/02/13 21:11</td>\n",
       "      <td>01/01/02 00:00</td>\n",
       "      <td>55.73333</td>\n",
       "      <td>19.70000</td>\n",
       "      <td>{\"type\":\"Point\",\"coordinates\":[55.73333,19.7]}</td>\n",
       "    </tr>\n",
       "    <tr>\n",
       "      <th>620</th>\n",
       "      <td>Jalu</td>\n",
       "      <td>L6</td>\n",
       "      <td>150000.0</td>\n",
       "      <td>Found</td>\n",
       "      <td>2000.0</td>\n",
       "      <td>http://www.lpi.usra.edu/meteor/metbull.php?cod...</td>\n",
       "      <td>27.95833</td>\n",
       "      <td>21.68333</td>\n",
       "      <td>195</td>\n",
       "      <td>15/02/13 20:56</td>\n",
       "      <td>15/02/13 21:11</td>\n",
       "      <td>01/01/00 00:00</td>\n",
       "      <td>21.68333</td>\n",
       "      <td>27.95833</td>\n",
       "      <td>{\"type\":\"Point\",\"coordinates\":[21.68333,27.958...</td>\n",
       "    </tr>\n",
       "    <tr>\n",
       "      <th>649</th>\n",
       "      <td>Dho 005</td>\n",
       "      <td>L6</td>\n",
       "      <td>125500.0</td>\n",
       "      <td>Found</td>\n",
       "      <td>2000.0</td>\n",
       "      <td>http://www.lpi.usra.edu/meteor/metbull.php?cod...</td>\n",
       "      <td>18.16667</td>\n",
       "      <td>54.16667</td>\n",
       "      <td>226</td>\n",
       "      <td>15/02/13 20:56</td>\n",
       "      <td>15/02/13 21:11</td>\n",
       "      <td>01/01/00 00:00</td>\n",
       "      <td>54.16667</td>\n",
       "      <td>18.16667</td>\n",
       "      <td>{\"type\":\"Point\",\"coordinates\":[54.16667,18.166...</td>\n",
       "    </tr>\n",
       "  </tbody>\n",
       "</table>\n",
       "</div>"
      ],
      "text/plain": [
       "       place type_of_meteorite    mass_g fell_found    year  \\\n",
       "497  JaH 073                L6  550000.0      Found  2002.0   \n",
       "620     Jalu                L6  150000.0      Found  2000.0   \n",
       "649  Dho 005                L6  125500.0      Found  2000.0   \n",
       "\n",
       "                                              database  coordinate_1  \\\n",
       "497  http://www.lpi.usra.edu/meteor/metbull.php?cod...      19.70000   \n",
       "620  http://www.lpi.usra.edu/meteor/metbull.php?cod...      27.95833   \n",
       "649  http://www.lpi.usra.edu/meteor/metbull.php?cod...      18.16667   \n",
       "\n",
       "     coordinates_2  cartodb_id      created_at      updated_at  \\\n",
       "497       55.73333          73  15/02/13 20:56  15/02/13 21:11   \n",
       "620       21.68333         195  15/02/13 20:56  15/02/13 21:11   \n",
       "649       54.16667         226  15/02/13 20:56  15/02/13 21:11   \n",
       "\n",
       "          year_date  longitude  latitude  \\\n",
       "497  01/01/02 00:00   55.73333  19.70000   \n",
       "620  01/01/00 00:00   21.68333  27.95833   \n",
       "649  01/01/00 00:00   54.16667  18.16667   \n",
       "\n",
       "                                               geojson  \n",
       "497     {\"type\":\"Point\",\"coordinates\":[55.73333,19.7]}  \n",
       "620  {\"type\":\"Point\",\"coordinates\":[21.68333,27.958...  \n",
       "649  {\"type\":\"Point\",\"coordinates\":[54.16667,18.166...  "
      ]
     },
     "execution_count": 19,
     "metadata": {},
     "output_type": "execute_result"
    }
   ],
   "source": [
    "# filter for meteor type\n",
    "mtype = df['type_of_meteorite'] == \"L6\" \n",
    "# apply both filters and show top 3 results\n",
    "df[after1999 & mtype][:3] "
   ]
  },
  {
   "cell_type": "markdown",
   "metadata": {},
   "source": [
    "**Exercise:**<br/>\n",
    "Find all meteor impacts over 20000000g after 1900"
   ]
  },
  {
   "cell_type": "code",
   "execution_count": 76,
   "metadata": {},
   "outputs": [
    {
     "data": {
      "text/html": [
       "<div>\n",
       "<style>\n",
       "    .dataframe thead tr:only-child th {\n",
       "        text-align: right;\n",
       "    }\n",
       "\n",
       "    .dataframe thead th {\n",
       "        text-align: left;\n",
       "    }\n",
       "\n",
       "    .dataframe tbody tr th {\n",
       "        vertical-align: top;\n",
       "    }\n",
       "</style>\n",
       "<table border=\"1\" class=\"dataframe\">\n",
       "  <thead>\n",
       "    <tr style=\"text-align: right;\">\n",
       "      <th></th>\n",
       "      <th>place</th>\n",
       "      <th>type_of_meteorite</th>\n",
       "      <th>mass_g</th>\n",
       "      <th>fell_found</th>\n",
       "      <th>year</th>\n",
       "      <th>database</th>\n",
       "      <th>coordinate_1</th>\n",
       "      <th>coordinates_2</th>\n",
       "      <th>cartodb_id</th>\n",
       "      <th>created_at</th>\n",
       "      <th>updated_at</th>\n",
       "      <th>year_date</th>\n",
       "      <th>longitude</th>\n",
       "      <th>latitude</th>\n",
       "      <th>geojson</th>\n",
       "    </tr>\n",
       "  </thead>\n",
       "  <tbody>\n",
       "    <tr>\n",
       "      <th>426</th>\n",
       "      <td>Hoba</td>\n",
       "      <td>Iron, IVB</td>\n",
       "      <td>60000000.0</td>\n",
       "      <td>Found</td>\n",
       "      <td>1920.0</td>\n",
       "      <td>http://www.lpi.usra.edu/meteor/metbull.php?cod...</td>\n",
       "      <td>-19.58333</td>\n",
       "      <td>17.91667</td>\n",
       "      <td>1</td>\n",
       "      <td>15/02/13 20:56</td>\n",
       "      <td>15/02/13 21:11</td>\n",
       "      <td>01/01/20 00:00</td>\n",
       "      <td>17.91667</td>\n",
       "      <td>-19.58333</td>\n",
       "      <td>{\"type\":\"Point\",\"coordinates\":[17.91667,-19.58...</td>\n",
       "    </tr>\n",
       "    <tr>\n",
       "      <th>433</th>\n",
       "      <td>Mundrabilla</td>\n",
       "      <td>Iron, IAB-ung</td>\n",
       "      <td>24000000.0</td>\n",
       "      <td>Found</td>\n",
       "      <td>1911.0</td>\n",
       "      <td>http://www.lpi.usra.edu/meteor/metbull.php?cod...</td>\n",
       "      <td>-30.78333</td>\n",
       "      <td>127.55000</td>\n",
       "      <td>8</td>\n",
       "      <td>15/02/13 20:56</td>\n",
       "      <td>15/02/13 21:11</td>\n",
       "      <td>01/01/11 00:00</td>\n",
       "      <td>127.55000</td>\n",
       "      <td>-30.78333</td>\n",
       "      <td>{\"type\":\"Point\",\"coordinates\":[127.55,-30.78333]}</td>\n",
       "    </tr>\n",
       "    <tr>\n",
       "      <th>434</th>\n",
       "      <td>Sikhote-Alin</td>\n",
       "      <td>Iron, IIAB</td>\n",
       "      <td>23000000.0</td>\n",
       "      <td>Fell</td>\n",
       "      <td>1947.0</td>\n",
       "      <td>http://www.lpi.usra.edu/meteor/metbull.php?cod...</td>\n",
       "      <td>46.16000</td>\n",
       "      <td>134.65333</td>\n",
       "      <td>9</td>\n",
       "      <td>15/02/13 20:56</td>\n",
       "      <td>15/02/13 21:11</td>\n",
       "      <td>01/01/47 00:00</td>\n",
       "      <td>134.65333</td>\n",
       "      <td>46.16000</td>\n",
       "      <td>{\"type\":\"Point\",\"coordinates\":[134.65333,46.16]}</td>\n",
       "    </tr>\n",
       "  </tbody>\n",
       "</table>\n",
       "</div>"
      ],
      "text/plain": [
       "            place type_of_meteorite      mass_g fell_found    year  \\\n",
       "426          Hoba         Iron, IVB  60000000.0      Found  1920.0   \n",
       "433   Mundrabilla     Iron, IAB-ung  24000000.0      Found  1911.0   \n",
       "434  Sikhote-Alin        Iron, IIAB  23000000.0       Fell  1947.0   \n",
       "\n",
       "                                              database  coordinate_1  \\\n",
       "426  http://www.lpi.usra.edu/meteor/metbull.php?cod...     -19.58333   \n",
       "433  http://www.lpi.usra.edu/meteor/metbull.php?cod...     -30.78333   \n",
       "434  http://www.lpi.usra.edu/meteor/metbull.php?cod...      46.16000   \n",
       "\n",
       "     coordinates_2  cartodb_id      created_at      updated_at  \\\n",
       "426       17.91667           1  15/02/13 20:56  15/02/13 21:11   \n",
       "433      127.55000           8  15/02/13 20:56  15/02/13 21:11   \n",
       "434      134.65333           9  15/02/13 20:56  15/02/13 21:11   \n",
       "\n",
       "          year_date  longitude  latitude  \\\n",
       "426  01/01/20 00:00   17.91667 -19.58333   \n",
       "433  01/01/11 00:00  127.55000 -30.78333   \n",
       "434  01/01/47 00:00  134.65333  46.16000   \n",
       "\n",
       "                                               geojson  \n",
       "426  {\"type\":\"Point\",\"coordinates\":[17.91667,-19.58...  \n",
       "433  {\"type\":\"Point\",\"coordinates\":[127.55,-30.78333]}  \n",
       "434   {\"type\":\"Point\",\"coordinates\":[134.65333,46.16]}  "
      ]
     },
     "execution_count": 76,
     "metadata": {},
     "output_type": "execute_result"
    }
   ],
   "source": [
    "y1900 = df['year']> 1900.0\n",
    "imp207 = df['mass_g']>20000000.0\n",
    "df[y1900 & imp207][:3]"
   ]
  },
  {
   "cell_type": "markdown",
   "metadata": {},
   "source": [
    "####Sorting\n",
    "You can sort a Dataframe by any of the columns"
   ]
  },
  {
   "cell_type": "code",
   "execution_count": 60,
   "metadata": {},
   "outputs": [
    {
     "data": {
      "text/html": [
       "<div>\n",
       "<style>\n",
       "    .dataframe thead tr:only-child th {\n",
       "        text-align: right;\n",
       "    }\n",
       "\n",
       "    .dataframe thead th {\n",
       "        text-align: left;\n",
       "    }\n",
       "\n",
       "    .dataframe tbody tr th {\n",
       "        vertical-align: top;\n",
       "    }\n",
       "</style>\n",
       "<table border=\"1\" class=\"dataframe\">\n",
       "  <thead>\n",
       "    <tr style=\"text-align: right;\">\n",
       "      <th></th>\n",
       "      <th>place</th>\n",
       "      <th>type_of_meteorite</th>\n",
       "      <th>mass_g</th>\n",
       "      <th>fell_found</th>\n",
       "      <th>year</th>\n",
       "      <th>database</th>\n",
       "      <th>coordinate_1</th>\n",
       "      <th>coordinates_2</th>\n",
       "      <th>cartodb_id</th>\n",
       "      <th>created_at</th>\n",
       "      <th>updated_at</th>\n",
       "      <th>year_date</th>\n",
       "      <th>longitude</th>\n",
       "      <th>latitude</th>\n",
       "      <th>geojson</th>\n",
       "    </tr>\n",
       "  </thead>\n",
       "  <tbody>\n",
       "    <tr>\n",
       "      <th>426</th>\n",
       "      <td>Hoba</td>\n",
       "      <td>Iron, IVB</td>\n",
       "      <td>60000000.0</td>\n",
       "      <td>Found</td>\n",
       "      <td>1920.0</td>\n",
       "      <td>http://www.lpi.usra.edu/meteor/metbull.php?cod...</td>\n",
       "      <td>-19.58333</td>\n",
       "      <td>17.91667</td>\n",
       "      <td>1</td>\n",
       "      <td>15/02/13 20:56</td>\n",
       "      <td>15/02/13 21:11</td>\n",
       "      <td>01/01/20 00:00</td>\n",
       "      <td>17.91667</td>\n",
       "      <td>-19.58333</td>\n",
       "      <td>{\"type\":\"Point\",\"coordinates\":[17.91667,-19.58...</td>\n",
       "    </tr>\n",
       "    <tr>\n",
       "      <th>427</th>\n",
       "      <td>Cape York</td>\n",
       "      <td>Iron, IIIAB</td>\n",
       "      <td>58200000.0</td>\n",
       "      <td>Found</td>\n",
       "      <td>1818.0</td>\n",
       "      <td>http://www.lpi.usra.edu/meteor/metbull.php?cod...</td>\n",
       "      <td>76.13333</td>\n",
       "      <td>-64.93333</td>\n",
       "      <td>2</td>\n",
       "      <td>15/02/13 20:56</td>\n",
       "      <td>15/02/13 21:11</td>\n",
       "      <td>1818-01-01 00:00:00</td>\n",
       "      <td>-64.93333</td>\n",
       "      <td>76.13333</td>\n",
       "      <td>{\"type\":\"Point\",\"coordinates\":[-64.93333,76.13...</td>\n",
       "    </tr>\n",
       "    <tr>\n",
       "      <th>428</th>\n",
       "      <td>Campo del Cielo</td>\n",
       "      <td>Iron, IAB-MG</td>\n",
       "      <td>50000000.0</td>\n",
       "      <td>Found</td>\n",
       "      <td>1576.0</td>\n",
       "      <td>http://www.lpi.usra.edu/meteor/metbull.php?cod...</td>\n",
       "      <td>-27.46667</td>\n",
       "      <td>-60.58333</td>\n",
       "      <td>3</td>\n",
       "      <td>15/02/13 20:56</td>\n",
       "      <td>15/02/13 21:11</td>\n",
       "      <td>1576-01-01 00:00:00</td>\n",
       "      <td>-60.58333</td>\n",
       "      <td>-27.46667</td>\n",
       "      <td>{\"type\":\"Point\",\"coordinates\":[-60.58333,-27.4...</td>\n",
       "    </tr>\n",
       "    <tr>\n",
       "      <th>429</th>\n",
       "      <td>Canyon Diablo</td>\n",
       "      <td>Iron, IAB-MG</td>\n",
       "      <td>30000000.0</td>\n",
       "      <td>Found</td>\n",
       "      <td>1891.0</td>\n",
       "      <td>http://www.lpi.usra.edu/meteor/metbull.php?cod...</td>\n",
       "      <td>35.05000</td>\n",
       "      <td>-111.03333</td>\n",
       "      <td>4</td>\n",
       "      <td>15/02/13 20:56</td>\n",
       "      <td>15/02/13 21:11</td>\n",
       "      <td>1891-01-01 00:00:00</td>\n",
       "      <td>-111.03333</td>\n",
       "      <td>35.05000</td>\n",
       "      <td>{\"type\":\"Point\",\"coordinates\":[-111.03333,35.05]}</td>\n",
       "    </tr>\n",
       "    <tr>\n",
       "      <th>430</th>\n",
       "      <td>Armanty</td>\n",
       "      <td>Iron, IIIE</td>\n",
       "      <td>28000000.0</td>\n",
       "      <td>Found</td>\n",
       "      <td>1898.0</td>\n",
       "      <td>http://www.lpi.usra.edu/meteor/metbull.php?cod...</td>\n",
       "      <td>47.00000</td>\n",
       "      <td>88.00000</td>\n",
       "      <td>5</td>\n",
       "      <td>15/02/13 20:56</td>\n",
       "      <td>15/02/13 21:11</td>\n",
       "      <td>1898-01-01 00:00:00</td>\n",
       "      <td>88.00000</td>\n",
       "      <td>47.00000</td>\n",
       "      <td>{\"type\":\"Point\",\"coordinates\":[88,47]}</td>\n",
       "    </tr>\n",
       "  </tbody>\n",
       "</table>\n",
       "</div>"
      ],
      "text/plain": [
       "               place type_of_meteorite      mass_g fell_found    year  \\\n",
       "426             Hoba         Iron, IVB  60000000.0      Found  1920.0   \n",
       "427        Cape York       Iron, IIIAB  58200000.0      Found  1818.0   \n",
       "428  Campo del Cielo      Iron, IAB-MG  50000000.0      Found  1576.0   \n",
       "429    Canyon Diablo      Iron, IAB-MG  30000000.0      Found  1891.0   \n",
       "430          Armanty        Iron, IIIE  28000000.0      Found  1898.0   \n",
       "\n",
       "                                              database  coordinate_1  \\\n",
       "426  http://www.lpi.usra.edu/meteor/metbull.php?cod...     -19.58333   \n",
       "427  http://www.lpi.usra.edu/meteor/metbull.php?cod...      76.13333   \n",
       "428  http://www.lpi.usra.edu/meteor/metbull.php?cod...     -27.46667   \n",
       "429  http://www.lpi.usra.edu/meteor/metbull.php?cod...      35.05000   \n",
       "430  http://www.lpi.usra.edu/meteor/metbull.php?cod...      47.00000   \n",
       "\n",
       "     coordinates_2  cartodb_id      created_at      updated_at  \\\n",
       "426       17.91667           1  15/02/13 20:56  15/02/13 21:11   \n",
       "427      -64.93333           2  15/02/13 20:56  15/02/13 21:11   \n",
       "428      -60.58333           3  15/02/13 20:56  15/02/13 21:11   \n",
       "429     -111.03333           4  15/02/13 20:56  15/02/13 21:11   \n",
       "430       88.00000           5  15/02/13 20:56  15/02/13 21:11   \n",
       "\n",
       "               year_date  longitude  latitude  \\\n",
       "426       01/01/20 00:00   17.91667 -19.58333   \n",
       "427  1818-01-01 00:00:00  -64.93333  76.13333   \n",
       "428  1576-01-01 00:00:00  -60.58333 -27.46667   \n",
       "429  1891-01-01 00:00:00 -111.03333  35.05000   \n",
       "430  1898-01-01 00:00:00   88.00000  47.00000   \n",
       "\n",
       "                                               geojson  \n",
       "426  {\"type\":\"Point\",\"coordinates\":[17.91667,-19.58...  \n",
       "427  {\"type\":\"Point\",\"coordinates\":[-64.93333,76.13...  \n",
       "428  {\"type\":\"Point\",\"coordinates\":[-60.58333,-27.4...  \n",
       "429  {\"type\":\"Point\",\"coordinates\":[-111.03333,35.05]}  \n",
       "430             {\"type\":\"Point\",\"coordinates\":[88,47]}  "
      ]
     },
     "execution_count": 60,
     "metadata": {},
     "output_type": "execute_result"
    }
   ],
   "source": [
    "# Show the (5) heaviest meteor impacts\n",
    "df.sort_values(['mass_g'], ascending=[False])[0:5] "
   ]
  },
  {
   "cell_type": "markdown",
   "metadata": {},
   "source": [
    "# Indexing\n",
    "But be careful. Each entry has an index which it is given as it is read in from the data file. Normally this is sequential but you can confirm this by printing out df.head() and noting that the first (unlabelled) column contains sequential integers. "
   ]
  },
  {
   "cell_type": "code",
   "execution_count": 26,
   "metadata": {},
   "outputs": [
    {
     "data": {
      "text/html": [
       "<div>\n",
       "<style>\n",
       "    .dataframe thead tr:only-child th {\n",
       "        text-align: right;\n",
       "    }\n",
       "\n",
       "    .dataframe thead th {\n",
       "        text-align: left;\n",
       "    }\n",
       "\n",
       "    .dataframe tbody tr th {\n",
       "        vertical-align: top;\n",
       "    }\n",
       "</style>\n",
       "<table border=\"1\" class=\"dataframe\">\n",
       "  <thead>\n",
       "    <tr style=\"text-align: right;\">\n",
       "      <th></th>\n",
       "      <th>place</th>\n",
       "      <th>type_of_meteorite</th>\n",
       "      <th>mass_g</th>\n",
       "      <th>fell_found</th>\n",
       "      <th>year</th>\n",
       "      <th>database</th>\n",
       "      <th>coordinate_1</th>\n",
       "      <th>coordinates_2</th>\n",
       "      <th>cartodb_id</th>\n",
       "      <th>created_at</th>\n",
       "      <th>updated_at</th>\n",
       "      <th>year_date</th>\n",
       "      <th>longitude</th>\n",
       "      <th>latitude</th>\n",
       "      <th>geojson</th>\n",
       "    </tr>\n",
       "  </thead>\n",
       "  <tbody>\n",
       "    <tr>\n",
       "      <th>0</th>\n",
       "      <td>Ur</td>\n",
       "      <td>Iron</td>\n",
       "      <td>0.00</td>\n",
       "      <td>Found</td>\n",
       "      <td>-2500.0</td>\n",
       "      <td>http://www.lpi.usra.edu/meteor/metbull.php?cod...</td>\n",
       "      <td>30.90000</td>\n",
       "      <td>46.01667</td>\n",
       "      <td>34242</td>\n",
       "      <td>15/02/13 20:56</td>\n",
       "      <td>15/02/13 21:04</td>\n",
       "      <td>NaN</td>\n",
       "      <td>46.01667</td>\n",
       "      <td>30.90000</td>\n",
       "      <td>{\"type\":\"Point\",\"coordinates\":[46.01667,30.9]}</td>\n",
       "    </tr>\n",
       "    <tr>\n",
       "      <th>1</th>\n",
       "      <td>A-881561</td>\n",
       "      <td>H4</td>\n",
       "      <td>836.87</td>\n",
       "      <td>Found</td>\n",
       "      <td>1988.0</td>\n",
       "      <td>http://www.lpi.usra.edu/meteor/metbull.php?cod...</td>\n",
       "      <td>-72.00000</td>\n",
       "      <td>26.00000</td>\n",
       "      <td>4141</td>\n",
       "      <td>15/02/13 20:56</td>\n",
       "      <td>15/02/13 21:11</td>\n",
       "      <td>01/01/88 00:00</td>\n",
       "      <td>26.00000</td>\n",
       "      <td>-72.00000</td>\n",
       "      <td>{\"type\":\"Point\",\"coordinates\":[26,-72]}</td>\n",
       "    </tr>\n",
       "    <tr>\n",
       "      <th>2</th>\n",
       "      <td>Wietrzno-Bobrka</td>\n",
       "      <td>Iron</td>\n",
       "      <td>376.00</td>\n",
       "      <td>Found</td>\n",
       "      <td>-600.0</td>\n",
       "      <td>http://www.lpi.usra.edu/meteor/metbull.php?cod...</td>\n",
       "      <td>49.41667</td>\n",
       "      <td>21.70000</td>\n",
       "      <td>6037</td>\n",
       "      <td>15/02/13 20:56</td>\n",
       "      <td>15/02/13 21:04</td>\n",
       "      <td>NaN</td>\n",
       "      <td>21.70000</td>\n",
       "      <td>49.41667</td>\n",
       "      <td>{\"type\":\"Point\",\"coordinates\":[21.7,49.41667]}</td>\n",
       "    </tr>\n",
       "    <tr>\n",
       "      <th>3</th>\n",
       "      <td>A-881448</td>\n",
       "      <td>H4</td>\n",
       "      <td>341.27</td>\n",
       "      <td>Found</td>\n",
       "      <td>1988.0</td>\n",
       "      <td>http://www.lpi.usra.edu/meteor/metbull.php?cod...</td>\n",
       "      <td>-72.00000</td>\n",
       "      <td>26.00000</td>\n",
       "      <td>6340</td>\n",
       "      <td>15/02/13 20:56</td>\n",
       "      <td>15/02/13 21:11</td>\n",
       "      <td>01/01/88 00:00</td>\n",
       "      <td>26.00000</td>\n",
       "      <td>-72.00000</td>\n",
       "      <td>{\"type\":\"Point\",\"coordinates\":[26,-72]}</td>\n",
       "    </tr>\n",
       "    <tr>\n",
       "      <th>4</th>\n",
       "      <td>A-881813</td>\n",
       "      <td>L6</td>\n",
       "      <td>296.96</td>\n",
       "      <td>Found</td>\n",
       "      <td>1988.0</td>\n",
       "      <td>http://www.lpi.usra.edu/meteor/metbull.php?cod...</td>\n",
       "      <td>-72.00000</td>\n",
       "      <td>26.00000</td>\n",
       "      <td>6753</td>\n",
       "      <td>15/02/13 20:56</td>\n",
       "      <td>15/02/13 21:11</td>\n",
       "      <td>01/01/88 00:00</td>\n",
       "      <td>26.00000</td>\n",
       "      <td>-72.00000</td>\n",
       "      <td>{\"type\":\"Point\",\"coordinates\":[26,-72]}</td>\n",
       "    </tr>\n",
       "  </tbody>\n",
       "</table>\n",
       "</div>"
      ],
      "text/plain": [
       "             place type_of_meteorite  mass_g fell_found    year  \\\n",
       "0               Ur              Iron    0.00      Found -2500.0   \n",
       "1         A-881561                H4  836.87      Found  1988.0   \n",
       "2  Wietrzno-Bobrka              Iron  376.00      Found  -600.0   \n",
       "3         A-881448                H4  341.27      Found  1988.0   \n",
       "4         A-881813                L6  296.96      Found  1988.0   \n",
       "\n",
       "                                            database  coordinate_1  \\\n",
       "0  http://www.lpi.usra.edu/meteor/metbull.php?cod...      30.90000   \n",
       "1  http://www.lpi.usra.edu/meteor/metbull.php?cod...     -72.00000   \n",
       "2  http://www.lpi.usra.edu/meteor/metbull.php?cod...      49.41667   \n",
       "3  http://www.lpi.usra.edu/meteor/metbull.php?cod...     -72.00000   \n",
       "4  http://www.lpi.usra.edu/meteor/metbull.php?cod...     -72.00000   \n",
       "\n",
       "   coordinates_2  cartodb_id      created_at      updated_at       year_date  \\\n",
       "0       46.01667       34242  15/02/13 20:56  15/02/13 21:04             NaN   \n",
       "1       26.00000        4141  15/02/13 20:56  15/02/13 21:11  01/01/88 00:00   \n",
       "2       21.70000        6037  15/02/13 20:56  15/02/13 21:04             NaN   \n",
       "3       26.00000        6340  15/02/13 20:56  15/02/13 21:11  01/01/88 00:00   \n",
       "4       26.00000        6753  15/02/13 20:56  15/02/13 21:11  01/01/88 00:00   \n",
       "\n",
       "   longitude  latitude                                         geojson  \n",
       "0   46.01667  30.90000  {\"type\":\"Point\",\"coordinates\":[46.01667,30.9]}  \n",
       "1   26.00000 -72.00000         {\"type\":\"Point\",\"coordinates\":[26,-72]}  \n",
       "2   21.70000  49.41667  {\"type\":\"Point\",\"coordinates\":[21.7,49.41667]}  \n",
       "3   26.00000 -72.00000         {\"type\":\"Point\",\"coordinates\":[26,-72]}  \n",
       "4   26.00000 -72.00000         {\"type\":\"Point\",\"coordinates\":[26,-72]}  "
      ]
     },
     "execution_count": 26,
     "metadata": {},
     "output_type": "execute_result"
    }
   ],
   "source": [
    "df.head()"
   ]
  },
  {
   "cell_type": "markdown",
   "metadata": {},
   "source": [
    "^ These labels remain the same even after you have sorted the data, so the label of the top entry when sorted by `mass_g` is then not 0 but 426, meaning the 426th entry in the data set is the heaviest meteor. In the next cell, experiment with `.ix` and `.iloc`"
   ]
  },
  {
   "cell_type": "code",
   "execution_count": 72,
   "metadata": {},
   "outputs": [
    {
     "name": "stdout",
     "output_type": "stream",
     "text": [
      "60000000.0 \n",
      "\n",
      "60000000.0\n"
     ]
    },
    {
     "name": "stderr",
     "output_type": "stream",
     "text": [
      "/opt/anaconda/envs/Python2/lib/python2.7/site-packages/ipykernel/__main__.py:3: DeprecationWarning: \n",
      ".ix is deprecated. Please use\n",
      ".loc for label based indexing or\n",
      ".iloc for positional indexing\n",
      "\n",
      "See the documentation here:\n",
      "http://pandas.pydata.org/pandas-docs/stable/indexing.html#deprecate_ix\n",
      "  app.launch_new_instance()\n"
     ]
    }
   ],
   "source": [
    "#In both cases, we sort the original dataframe by mass with the heaviest first, as was done above. \n",
    "#In the first case, we ask for the mass of the meteor with index 426 (.ix[426]['mass_g'])\n",
    "print (df.sort_values(['mass_g'], ascending=[False]).ix[426])['mass_g'],\"\\n\"\n",
    "\n",
    "#In the second case, we use the (sequential) index location or iloc\n",
    "print (df.sort_values(['mass_g'], ascending=[False]).iloc[0])['mass_g']"
   ]
  },
  {
   "cell_type": "markdown",
   "metadata": {},
   "source": [
    "We can also access columns with `.ix` or `.iloc` by adding a second argument"
   ]
  },
  {
   "cell_type": "code",
   "execution_count": 73,
   "metadata": {
    "scrolled": true
   },
   "outputs": [
    {
     "data": {
      "text/plain": [
       "426      60000000.0\n",
       "427      58200000.0\n",
       "428      50000000.0\n",
       "429      30000000.0\n",
       "430      28000000.0\n",
       "431      26000000.0\n",
       "432      24300000.0\n",
       "433      24000000.0\n",
       "434      23000000.0\n",
       "435      22000000.0\n",
       "436      16000000.0\n",
       "437      15500000.0\n",
       "438      10100000.0\n",
       "439       9500000.0\n",
       "440       8600000.0\n",
       "441       7000000.0\n",
       "442       5360000.0\n",
       "443       4300000.0\n",
       "444       4000000.0\n",
       "445       3828000.0\n",
       "446       3000000.0\n",
       "448       3000000.0\n",
       "447       3000000.0\n",
       "449       2753000.0\n",
       "450       2550000.0\n",
       "451       2300000.0\n",
       "452       2184000.0\n",
       "453       2100000.0\n",
       "454       2000000.0\n",
       "455       2000000.0\n",
       "            ...    \n",
       "281             0.0\n",
       "305             0.0\n",
       "307             0.0\n",
       "333             0.0\n",
       "321             0.0\n",
       "332             0.0\n",
       "331             0.0\n",
       "330             0.0\n",
       "329             0.0\n",
       "328             0.0\n",
       "327             0.0\n",
       "326             0.0\n",
       "325             0.0\n",
       "324             0.0\n",
       "323             0.0\n",
       "322             0.0\n",
       "320             0.0\n",
       "308             0.0\n",
       "319             0.0\n",
       "318             0.0\n",
       "317             0.0\n",
       "316             0.0\n",
       "315             0.0\n",
       "314             0.0\n",
       "313             0.0\n",
       "312             0.0\n",
       "311             0.0\n",
       "310             0.0\n",
       "309             0.0\n",
       "34512           0.0\n",
       "Name: mass_g, Length: 34513, dtype: float64"
      ]
     },
     "execution_count": 73,
     "metadata": {},
     "output_type": "execute_result"
    }
   ],
   "source": [
    "# sorted dataframe and print all rows of third columns\n",
    "df.sort_values(['mass_g'], ascending=[False]).iloc[:, 2]"
   ]
  },
  {
   "cell_type": "code",
   "execution_count": 74,
   "metadata": {},
   "outputs": [
    {
     "name": "stdout",
     "output_type": "stream",
     "text": [
      "426    60000000.0\n",
      "427    58200000.0\n",
      "428    50000000.0\n",
      "429    30000000.0\n",
      "430    28000000.0\n",
      "431    26000000.0\n",
      "432    24300000.0\n",
      "433    24000000.0\n",
      "434    23000000.0\n",
      "435    22000000.0\n",
      "436    16000000.0\n",
      "437    15500000.0\n",
      "438    10100000.0\n",
      "439     9500000.0\n",
      "440     8600000.0\n",
      "Name: mass_g, dtype: float64\n"
     ]
    }
   ],
   "source": [
    "#Tying this together, the following script will print out the masses of the heaviest 15 meteors\n",
    "mass_sorted_df = df.sort_values(['mass_g'], ascending=[False])\n",
    "print (mass_sorted_df.iloc[:15])['mass_g']"
   ]
  },
  {
   "cell_type": "markdown",
   "metadata": {},
   "source": [
    "###Numpy\n",
    "Provides multi-dimensional arrays (e.g. vectors, matrices, ...)"
   ]
  },
  {
   "cell_type": "code",
   "execution_count": 32,
   "metadata": {
    "collapsed": true
   },
   "outputs": [],
   "source": [
    "import numpy as np"
   ]
  },
  {
   "cell_type": "markdown",
   "metadata": {},
   "source": [
    "Numpy makes it very easy to create multi-dimensional arrays"
   ]
  },
  {
   "cell_type": "code",
   "execution_count": 33,
   "metadata": {},
   "outputs": [
    {
     "name": "stdout",
     "output_type": "stream",
     "text": [
      "Zeros\n",
      "[ 0.  0.  0.]\n",
      "Ones\n",
      "[[ 1.  1.  1.  1.]\n",
      " [ 1.  1.  1.  1.]\n",
      " [ 1.  1.  1.  1.]]\n",
      "Array\n",
      "[[1 2 3]\n",
      " [4 5 6]]\n"
     ]
    }
   ],
   "source": [
    "# zero vector\n",
    "v = np.zeros(3)\n",
    "# n by m matrix of ones\n",
    "M = np.ones((3,4))\n",
    "# array of arrays\n",
    "A = np.array([[1,2,3],[4,5,6]]) \n",
    "print \"Zeros\\n\", v\n",
    "print \"Ones\\n\", M\n",
    "print \"Array\\n\", A"
   ]
  },
  {
   "cell_type": "markdown",
   "metadata": {},
   "source": [
    "It can also create arrays based on a range"
   ]
  },
  {
   "cell_type": "code",
   "execution_count": 34,
   "metadata": {},
   "outputs": [
    {
     "name": "stdout",
     "output_type": "stream",
     "text": [
      "[0 1 2 3 4 5 6 7 8 9]\n"
     ]
    }
   ],
   "source": [
    "x = np.arange(10)\n",
    "print x"
   ]
  },
  {
   "cell_type": "markdown",
   "metadata": {},
   "source": [
    "And you can reshape an array"
   ]
  },
  {
   "cell_type": "code",
   "execution_count": 35,
   "metadata": {},
   "outputs": [
    {
     "name": "stdout",
     "output_type": "stream",
     "text": [
      "[[ 0  1  2]\n",
      " [ 3  4  5]\n",
      " [ 6  7  8]\n",
      " [ 9 10 11]] \n",
      "\n",
      "[[ 0  1  2  3]\n",
      " [ 4  5  6  7]\n",
      " [ 8  9 10 11]]\n"
     ]
    }
   ],
   "source": [
    "b = np.arange(12).reshape(4,3)\n",
    "print b,\"\\n\"\n",
    "\n",
    "b = b.reshape(3,4)\n",
    "print b"
   ]
  },
  {
   "cell_type": "markdown",
   "metadata": {},
   "source": [
    "The values can easily be manipulated"
   ]
  },
  {
   "cell_type": "code",
   "execution_count": 36,
   "metadata": {},
   "outputs": [
    {
     "name": "stdout",
     "output_type": "stream",
     "text": [
      "[0 1 2 3]\n",
      "[0 1 4 9]\n",
      "[ True  True False False]\n"
     ]
    }
   ],
   "source": [
    "b = np.arange(4)\n",
    "print b\n",
    "print b**2\n",
    "print b < 2"
   ]
  },
  {
   "cell_type": "markdown",
   "metadata": {},
   "source": [
    "And be created from a random uniform distribution"
   ]
  },
  {
   "cell_type": "code",
   "execution_count": 37,
   "metadata": {},
   "outputs": [
    {
     "name": "stdout",
     "output_type": "stream",
     "text": [
      "[ 0.15854946  0.9492781   0.95123043  0.96095142  0.4331061   0.46518332\n",
      "  0.56658442  0.8428069   0.57971883  0.05668476]\n"
     ]
    }
   ],
   "source": [
    "y = np.random.uniform(size=10) \n",
    "print y "
   ]
  },
  {
   "cell_type": "markdown",
   "metadata": {},
   "source": [
    "And even create the identity matrix"
   ]
  },
  {
   "cell_type": "code",
   "execution_count": 38,
   "metadata": {},
   "outputs": [
    {
     "data": {
      "text/plain": [
       "array([[ 1.,  0.,  0.,  0.],\n",
       "       [ 0.,  1.,  0.,  0.],\n",
       "       [ 0.,  0.,  1.,  0.],\n",
       "       [ 0.,  0.,  0.,  1.]])"
      ]
     },
     "execution_count": 38,
     "metadata": {},
     "output_type": "execute_result"
    }
   ],
   "source": [
    "np.identity(4)"
   ]
  },
  {
   "cell_type": "markdown",
   "metadata": {},
   "source": [
    "**Exercise:**<br/>\n",
    "Create an 3x3 array with random uniform values"
   ]
  },
  {
   "cell_type": "code",
   "execution_count": 77,
   "metadata": {},
   "outputs": [
    {
     "name": "stdout",
     "output_type": "stream",
     "text": [
      "[[ 0.80983377  0.94627078  0.30651279]\n",
      " [ 0.78736605  0.64869862  0.5615531 ]\n",
      " [ 0.16769492  0.27282765  0.27087008]]\n"
     ]
    }
   ],
   "source": [
    "y = np.random.uniform(size=9).reshape(3,3)\n",
    "print y"
   ]
  },
  {
   "cell_type": "markdown",
   "metadata": {},
   "source": [
    "NumPy speeds up loops <i>a lot</i>, because it pushes loops into it's compiled layers. You can make use of this by using numpy arrays rather than python lists, and using:\n",
    "1. <b><a href=http://docs.scipy.org/doc/numpy/reference/ufuncs.html>Ufuncs</a></b> for element-wise operations on arrays\n",
    "2. <b>Aggregations</b> for summarizing the values of an array (e.g. np.min, np.max, np.sum, np.mean)\n",
    "3. <b><a href=http://scipy.github.io/old-wiki/pages/EricsBroadcastingDoc>Broadcasting</a></b> for combining arrays\n",
    "4. <b><a href=http://docs.scipy.org/doc/numpy/reference/arrays.indexing.html>Indexing and slciing</a></b> as discussed above\n",
    "> There is an  <a href=http://nbviewer.ipython.org/github/jrjohansson/scientific-python-lectures/blob/master/Lecture-2-Numpy.ipynb> alternative intro to numpy here</a> by J.R. Johansson\n",
    "    "
   ]
  },
  {
   "cell_type": "markdown",
   "metadata": {},
   "source": [
    "### Matplotlib\n",
    "Matplotlib is a 2D plotting library that makes it very easy to create a variety of interesting charts.<br>\n",
    "These examples show the basics of what Matplotlib can do. It can do so much more. Check out its documentation to see more (http://matplotlib.org/)"
   ]
  },
  {
   "cell_type": "code",
   "execution_count": 40,
   "metadata": {},
   "outputs": [
    {
     "name": "stderr",
     "output_type": "stream",
     "text": [
      "/opt/anaconda/envs/Python2/lib/python2.7/site-packages/IPython/core/interactiveshell.py:2881: FutureWarning: \n",
      "mpl_style had been deprecated and will be removed in a future version.\n",
      "Use `matplotlib.pyplot.style.use` instead.\n",
      "\n",
      "  exec(code_obj, self.user_global_ns, self.user_ns)\n"
     ]
    }
   ],
   "source": [
    "# Render our plots inline\n",
    "%matplotlib inline\n",
    "\n",
    "# Import the necessary modules\n",
    "import matplotlib.pyplot as plt\n",
    "\n",
    "# Make the graphs a bit prettier\n",
    "pd.set_option('display.mpl_style', 'default') \n",
    "# set the size of the output\n",
    "plt.rcParams['figure.figsize'] = (15, 5) "
   ]
  },
  {
   "cell_type": "markdown",
   "metadata": {},
   "source": [
    "Let's create our first chart"
   ]
  },
  {
   "cell_type": "code",
   "execution_count": 41,
   "metadata": {},
   "outputs": [
    {
     "name": "stderr",
     "output_type": "stream",
     "text": [
      "/opt/anaconda/envs/Python2/lib/python2.7/site-packages/matplotlib/font_manager.py:1297: UserWarning: findfont: Font family [u'monospace'] not found. Falling back to DejaVu Sans\n",
      "  (prop.get_family(), self.defaultFamily[fontext]))\n"
     ]
    },
    {
     "data": {
      "image/png": "[encoded data removed]",
      "text/plain": [
       "<matplotlib.figure.Figure at 0x7f97d3d8c150>"
      ]
     },
     "metadata": {},
     "output_type": "display_data"
    }
   ],
   "source": [
    "# np.linspace returns num evenly spaced numbers over the specified interval 0-3π\n",
    "x = np.linspace(0, 3*np.pi, num=500)\n",
    "#numpy contains functions such as sin, cos and exp which are called by np.sin, np.cos etc\n",
    "plt.plot(x, np.sin(x**2))\n",
    "# add a title, axis labels and a legend\n",
    "plt.title('Our first chart')\n",
    "plt.xlabel('x-values', fontsize=15)\n",
    "plt.ylabel('y-values', fontsize=15)\n",
    "plt.legend(['Squiggle'])\n",
    "plt.show()"
   ]
  },
  {
   "cell_type": "markdown",
   "metadata": {},
   "source": [
    "And a scatter plot"
   ]
  },
  {
   "cell_type": "code",
   "execution_count": 42,
   "metadata": {},
   "outputs": [
    {
     "data": {
      "image/png": "[encoded data removed]",
      "text/plain": [
       "<matplotlib.figure.Figure at 0x7f97d06d38d0>"
      ]
     },
     "metadata": {},
     "output_type": "display_data"
    }
   ],
   "source": [
    "N = 50\n",
    "x = np.random.rand(N)\n",
    "y = np.random.rand(N)\n",
    "# 0 to 15 point radiuses\n",
    "area = np.pi * (15 * np.random.rand(N))**2 \n",
    "plt.scatter(x, y, s=area, alpha=0.5)\n",
    "plt.show()"
   ]
  },
  {
   "cell_type": "markdown",
   "metadata": {},
   "source": [
    "Let's create a scatter plot from our pandas dataframe showing the mass of the meteors against time (after 1950)"
   ]
  },
  {
   "cell_type": "code",
   "execution_count": 43,
   "metadata": {},
   "outputs": [
    {
     "data": {
      "image/png": "[encoded data removed]",
      "text/plain": [
       "<matplotlib.figure.Figure at 0x7f97cf626790>"
      ]
     },
     "metadata": {},
     "output_type": "display_data"
    }
   ],
   "source": [
    "after1950 = df[df['year'] > 1950] # only show data after 1950\n",
    "plt.scatter(after1950['year'], after1950['mass_g'])\n",
    "plt.show()"
   ]
  },
  {
   "cell_type": "markdown",
   "metadata": {},
   "source": [
    "We can also create line charts"
   ]
  },
  {
   "cell_type": "code",
   "execution_count": 44,
   "metadata": {},
   "outputs": [
    {
     "data": {
      "image/png": "[encoded data removed]",
      "text/plain": [
       "<matplotlib.figure.Figure at 0x7f97cf5703d0>"
      ]
     },
     "metadata": {},
     "output_type": "display_data"
    }
   ],
   "source": [
    "a = np.array([0, 1, 2,3,4])\n",
    "plt.plot(a, np.exp(a), '-', linewidth=3)\n",
    "plt.show()"
   ]
  },
  {
   "cell_type": "markdown",
   "metadata": {},
   "source": [
    "We can plot the meteors mass against year"
   ]
  },
  {
   "cell_type": "code",
   "execution_count": 78,
   "metadata": {},
   "outputs": [
    {
     "data": {
      "image/png": "[encoded data removed]",
      "text/plain": [
       "<matplotlib.figure.Figure at 0x7f97cf4a70d0>"
      ]
     },
     "metadata": {},
     "output_type": "display_data"
    }
   ],
   "source": [
    "heavy = df['mass_g'] > 25000 #creates True/False array\n",
    "recent = df['year'] > 1900 #creates another True/False array\n",
    "meteors = df[heavy & recent].sort_values(['year'], ascending=[True])\n",
    "\n",
    "plt.plot(meteors.year, meteors.mass_g, linewidth=2)\n",
    "plt.show()"
   ]
  },
  {
   "cell_type": "markdown",
   "metadata": {},
   "source": [
    "Matplotlib also supports bar charts. We can plot the count of various different meteor types"
   ]
  },
  {
   "cell_type": "code",
   "execution_count": 46,
   "metadata": {},
   "outputs": [
    {
     "data": {
      "image/png": "[encoded data removed]",
      "text/plain": [
       "<matplotlib.figure.Figure at 0x7f97cf4c4850>"
      ]
     },
     "metadata": {},
     "output_type": "display_data"
    }
   ],
   "source": [
    "df.fell_found.value_counts()[:10].plot(kind='bar')\n",
    "plt.show()"
   ]
  },
  {
   "cell_type": "markdown",
   "metadata": {},
   "source": [
    "**Exercise**:<br>\n",
    "Plot a bar chart showing the breakdown of fell vs. found"
   ]
  },
  {
   "cell_type": "code",
   "execution_count": 51,
   "metadata": {},
   "outputs": [
    {
     "data": {
      "image/png": "[encoded data removed]",
      "text/plain": [
       "<matplotlib.figure.Figure at 0x7f97cf1ea1d0>"
      ]
     },
     "metadata": {},
     "output_type": "display_data"
    }
   ],
   "source": [
    "df.fell_found.value_counts()[:2].plot(kind='bar')\n",
    "plt.show()"
   ]
  },
  {
   "cell_type": "markdown",
   "metadata": {},
   "source": [
    "There is a more extensive <a href=http://nbviewer.ipython.org/github/jrjohansson/scientific-python-lectures/blob/master/Lecture-4-Matplotlib.ipynb>intro to matplotlib here</a> by J.R. Johansson"
   ]
  },
  {
   "cell_type": "markdown",
   "metadata": {},
   "source": [
    "###More notebook tips\n",
    "Notebooks allows for more than printing and plotting charts. \n",
    "e.g. you can:\n",
    "- write in LaTeX and other languages\n",
    "- add images, webpages and videos\n",
    "- add DOM elements with html and javascript"
   ]
  },
  {
   "cell_type": "markdown",
   "metadata": {},
   "source": [
    "We already used the 'line magic' `%matplotlib inline` to display charts in the notebook. There are many other useful line magics"
   ]
  },
  {
   "cell_type": "code",
   "execution_count": 53,
   "metadata": {},
   "outputs": [
    {
     "name": "stdout",
     "output_type": "stream",
     "text": [
      "The slowest run took 10.87 times longer than the fastest. This could mean that an intermediate result is being cached.\n",
      "1000000 loops, best of 3: 1.47 µs per loop\n"
     ]
    }
   ],
   "source": [
    "# e.g. use %timeit to see how long a line of code take to run\n",
    "# alternatively try using %prun \n",
    "a = np.array(range(1000))\n",
    "%timeit a + 5"
   ]
  },
  {
   "cell_type": "markdown",
   "metadata": {},
   "source": [
    "Other potentially useful line magics are `%%html` and `%load_ext` for loading in `rmagic`, which uses various line magic commands to run R code in notebooks. <a hreaf=http://nbviewer.ipython.org/github/ipython/ipython/blob/1.x/examples/notebooks/R%20Magics.ipynb>More on running R in Notebooks here</a>"
   ]
  },
  {
   "cell_type": "code",
   "execution_count": 54,
   "metadata": {
    "collapsed": true
   },
   "outputs": [],
   "source": [
    "# import in-built ipythons functions for richer printing and for writing html and LaTex in code cells\n",
    "from IPython.display import display, HTML, Latex\n"
   ]
  },
  {
   "cell_type": "code",
   "execution_count": 83,
   "metadata": {},
   "outputs": [
    {
     "data": {
      "text/latex": [
       "\\begin{eqnarray}\n",
       "\\nabla \\times \\vec{\\mathbf{B}} -\\, \\frac1c\\, \\frac{\\partial\\vec{\\mathbf{E}}}{\\partial t} & = \\frac{4\\pi}{c}\\vec{\\mathbf{j}} \\\\\n",
       "\\nabla \\cdot \\vec{\\mathbf{E}} & = 4 \\pi \\rho \\\\\n",
       "\\nabla \\times \\vec{\\mathbf{E}}\\, +\\, \\frac1c\\, \\frac{\\partial\\vec{\\mathbf{B}}}{\\partial t} & = \\vec{\\mathbf{0}} \\\\\n",
       "\\nabla \\cdot \\vec{\\mathbf{B}} & = 0 \\\\\n",
       "C  = \\sum ^N_{i=1}(y_i - \\hat{y_i}) ^2 \n",
       "\\end{eqnarray}"
      ],
      "text/plain": [
       "<IPython.core.display.Latex object>"
      ]
     },
     "execution_count": 83,
     "metadata": {},
     "output_type": "execute_result"
    }
   ],
   "source": [
    "# use the Latex function to write it in code cells\n",
    "Latex(r\"\"\"\\begin{eqnarray}\n",
    "\\nabla \\times \\vec{\\mathbf{B}} -\\, \\frac1c\\, \\frac{\\partial\\vec{\\mathbf{E}}}{\\partial t} & = \\frac{4\\pi}{c}\\vec{\\mathbf{j}} \\\\\n",
    "\\nabla \\cdot \\vec{\\mathbf{E}} & = 4 \\pi \\rho \\\\\n",
    "\\nabla \\times \\vec{\\mathbf{E}}\\, +\\, \\frac1c\\, \\frac{\\partial\\vec{\\mathbf{B}}}{\\partial t} & = \\vec{\\mathbf{0}} \\\\\n",
    "\\nabla \\cdot \\vec{\\mathbf{B}} & = 0 \\\\\n",
    "C  = \\sum ^N_{i=1}(y_i - \\hat{y_i}) ^2 \n",
    "\\end{eqnarray}\"\"\")\n",
    " "
   ]
  },
  {
   "cell_type": "markdown",
   "metadata": {},
   "source": [
    "Alternatively write standard `LaTex` in markdown cells by enclosing it in <i>$</i> symbols (click to open the cell and look at what we typed):\n",
    "\n",
    "$C =  \\Sigma_{i=1}^{N} (y_i - \\hat{y}_i)^2$"
   ]
  },
  {
   "cell_type": "code",
   "execution_count": 84,
   "metadata": {},
   "outputs": [
    {
     "name": "stdout",
     "output_type": "stream",
     "text": [
      "             place\n",
      "0               Ur\n",
      "1         A-881561\n",
      "2  Wietrzno-Bobrka\n"
     ]
    },
    {
     "data": {
      "text/html": [
       "<div>\n",
       "<style>\n",
       "    .dataframe thead tr:only-child th {\n",
       "        text-align: right;\n",
       "    }\n",
       "\n",
       "    .dataframe thead th {\n",
       "        text-align: left;\n",
       "    }\n",
       "\n",
       "    .dataframe tbody tr th {\n",
       "        vertical-align: top;\n",
       "    }\n",
       "</style>\n",
       "<table border=\"1\" class=\"dataframe\">\n",
       "  <thead>\n",
       "    <tr style=\"text-align: right;\">\n",
       "      <th></th>\n",
       "      <th>place</th>\n",
       "    </tr>\n",
       "  </thead>\n",
       "  <tbody>\n",
       "    <tr>\n",
       "      <th>0</th>\n",
       "      <td>Ur</td>\n",
       "    </tr>\n",
       "    <tr>\n",
       "      <th>1</th>\n",
       "      <td>A-881561</td>\n",
       "    </tr>\n",
       "    <tr>\n",
       "      <th>2</th>\n",
       "      <td>Wietrzno-Bobrka</td>\n",
       "    </tr>\n",
       "  </tbody>\n",
       "</table>\n",
       "</div>"
      ],
      "text/plain": [
       "             place\n",
       "0               Ur\n",
       "1         A-881561\n",
       "2  Wietrzno-Bobrka"
      ]
     },
     "metadata": {},
     "output_type": "display_data"
    }
   ],
   "source": [
    "# use display() to ensure the most appropriate display of information \n",
    "# e.g. compare output of print() to display()\n",
    "print(df[['place']][:3])\n",
    "\n",
    "display(df[['place']][:3])"
   ]
  },
  {
   "cell_type": "code",
   "execution_count": 85,
   "metadata": {},
   "outputs": [
    {
     "data": {
      "text/html": [
       "<iframe src=http://www.datatau.com/ width=900 height=500></iframe>"
      ],
      "text/plain": [
       "<IPython.core.display.HTML object>"
      ]
     },
     "execution_count": 85,
     "metadata": {},
     "output_type": "execute_result"
    }
   ],
   "source": [
    "# use html to embed a webpage\n",
    "HTML('<iframe src=http://www.datatau.com/ width=900 height=500></iframe>')"
   ]
  },
  {
   "cell_type": "code",
   "execution_count": 86,
   "metadata": {},
   "outputs": [
    {
     "data": {
      "text/html": [
       "\n",
       "<h1>Hello Fellows</h1>\n",
       "\n",
       "<style>\n",
       ".asi {\n",
       "  color: #56B4E9;\n",
       "  font: 18px sans;\n",
       "}\n",
       "</style>\n",
       "\n",
       "<h1 class=\"asi\">Good luck on the fellowship!</h1>\n"
      ],
      "text/plain": [
       "<IPython.core.display.HTML object>"
      ]
     },
     "execution_count": 86,
     "metadata": {},
     "output_type": "execute_result"
    }
   ],
   "source": [
    "HTML('''\n",
    "<h1>Hello Fellows</h1>\n",
    "\n",
    "<style>\n",
    ".asi {\n",
    "  color: #56B4E9;\n",
    "  font: 18px sans;\n",
    "}\n",
    "</style>\n",
    "\n",
    "<h1 class=\"asi\">Good luck on the fellowship!</h1>\n",
    "''')"
   ]
  },
  {
   "cell_type": "markdown",
   "metadata": {},
   "source": [
    "####In all the other notebooks we will import all the modules at the top"
   ]
  },
  {
   "cell_type": "markdown",
   "metadata": {},
   "source": [
    "####Answers to exercises"
   ]
  },
  {
   "cell_type": "markdown",
   "metadata": {},
   "source": [
    "Find all meteor impacts over 20000000g after 1900"
   ]
  },
  {
   "cell_type": "code",
   "execution_count": 87,
   "metadata": {},
   "outputs": [
    {
     "data": {
      "text/html": [
       "<div>\n",
       "<style>\n",
       "    .dataframe thead tr:only-child th {\n",
       "        text-align: right;\n",
       "    }\n",
       "\n",
       "    .dataframe thead th {\n",
       "        text-align: left;\n",
       "    }\n",
       "\n",
       "    .dataframe tbody tr th {\n",
       "        vertical-align: top;\n",
       "    }\n",
       "</style>\n",
       "<table border=\"1\" class=\"dataframe\">\n",
       "  <thead>\n",
       "    <tr style=\"text-align: right;\">\n",
       "      <th></th>\n",
       "      <th>place</th>\n",
       "      <th>type_of_meteorite</th>\n",
       "      <th>mass_g</th>\n",
       "      <th>fell_found</th>\n",
       "      <th>year</th>\n",
       "      <th>database</th>\n",
       "      <th>coordinate_1</th>\n",
       "      <th>coordinates_2</th>\n",
       "      <th>cartodb_id</th>\n",
       "      <th>created_at</th>\n",
       "      <th>updated_at</th>\n",
       "      <th>year_date</th>\n",
       "      <th>longitude</th>\n",
       "      <th>latitude</th>\n",
       "      <th>geojson</th>\n",
       "    </tr>\n",
       "  </thead>\n",
       "  <tbody>\n",
       "    <tr>\n",
       "      <th>426</th>\n",
       "      <td>Hoba</td>\n",
       "      <td>Iron, IVB</td>\n",
       "      <td>60000000.0</td>\n",
       "      <td>Found</td>\n",
       "      <td>1920.0</td>\n",
       "      <td>http://www.lpi.usra.edu/meteor/metbull.php?cod...</td>\n",
       "      <td>-19.58333</td>\n",
       "      <td>17.91667</td>\n",
       "      <td>1</td>\n",
       "      <td>15/02/13 20:56</td>\n",
       "      <td>15/02/13 21:11</td>\n",
       "      <td>01/01/20 00:00</td>\n",
       "      <td>17.91667</td>\n",
       "      <td>-19.58333</td>\n",
       "      <td>{\"type\":\"Point\",\"coordinates\":[17.91667,-19.58...</td>\n",
       "    </tr>\n",
       "    <tr>\n",
       "      <th>433</th>\n",
       "      <td>Mundrabilla</td>\n",
       "      <td>Iron, IAB-ung</td>\n",
       "      <td>24000000.0</td>\n",
       "      <td>Found</td>\n",
       "      <td>1911.0</td>\n",
       "      <td>http://www.lpi.usra.edu/meteor/metbull.php?cod...</td>\n",
       "      <td>-30.78333</td>\n",
       "      <td>127.55000</td>\n",
       "      <td>8</td>\n",
       "      <td>15/02/13 20:56</td>\n",
       "      <td>15/02/13 21:11</td>\n",
       "      <td>01/01/11 00:00</td>\n",
       "      <td>127.55000</td>\n",
       "      <td>-30.78333</td>\n",
       "      <td>{\"type\":\"Point\",\"coordinates\":[127.55,-30.78333]}</td>\n",
       "    </tr>\n",
       "    <tr>\n",
       "      <th>434</th>\n",
       "      <td>Sikhote-Alin</td>\n",
       "      <td>Iron, IIAB</td>\n",
       "      <td>23000000.0</td>\n",
       "      <td>Fell</td>\n",
       "      <td>1947.0</td>\n",
       "      <td>http://www.lpi.usra.edu/meteor/metbull.php?cod...</td>\n",
       "      <td>46.16000</td>\n",
       "      <td>134.65333</td>\n",
       "      <td>9</td>\n",
       "      <td>15/02/13 20:56</td>\n",
       "      <td>15/02/13 21:11</td>\n",
       "      <td>01/01/47 00:00</td>\n",
       "      <td>134.65333</td>\n",
       "      <td>46.16000</td>\n",
       "      <td>{\"type\":\"Point\",\"coordinates\":[134.65333,46.16]}</td>\n",
       "    </tr>\n",
       "  </tbody>\n",
       "</table>\n",
       "</div>"
      ],
      "text/plain": [
       "            place type_of_meteorite      mass_g fell_found    year  \\\n",
       "426          Hoba         Iron, IVB  60000000.0      Found  1920.0   \n",
       "433   Mundrabilla     Iron, IAB-ung  24000000.0      Found  1911.0   \n",
       "434  Sikhote-Alin        Iron, IIAB  23000000.0       Fell  1947.0   \n",
       "\n",
       "                                              database  coordinate_1  \\\n",
       "426  http://www.lpi.usra.edu/meteor/metbull.php?cod...     -19.58333   \n",
       "433  http://www.lpi.usra.edu/meteor/metbull.php?cod...     -30.78333   \n",
       "434  http://www.lpi.usra.edu/meteor/metbull.php?cod...      46.16000   \n",
       "\n",
       "     coordinates_2  cartodb_id      created_at      updated_at  \\\n",
       "426       17.91667           1  15/02/13 20:56  15/02/13 21:11   \n",
       "433      127.55000           8  15/02/13 20:56  15/02/13 21:11   \n",
       "434      134.65333           9  15/02/13 20:56  15/02/13 21:11   \n",
       "\n",
       "          year_date  longitude  latitude  \\\n",
       "426  01/01/20 00:00   17.91667 -19.58333   \n",
       "433  01/01/11 00:00  127.55000 -30.78333   \n",
       "434  01/01/47 00:00  134.65333  46.16000   \n",
       "\n",
       "                                               geojson  \n",
       "426  {\"type\":\"Point\",\"coordinates\":[17.91667,-19.58...  \n",
       "433  {\"type\":\"Point\",\"coordinates\":[127.55,-30.78333]}  \n",
       "434   {\"type\":\"Point\",\"coordinates\":[134.65333,46.16]}  "
      ]
     },
     "execution_count": 87,
     "metadata": {},
     "output_type": "execute_result"
    }
   ],
   "source": [
    "after1900 = df['year'] > 1900 \n",
    "mass = df['mass_g'] > 20000000 \n",
    "df[after1900 & mass] "
   ]
  },
  {
   "cell_type": "markdown",
   "metadata": {},
   "source": [
    "Create an 3x3 array with random uniform values "
   ]
  },
  {
   "cell_type": "code",
   "execution_count": 89,
   "metadata": {},
   "outputs": [
    {
     "data": {
      "text/plain": [
       "array([[ 0.14953099,  0.29576975,  0.51004824],\n",
       "       [ 0.92910186,  0.44026882,  0.30542386],\n",
       "       [ 0.18688397,  0.58953675,  0.25524548]])"
      ]
     },
     "execution_count": 89,
     "metadata": {},
     "output_type": "execute_result"
    }
   ],
   "source": [
    "np.random.uniform(size=9).reshape(3,3)"
   ]
  },
  {
   "cell_type": "markdown",
   "metadata": {},
   "source": [
    "Plot a bar chart showing the breakdown of fell vs. found"
   ]
  },
  {
   "cell_type": "code",
   "execution_count": 92,
   "metadata": {
    "scrolled": false
   },
   "outputs": [
    {
     "data": {
      "image/png": "[encoded data removed]",
      "text/plain": [
       "<matplotlib.figure.Figure at 0x7f97cec5cf50>"
      ]
     },
     "metadata": {},
     "output_type": "display_data"
    }
   ],
   "source": [
    "df.fell_found.value_counts()[:2].plot(kind='bar')\n",
    "plt.show()"
   ]
  }
 ],
 "metadata": {
  "kernelspec": {
   "display_name": "Python [conda env:Python2]",
   "language": "python",
   "name": "conda-env-Python2-py"
  },
  "language_info": {
   "codemirror_mode": {
    "name": "ipython",
    "version": 2
   },
   "file_extension": ".py",
   "mimetype": "text/x-python",
   "name": "python",
   "nbconvert_exporter": "python",
   "pygments_lexer": "ipython2",
   "version": "2.7.13"
  }
 },
 "nbformat": 4,
 "nbformat_minor": 1
}
