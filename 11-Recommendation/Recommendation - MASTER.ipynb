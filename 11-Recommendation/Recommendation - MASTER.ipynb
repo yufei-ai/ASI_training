{
 "cells": [
  {
   "cell_type": "markdown",
   "metadata": {},
   "source": [
    "Recommending beers with Python\n",
    "============================\n",
    "\n",
    "We will be using beer review data to build a recommendation system\n",
    "\n",
    "We are going to build a recommendation system for beers, relying on thousands of reviews made by beer lovers. Reviews are marks given on different aspects of a beer: aroma, taste, appearance, etc. \n",
    "\n",
    "We will select only a subset of such features (and beers) and in the end we will also be able to give a weight to each feature, to get the beers that better reflect our taste.\n",
    "\n",
    "For more data and notebooks see https://github.com/marcelcaraciolo/big-data-tutorial/tree/master/data"
   ]
  },
  {
   "cell_type": "code",
   "execution_count": null,
   "metadata": {
    "collapsed": false
   },
   "outputs": [],
   "source": [
    "import pandas as pd\n",
    "import numpy as np\n",
    "import pylab as pl\n",
    "\n",
    "import matplotlib as mpl\n",
    "import matplotlib.pyplot as plt\n",
    "from mpl_toolkits.mplot3d.axes3d import Axes3D\n",
    "\n",
    "%matplotlib inline"
   ]
  },
  {
   "cell_type": "code",
   "execution_count": null,
   "metadata": {
    "collapsed": false
   },
   "outputs": [],
   "source": [
    "# read and explore data\n",
    "df = pd.read_csv(\"https://s3-eu-west-1.amazonaws.com/asi-training-data/beer_reviews.csv\")\n",
    "df.head()"
   ]
  },
  {
   "cell_type": "markdown",
   "metadata": {},
   "source": [
    "## Finding Beers with the largest number of reviews..."
   ]
  },
  {
   "cell_type": "markdown",
   "metadata": {},
   "source": [
    "We will use these functions to build the recommendation system. We need beers with more than one reviewer, so that we can match different opinions to get better results. "
   ]
  },
  {
   "cell_type": "code",
   "execution_count": null,
   "metadata": {
    "collapsed": false
   },
   "outputs": [],
   "source": [
    "beer_names = df.beer_name.unique()\n",
    "print 'total number of reviewed beers: ', len(beer_names)\n",
    "\n",
    "rev_num = df.groupby('beer_name').count().iloc[:, 0].copy()\n",
    "\n",
    "rev_num.sort(ascending=False)\n",
    "print rev_num[:20]\n"
   ]
  },
  {
   "cell_type": "markdown",
   "metadata": {},
   "source": [
    "## ...and common reviewers set"
   ]
  },
  {
   "cell_type": "code",
   "execution_count": null,
   "metadata": {
    "collapsed": false
   },
   "outputs": [],
   "source": [
    "# we should choose the beers with the biggest number of reviews...\n",
    "\n",
    "beer_1, beer_2 = \"90 Minute IPA\", \"India Pale Ale\"\n",
    "\n",
    "beer_1_reviewers = df[df.beer_name==beer_1].review_profilename.unique()\n",
    "beer_2_reviewers = df[df.beer_name==beer_2].review_profilename.unique()\n",
    "common_reviewers = set(beer_1_reviewers).intersection(beer_2_reviewers)\n",
    "print \"Users in the sameset: %d\" % len(common_reviewers)\n",
    "list(common_reviewers)[:20]"
   ]
  },
  {
   "cell_type": "markdown",
   "metadata": {},
   "source": [
    "## Extracting Reviews"
   ]
  },
  {
   "cell_type": "code",
   "execution_count": null,
   "metadata": {
    "collapsed": false
   },
   "outputs": [],
   "source": [
    "def get_beer_reviews(beer, common_users):\n",
    "    mask = (df.review_profilename.isin(common_users)) & (df.beer_name==beer)\n",
    "    reviews = df[mask].sort('review_profilename')\n",
    "    reviews = reviews[reviews.review_profilename.duplicated()==False]\n",
    "    return reviews\n",
    "beer_1_reviews = get_beer_reviews(beer_1, common_reviewers)\n",
    "beer_2_reviews = get_beer_reviews(beer_2, common_reviewers)\n",
    "\n",
    "cols = ['beer_name', 'review_profilename', 'review_overall', 'review_aroma', 'review_palate', 'review_taste']\n",
    "beer_2_reviews[cols].head()"
   ]
  },
  {
   "cell_type": "markdown",
   "metadata": {},
   "source": [
    "## Calculating Distance"
   ]
  },
  {
   "cell_type": "markdown",
   "metadata": {},
   "source": [
    "We will use the Euclidean distance again!\n"
   ]
  },
  {
   "cell_type": "code",
   "execution_count": null,
   "metadata": {
    "collapsed": true
   },
   "outputs": [],
   "source": [
    "def euclideanDistance(instance1, instance2):\n",
    "    length = len(instance1)\n",
    "    # you can also check if instance1 and instance2 have the same length\n",
    "    distance = 0\n",
    "    for l in range(length):\n",
    "        distance += (instance1.iloc[l] - instance2.iloc[l])**2\n",
    "    return np.sqrt(distance)"
   ]
  },
  {
   "cell_type": "code",
   "execution_count": null,
   "metadata": {
    "collapsed": false
   },
   "outputs": [],
   "source": [
    "ALL_FEATURES = ['review_overall', 'review_aroma', 'review_palate', 'review_taste']\n",
    "def calculate_distance(beer1, beer2):\n",
    "    # find common reviewers\n",
    "    beer_1_reviewers = df[df.beer_name==beer1].review_profilename.unique()\n",
    "    beer_2_reviewers = df[df.beer_name==beer2].review_profilename.unique()\n",
    "    common_reviewers = set(beer_1_reviewers).intersection(beer_2_reviewers)\n",
    "\n",
    "    # get reviews\n",
    "    beer_1_reviews = get_beer_reviews(beer1, common_reviewers)\n",
    "    beer_2_reviews = get_beer_reviews(beer2, common_reviewers)\n",
    "    dists = []\n",
    "    for f in ALL_FEATURES:\n",
    "        dists.append(euclideanDistance(beer_1_reviews[f], beer_2_reviews[f]))\n",
    "    \n",
    "    return dists\n",
    "\n",
    "calculate_distance(beer_1, beer_2)"
   ]
  },
  {
   "cell_type": "markdown",
   "metadata": {},
   "source": [
    "## Calculate the Similarity for a Set of Beers"
   ]
  },
  {
   "cell_type": "code",
   "execution_count": null,
   "metadata": {
    "collapsed": false
   },
   "outputs": [],
   "source": [
    "# calculate only a subset for the demo, let's say the 5 most reviewed beers...\n",
    "\n",
    "beers = [\"90 Minute IPA\", \"India Pale Ale\", \"Old Rasputin Russian Imperial Stout\", \"Sierra Nevada Celebration Ale\", \n",
    "         \"Two Hearted Ale\"]\n",
    "\n",
    "simple_distances = []\n",
    "for beer1 in beers:\n",
    "    print \"computing distances for\", beer1\n",
    "    for beer2 in beers:\n",
    "        if beer1 != beer2:\n",
    "            row = [beer1, beer2] + calculate_distance(beer1, beer2)\n",
    "            simple_distances.append(row)"
   ]
  },
  {
   "cell_type": "markdown",
   "metadata": {},
   "source": [
    "## Inspect the Results"
   ]
  },
  {
   "cell_type": "code",
   "execution_count": null,
   "metadata": {
    "collapsed": false
   },
   "outputs": [],
   "source": [
    "cols = [\"beer1\", \"beer2\", \"overall_dist\", \"aroma_dist\", \"palate_dist\", \"taste_dist\"]\n",
    "simple_distances = pd.DataFrame(simple_distances, columns=cols)\n",
    "simple_distances.head()"
   ]
  },
  {
   "cell_type": "markdown",
   "metadata": {},
   "source": [
    "## Allow the User to Customize the Weights"
   ]
  },
  {
   "cell_type": "code",
   "execution_count": null,
   "metadata": {
    "collapsed": false
   },
   "outputs": [],
   "source": [
    "def calc_distance(dists, beer1, beer2, weights):\n",
    "    mask = (dists.beer1==beer1) & (dists.beer2==beer2)\n",
    "    row = dists[mask]\n",
    "    row = row[['overall_dist', 'aroma_dist', 'palate_dist', 'taste_dist']]\n",
    "    dist = weights * row\n",
    "    return dist.sum(axis=1).tolist()[0]\n",
    "\n",
    "weights = [4, 1, 5, 1]\n",
    "print calc_distance(simple_distances, \"90 Minute IPA\", \"India Pale Ale\", weights)\n",
    "print calc_distance(simple_distances, \"90 Minute IPA\", \"Old Rasputin Russian Imperial Stout\", weights)"
   ]
  },
  {
   "cell_type": "markdown",
   "metadata": {},
   "source": [
    "## Find Similar Beers for your favourite beer!"
   ]
  },
  {
   "cell_type": "code",
   "execution_count": null,
   "metadata": {
    "collapsed": false,
    "scrolled": true
   },
   "outputs": [],
   "source": [
    "my_beer = \"90 Minute IPA\"\n",
    "results = []\n",
    "weights = [2, 1, 4, 1]\n",
    "for b in beers:\n",
    "    if my_beer!=b:\n",
    "        results.append((my_beer, b, calc_distance(simple_distances, my_beer, b, weights)))\n",
    "sorted(results, key=lambda x: x[2])[:10]"
   ]
  },
  {
   "cell_type": "code",
   "execution_count": null,
   "metadata": {
    "collapsed": true
   },
   "outputs": [],
   "source": []
  }
 ],
 "metadata": {
  "kernelspec": {
   "display_name": "Python 2",
   "language": "python",
   "name": "python2"
  },
  "language_info": {
   "codemirror_mode": {
    "name": "ipython",
    "version": 2
   },
   "file_extension": ".py",
   "mimetype": "text/x-python",
   "name": "python",
   "nbconvert_exporter": "python",
   "pygments_lexer": "ipython2",
   "version": "2.7.9"
  }
 },
 "nbformat": 4,
 "nbformat_minor": 0
}
