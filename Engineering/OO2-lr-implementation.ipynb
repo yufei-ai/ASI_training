{
 "cells": [
  {
   "cell_type": "code",
   "execution_count": 51,
   "metadata": {
    "collapsed": true
   },
   "outputs": [],
   "source": [
    "import numpy as np\n",
    "import sklearn\n",
    "from sklearn.base import BaseEstimator\n",
    "from sklearn.linear_model.base import LinearClassifierMixin\n",
    "\n",
    "from sklearn.linear_model.logistic import _logistic_loss\n",
    "from scipy.optimize import fmin"
   ]
  },
  {
   "cell_type": "code",
   "execution_count": 41,
   "metadata": {
    "collapsed": true
   },
   "outputs": [],
   "source": [
    "make_classification?"
   ]
  },
  {
   "cell_type": "code",
   "execution_count": 52,
   "metadata": {
    "collapsed": true
   },
   "outputs": [],
   "source": [
    "# Create random data\n",
    "from sklearn.datasets import make_classification\n",
    "X, y = make_classification(n_samples=100, n_features=5, n_informative=3, n_redundant=0)\n",
    "#y"
   ]
  },
  {
   "cell_type": "code",
   "execution_count": 53,
   "metadata": {
    "collapsed": true
   },
   "outputs": [],
   "source": [
    "# Implement custom LogisticRegression\n",
    "class LogisticRegression(BaseEstimator, LinearClassifierMixin):\n",
    "    \n",
    "    def __init__(self):\n",
    "        self.fit_intercept = False\n",
    "        self.intercept_ = 0.0\n",
    "        \n",
    "        # These attributes are set when the estimator is fit:\n",
    "        self.coef_ = None\n",
    "        self.classes_ = None\n",
    "        \n",
    "        \n",
    "    def fit(self, X, y):\n",
    "        \"\"\"\n",
    "        Fit the estimator to the target vector `y` using feature matrix `X`.\n",
    "        \n",
    "        This method needs to:\n",
    "         - update self.coef_: this is a numpy array of size (1, NFEATURES)\n",
    "         - update self.classes_: this is a numpy array listing the different \n",
    "             classes. Eg. if `y` just contains 0 and 1, this should be\n",
    "             `np.array([0, 1])`\n",
    "        \"\"\"\n",
    "        # Set self.classes_\n",
    "        self.classes_ = np.unique(y)\n",
    "        # Create an objective function ready to be optimized.\n",
    "        # This should be a function (params array) => value\n",
    "        # You will need to wrap `_logistic_loss` using, for instance,\n",
    "        # a lambda function.\n",
    "        objective_function = lambda params : _logistic_loss(params,X,y,1)\n",
    "        # Pass your objective function to `fmin`.\n",
    "        \n",
    "        Nfeatures = X.shape[1]\n",
    "        # set initial guess as zeros\n",
    "        initial_guess = np.zeros(Nfeatures)\n",
    "        \n",
    "        best_estimate = fmin(objective_function,initial_guess)\n",
    "        #print(best_estimate.shape)\n",
    "        # Set self.coef_ \n",
    "        # (remember, this needs to be an array of size (1, NFEATURES))\n",
    "        self.coef_= best_estimate.reshape(1,Nfeatures)\n",
    "        #print(self.coef_.shape)"
   ]
  },
  {
   "cell_type": "code",
   "execution_count": 12,
   "metadata": {
    "collapsed": true
   },
   "outputs": [],
   "source": [
    "_logistic_loss?"
   ]
  },
  {
   "cell_type": "code",
   "execution_count": 5,
   "metadata": {
    "collapsed": true
   },
   "outputs": [],
   "source": [
    "fmin?"
   ]
  },
  {
   "cell_type": "code",
   "execution_count": 54,
   "metadata": {},
   "outputs": [
    {
     "name": "stdout",
     "output_type": "stream",
     "text": [
      "Optimization terminated successfully.\n",
      "         Current function value: 47.397140\n",
      "         Iterations: 577\n",
      "         Function evaluations: 929\n",
      "(5,)\n",
      "(1, 5)\n"
     ]
    },
    {
     "data": {
      "text/plain": [
       "0.72999999999999998"
      ]
     },
     "execution_count": 54,
     "metadata": {},
     "output_type": "execute_result"
    }
   ],
   "source": [
    "lr = LogisticRegression()\n",
    "lr.fit(X, y)\n",
    "lr.score(X, y)"
   ]
  },
  {
   "cell_type": "code",
   "execution_count": 32,
   "metadata": {
    "collapsed": true
   },
   "outputs": [],
   "source": [
    "lr.fit?\n"
   ]
  }
 ],
 "metadata": {
  "kernelspec": {
   "display_name": "Python [conda env:Python3]",
   "language": "python",
   "name": "conda-env-Python3-py"
  },
  "language_info": {
   "codemirror_mode": {
    "name": "ipython",
    "version": 3
   },
   "file_extension": ".py",
   "mimetype": "text/x-python",
   "name": "python",
   "nbconvert_exporter": "python",
   "pygments_lexer": "ipython3",
   "version": "3.6.1"
  }
 },
 "nbformat": 4,
 "nbformat_minor": 1
}
