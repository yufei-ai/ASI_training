{
 "cells": [
  {
   "cell_type": "code",
   "execution_count": 2,
   "metadata": {
    "collapsed": true
   },
   "outputs": [],
   "source": [
    "import numpy as np\n",
    "import sklearn\n",
    "from sklearn.base import BaseEstimator\n",
    "from sklearn.linear_model.base import LinearClassifierMixin\n",
    "\n",
    "from sklearn.linear_model.logistic import _logistic_loss\n",
    "from scipy.optimize import fmin"
   ]
  },
  {
   "cell_type": "code",
   "execution_count": 3,
   "metadata": {
    "collapsed": true
   },
   "outputs": [],
   "source": [
    "# Create random data\n",
    "from sklearn.datasets import make_classification\n",
    "X, y = make_classification(n_samples=100, n_features=5, n_informative=4, n_redundant=0)"
   ]
  },
  {
   "cell_type": "code",
   "execution_count": 6,
   "metadata": {
    "collapsed": false
   },
   "outputs": [],
   "source": [
    "# Implement custom LogisticRegression\n",
    "class LogisticRegression(BaseEstimator, LinearClassifierMixin):\n",
    "    \n",
    "    def __init__(self):\n",
    "        self.fit_intercept = False\n",
    "        self.intercept_ = 0.0\n",
    "        \n",
    "        # These attributes are set when the estimator is fit:\n",
    "        self.coef_ = None\n",
    "        self.classes_ = None\n",
    "        \n",
    "    def fit(self, X, y):\n",
    "        \"\"\"\n",
    "        Fit the estimator to the target vector `y` using feature matrix `X`.\n",
    "        \n",
    "        This method needs to:\n",
    "         - update self.coef_: this is a numpy array of size (1, NFEATURES)\n",
    "         - update self.classes_: this is a numpy array listing the different \n",
    "             classes. Eg. if `y` just contains 0 and 1, this should be\n",
    "             `np.array([0, 1])`\n",
    "        \"\"\"\n",
    "        # Set self.classes_\n",
    "        self.classes_ = np.unique(y)\n",
    "        \n",
    "        # Create an objective function ready to be optimized.\n",
    "        # This should be a function (params array) => value\n",
    "        # You will need to wrap `_logistic_loss` using, for instance,\n",
    "        # a lambda function.\n",
    "        objective_function = lambda params: _logistic_loss(params, X, y, 0.0)\n",
    "        \n",
    "        # Pass your objective function to `fmin`.\n",
    "        nfeatures = X.shape[1]\n",
    "        best_params = fmin(objective_function, np.zeros(nfeatures))\n",
    "        \n",
    "        # Set self.coefs_ \n",
    "        # (remember, this needs to be an array of size (1, NFEATURES))\n",
    "        self.coef_ = best_params.reshape(1, nfeatures)\n",
    "        "
   ]
  },
  {
   "cell_type": "code",
   "execution_count": 3,
   "metadata": {
    "collapsed": true
   },
   "outputs": [],
   "source": [
    "_logistic_loss?"
   ]
  },
  {
   "cell_type": "code",
   "execution_count": 5,
   "metadata": {
    "collapsed": false
   },
   "outputs": [],
   "source": [
    "fmin?"
   ]
  },
  {
   "cell_type": "code",
   "execution_count": 7,
   "metadata": {
    "collapsed": false
   },
   "outputs": [
    {
     "name": "stdout",
     "output_type": "stream",
     "text": [
      "Optimization terminated successfully.\n",
      "         Current function value: 34.657359\n",
      "         Iterations: 370\n",
      "         Function evaluations: 702\n"
     ]
    },
    {
     "data": {
      "text/plain": [
       "0.75"
      ]
     },
     "execution_count": 7,
     "metadata": {},
     "output_type": "execute_result"
    }
   ],
   "source": [
    "lr = LogisticRegression()\n",
    "lr.fit(X, y)\n",
    "lr.score(X, y)"
   ]
  },
  {
   "cell_type": "code",
   "execution_count": null,
   "metadata": {
    "collapsed": true
   },
   "outputs": [],
   "source": []
  }
 ],
 "metadata": {
  "kernelspec": {
   "display_name": "Python 2",
   "language": "python",
   "name": "python2"
  },
  "language_info": {
   "codemirror_mode": {
    "name": "ipython",
    "version": 2
   },
   "file_extension": ".py",
   "mimetype": "text/x-python",
   "name": "python",
   "nbconvert_exporter": "python",
   "pygments_lexer": "ipython2",
   "version": "2.7.10"
  }
 },
 "nbformat": 4,
 "nbformat_minor": 0
}
