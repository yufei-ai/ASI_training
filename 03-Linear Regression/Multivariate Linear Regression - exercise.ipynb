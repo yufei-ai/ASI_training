{
 "cells": [
  {
   "cell_type": "markdown",
   "metadata": {},
   "source": [
    "# Linear Regression with Multiple Features "
   ]
  },
  {
   "cell_type": "markdown",
   "metadata": {},
   "source": [
    "Begin by importing all necessary modules"
   ]
  },
  {
   "cell_type": "code",
   "execution_count": 1,
   "metadata": {},
   "outputs": [],
   "source": [
    "import numpy as np\n",
    "import pandas as pd\n",
    "import matplotlib as mpl\n",
    "import matplotlib.pyplot as plt\n",
    "import pylab\n",
    "%matplotlib inline \n",
    "\n",
    "mpl.style.available\n",
    "mpl.style.use('ggplot') "
   ]
  },
  {
   "cell_type": "markdown",
   "metadata": {},
   "source": [
    "Load LinRegMultiDataset.csv onto a data frame. Use pd.read_csv(...)"
   ]
  },
  {
   "cell_type": "code",
   "execution_count": 2,
   "metadata": {},
   "outputs": [],
   "source": [
    "df = pd.read_csv('data/LinRegMultiDataset.csv')"
   ]
  },
  {
   "cell_type": "markdown",
   "metadata": {},
   "source": [
    "Explore first lines and data format using df.head()"
   ]
  },
  {
   "cell_type": "code",
   "execution_count": 3,
   "metadata": {},
   "outputs": [
    {
     "data": {
      "text/html": [
       "<div>\n",
       "<style>\n",
       "    .dataframe thead tr:only-child th {\n",
       "        text-align: right;\n",
       "    }\n",
       "\n",
       "    .dataframe thead th {\n",
       "        text-align: left;\n",
       "    }\n",
       "\n",
       "    .dataframe tbody tr th {\n",
       "        vertical-align: top;\n",
       "    }\n",
       "</style>\n",
       "<table border=\"1\" class=\"dataframe\">\n",
       "  <thead>\n",
       "    <tr style=\"text-align: right;\">\n",
       "      <th></th>\n",
       "      <th>X1</th>\n",
       "      <th>X2</th>\n",
       "      <th>Y</th>\n",
       "    </tr>\n",
       "  </thead>\n",
       "  <tbody>\n",
       "    <tr>\n",
       "      <th>0</th>\n",
       "      <td>2104</td>\n",
       "      <td>3</td>\n",
       "      <td>399900</td>\n",
       "    </tr>\n",
       "    <tr>\n",
       "      <th>1</th>\n",
       "      <td>1600</td>\n",
       "      <td>3</td>\n",
       "      <td>329900</td>\n",
       "    </tr>\n",
       "    <tr>\n",
       "      <th>2</th>\n",
       "      <td>2400</td>\n",
       "      <td>3</td>\n",
       "      <td>369000</td>\n",
       "    </tr>\n",
       "    <tr>\n",
       "      <th>3</th>\n",
       "      <td>1416</td>\n",
       "      <td>2</td>\n",
       "      <td>232000</td>\n",
       "    </tr>\n",
       "    <tr>\n",
       "      <th>4</th>\n",
       "      <td>3000</td>\n",
       "      <td>4</td>\n",
       "      <td>539900</td>\n",
       "    </tr>\n",
       "  </tbody>\n",
       "</table>\n",
       "</div>"
      ],
      "text/plain": [
       "     X1  X2       Y\n",
       "0  2104   3  399900\n",
       "1  1600   3  329900\n",
       "2  2400   3  369000\n",
       "3  1416   2  232000\n",
       "4  3000   4  539900"
      ]
     },
     "execution_count": 3,
     "metadata": {},
     "output_type": "execute_result"
    }
   ],
   "source": [
    "df.head()"
   ]
  },
  {
   "cell_type": "markdown",
   "metadata": {},
   "source": [
    "Use plt.scatter() to plot X1 against Y, then X2 against Y"
   ]
  },
  {
   "cell_type": "code",
   "execution_count": 4,
   "metadata": {},
   "outputs": [
    {
     "data": {
      "text/plain": [
       "<matplotlib.collections.PathCollection at 0x7f7673482610>"
      ]
     },
     "execution_count": 4,
     "metadata": {},
     "output_type": "execute_result"
    },
    {
     "data": {
      "image/png": "[encoded data removed]",
      "text/plain": [
       "<matplotlib.figure.Figure at 0x7f76768456d0>"
      ]
     },
     "metadata": {},
     "output_type": "display_data"
    }
   ],
   "source": [
    "plt.figure(figsize=(12, 4))\n",
    "plt.scatter(df.X1,df.Y)\n",
    "plt.scatter(df.X2,df.Y, c='r')"
   ]
  },
  {
   "cell_type": "markdown",
   "metadata": {},
   "source": [
    "## Feature Scaling"
   ]
  },
  {
   "cell_type": "markdown",
   "metadata": {},
   "source": [
    "Write function to scale features according to:\n",
    "\n",
    "$$x_i = \\frac{x_i - \\mu_i}{std(x_i)}$$\n",
    "\n",
    "Use mean() and max() operators built into pandas to do this.\n",
    "The function should should return both the scaled input vector, as well as the mean and standard deviation to be used to scale future samples.\n",
    "    "
   ]
  },
  {
   "cell_type": "code",
   "execution_count": 5,
   "metadata": {},
   "outputs": [],
   "source": [
    "def FeatureScale(x):\n",
    "    mu = x.mean()\n",
    "    std = x.std()\n",
    "    x_scaled = (x - mu) / std\n",
    "    return x_scaled, mu, std"
   ]
  },
  {
   "cell_type": "markdown",
   "metadata": {},
   "source": [
    "Scale both input features and store in new columns in data frame (also storing mean and standard deviation)"
   ]
  },
  {
   "cell_type": "code",
   "execution_count": 6,
   "metadata": {},
   "outputs": [
    {
     "name": "stdout",
     "output_type": "stream",
     "text": [
      "4478\n"
     ]
    }
   ],
   "source": [
    "df['X1_scaled'], X1_mu, X1_std = FeatureScale(df.X1)\n",
    "print df['X1'].max()\n",
    "df['X2_scaled'], X2_mu, X2_std = FeatureScale(df.X2)"
   ]
  },
  {
   "cell_type": "markdown",
   "metadata": {},
   "source": [
    "Replot using plt.scatter() to check the scaling effect"
   ]
  },
  {
   "cell_type": "code",
   "execution_count": 7,
   "metadata": {},
   "outputs": [
    {
     "data": {
      "text/plain": [
       "<matplotlib.collections.PathCollection at 0x7f767337d310>"
      ]
     },
     "execution_count": 7,
     "metadata": {},
     "output_type": "execute_result"
    },
    {
     "data": {
      "image/png": "[encoded data removed]",
      "text/plain": [
       "<matplotlib.figure.Figure at 0x7f767351bed0>"
      ]
     },
     "metadata": {},
     "output_type": "display_data"
    }
   ],
   "source": [
    "plt.figure(figsize=(12, 4))\n",
    "plt.scatter(df.X1_scaled,df.Y)\n",
    "plt.scatter(df.X2_scaled,df.Y, c='r')"
   ]
  },
  {
   "cell_type": "markdown",
   "metadata": {},
   "source": [
    "## Multi-variate Linear Function\n",
    "(with two x inputs and three variables)\n",
    "\n",
    "$$y =  \\theta_0+\\theta_1 x_1 + \\theta_2 x_2$$"
   ]
  },
  {
   "cell_type": "code",
   "execution_count": 8,
   "metadata": {},
   "outputs": [],
   "source": [
    "def LinFunc(x1, x2, theta_0, theta_1, theta_2):\n",
    "    y = theta_0 + theta_1*x1 + theta_2*x2\n",
    "    return y"
   ]
  },
  {
   "cell_type": "markdown",
   "metadata": {},
   "source": [
    "## Multi-variate Gradient Descent"
   ]
  },
  {
   "cell_type": "markdown",
   "metadata": {},
   "source": [
    "Define cost function:\n",
    "$$C = \\frac{1}{2m} \\sum_{i=1}^m (y_{pred}^i - y_{obs}^i)^2$$"
   ]
  },
  {
   "cell_type": "code",
   "execution_count": 9,
   "metadata": {},
   "outputs": [],
   "source": [
    "def CostFunction(y_obs,y_pred):\n",
    "    cost = np.sum((y_pred - y_obs)**2) / (2*np.size(y_pred))\n",
    "    return cost"
   ]
  },
  {
   "cell_type": "markdown",
   "metadata": {},
   "source": [
    "Define gradient function:\n",
    "$$g_j = \\frac{1}{m} \\sum_{i=1}^m (y_{pred}^i - y_{obs}^i).x^i_j$$\n",
    "Which takes both predicted and observed values, and a feature vector (x)."
   ]
  },
  {
   "cell_type": "code",
   "execution_count": 10,
   "metadata": {},
   "outputs": [],
   "source": [
    "def g(y_obs,y_pred,x):\n",
    "    g = (1/float(np.size(y_pred))) * np.sum((y_pred - y_obs)*x)\n",
    "    return g"
   ]
  },
  {
   "cell_type": "markdown",
   "metadata": {},
   "source": [
    "**Exercise** <br>Finish gradient descent algorithm where:\n",
    "$$\\theta_j := \\theta_j - \\alpha g_j$$\n",
    "remembering that \n",
    "$$x_0^i = 1 \\quad \\text{for all } i$$"
   ]
  },
  {
   "cell_type": "code",
   "execution_count": 11,
   "metadata": {},
   "outputs": [],
   "source": [
    "def GradDescent(df, theta_0,theta_1,theta_2,alpha,num_iters):\n",
    "    \n",
    "    #C_history records values for plotting\n",
    "    C_history = []\n",
    "    \n",
    "    #Initalises Ypredicted to ensure existence in dataframe\n",
    "    df['Ypredicted'] = df.Y\n",
    "    \n",
    "    for i in np.arange(num_iters):\n",
    "        #Calculate prediction for parameter values\n",
    "        df.Ypredicted = LinFunc(df.X1_scaled, df.X2_scaled, theta_0, theta_1, theta_2)\n",
    "        \n",
    "        #Update parameters\n",
    "        theta_0 = theta_0 - alpha * g(df.Y,df.Ypredicted,1)\n",
    "        theta_1 = theta_1 - alpha * g(df.Y,df.Ypredicted,df.X1_scaled)\n",
    "        theta_2 = theta_2 - alpha * g(df.Y,df.Ypredicted,df.X2_scaled)\n",
    "            \n",
    "        C_history.append([CostFunction(df.Y,df.Ypredicted)])\n",
    "        \n",
    "        \n",
    "    print \"Finished at \", [theta_0,theta_1,theta_2]\n",
    "    return theta_0, theta_1, theta_2, np.array(C_history)"
   ]
  },
  {
   "cell_type": "markdown",
   "metadata": {},
   "source": [
    "Set initial guess for all three parameters and alpha value, then run Gradient Descent algorithm"
   ]
  },
  {
   "cell_type": "code",
   "execution_count": 12,
   "metadata": {},
   "outputs": [
    {
     "name": "stdout",
     "output_type": "stream",
     "text": [
      "Finished at  [340412.65957446775, 110630.73229541267, -6649.156287386372]\n"
     ]
    }
   ],
   "source": [
    "theta_0_guess = 0#TYPEHERE\n",
    "theta_1_guess = 0#TYPEHERE\n",
    "theta_2_guess = 0#TYPEHERE\n",
    "alpha = 0.5#TYPEHERE\n",
    "num_iters = 50#TYPEHERE\n",
    "\n",
    "theta_0, theta_1, theta_2, C_history = GradDescent(df, theta_0_guess,theta_1_guess,theta_2_guess,alpha,num_iters)"
   ]
  },
  {
   "cell_type": "markdown",
   "metadata": {},
   "source": [
    "\n",
    "Use plt.plot() to plot the Cost function history and ensure convergence"
   ]
  },
  {
   "cell_type": "code",
   "execution_count": 13,
   "metadata": {},
   "outputs": [
    {
     "data": {
      "text/plain": [
       "[<matplotlib.lines.Line2D at 0x7f76732ca6d0>]"
      ]
     },
     "execution_count": 13,
     "metadata": {},
     "output_type": "execute_result"
    },
    {
     "data": {
      "image/png": "[encoded data removed]",
      "text/plain": [
       "<matplotlib.figure.Figure at 0x7f76733942d0>"
      ]
     },
     "metadata": {},
     "output_type": "display_data"
    }
   ],
   "source": [
    "plt.plot(C_history)"
   ]
  },
  {
   "cell_type": "markdown",
   "metadata": {},
   "source": [
    "**Exercise**\n",
    "\n",
    "Use trained parameters to predict output when x1 = 2200 and x2 = 3.\n",
    "Remember to scale input features accordingly!"
   ]
  },
  {
   "cell_type": "code",
   "execution_count": null,
   "metadata": {},
   "outputs": [],
   "source": [
    "x1 = #TYPEHERE\n",
    "x2 = (3 - X2_mu) / X2_std\n",
    "\n",
    "Ypred = LinFunc(x1, x2, theta_0, theta_1, theta_2)\n",
    "print Ypred"
   ]
  },
  {
   "cell_type": "markdown",
   "metadata": {},
   "source": [
    "Go back and re-run algorithm, modifying alpha and re-plotting cost function history to see how alpha influences convergence"
   ]
  }
 ],
 "metadata": {
  "kernelspec": {
   "display_name": "Python [conda env:Python2]",
   "language": "python",
   "name": "conda-env-Python2-py"
  },
  "language_info": {
   "codemirror_mode": {
    "name": "ipython",
    "version": 2
   },
   "file_extension": ".py",
   "mimetype": "text/x-python",
   "name": "python",
   "nbconvert_exporter": "python",
   "pygments_lexer": "ipython2",
   "version": "2.7.13"
  }
 },
 "nbformat": 4,
 "nbformat_minor": 1
}
