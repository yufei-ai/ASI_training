{
 "cells": [
  {
   "cell_type": "markdown",
   "metadata": {},
   "source": [
    "# Build a neural network for the MNIST dataset using NumPy"
   ]
  },
  {
   "cell_type": "code",
   "execution_count": 1,
   "metadata": {
    "collapsed": true
   },
   "outputs": [],
   "source": [
    "from io import BytesIO\n",
    "import gzip\n",
    "import matplotlib.pyplot as plt\n",
    "import numpy as np\n",
    "import pickle\n",
    "import requests\n",
    "from utils import learn_mnist, plot_learning\n",
    "%matplotlib inline"
   ]
  },
  {
   "cell_type": "markdown",
   "metadata": {},
   "source": [
    "## Access the MNIST data"
   ]
  },
  {
   "cell_type": "code",
   "execution_count": 4,
   "metadata": {
    "collapsed": true,
    "scrolled": true
   },
   "outputs": [],
   "source": [
    "def read_mnist(dataset='train', flatten=True):\n",
    "    \"\"\"Return an iterator of images and labels.\n",
    "\n",
    "    Returns an iterator of 2-tuples with the first element a\n",
    "    numpy.float32 array of pixel data for the given image and\n",
    "    the second element the correspnding label as numpy.int64.\n",
    "\n",
    "    If flatten, each image array has shape (784,), otherwise\n",
    "    each image array has shape (28, 28).\n",
    "    \"\"\"\n",
    "    MNIST_PATH = ('http://www.iro.umontreal.ca/~lisa'\n",
    "                  '/deep/data/mnist/mnist.pkl.gz')\n",
    "    response = requests.get(MNIST_PATH)\n",
    "    content = BytesIO(response.content)\n",
    "    with gzip.open(content, 'rb') as f:\n",
    "        train_set, valid_set, test_set = pickle.load(f, encoding='bytes')\n",
    "\n",
    "    if 'train' in dataset.lower():\n",
    "        images, labels = train_set\n",
    "    elif 'valid' in dataset.lower():\n",
    "        images, labels = valid_set\n",
    "    elif 'test' in dataset.lower():\n",
    "        images, labels = test_set\n",
    "    else:\n",
    "        raise ValueError(\"dataset must be 'train', 'valid' or 'test'. \"\n",
    "                         \"Got '{}'\".format(dataset))\n",
    "    if not flatten:\n",
    "        images = images.reshape(-1, 28, 28)\n",
    "\n",
    "    return images, labels"
   ]
  },
  {
   "cell_type": "code",
   "execution_count": 6,
   "metadata": {},
   "outputs": [],
   "source": [
    "## Task 1: Print the data for a single image as an array\n",
    "##\n",
    "Data, Labels = read_mnist()"
   ]
  },
  {
   "cell_type": "code",
   "execution_count": 7,
   "metadata": {},
   "outputs": [
    {
     "name": "stdout",
     "output_type": "stream",
     "text": [
      "[ 0.          0.          0.          0.          0.          0.          0.\n",
      "  0.          0.          0.          0.          0.          0.          0.\n",
      "  0.          0.          0.          0.          0.          0.          0.\n",
      "  0.          0.          0.          0.          0.          0.          0.\n",
      "  0.          0.          0.          0.          0.          0.          0.\n",
      "  0.          0.          0.          0.          0.          0.          0.\n",
      "  0.          0.          0.          0.          0.          0.          0.\n",
      "  0.          0.          0.          0.          0.          0.          0.\n",
      "  0.          0.          0.          0.          0.          0.          0.\n",
      "  0.          0.          0.          0.          0.          0.          0.\n",
      "  0.          0.          0.          0.          0.          0.          0.\n",
      "  0.          0.          0.          0.          0.          0.          0.\n",
      "  0.          0.          0.          0.          0.          0.          0.\n",
      "  0.          0.          0.          0.          0.          0.          0.\n",
      "  0.          0.          0.          0.          0.          0.          0.\n",
      "  0.          0.          0.          0.          0.          0.          0.\n",
      "  0.          0.          0.          0.          0.          0.          0.\n",
      "  0.          0.          0.          0.          0.          0.          0.\n",
      "  0.          0.          0.          0.          0.          0.          0.\n",
      "  0.          0.          0.          0.          0.          0.          0.\n",
      "  0.          0.          0.          0.          0.          0.          0.\n",
      "  0.          0.          0.          0.          0.          0.01171875\n",
      "  0.0703125   0.0703125   0.0703125   0.4921875   0.53125     0.68359375\n",
      "  0.1015625   0.6484375   0.99609375  0.96484375  0.49609375  0.          0.\n",
      "  0.          0.          0.          0.          0.          0.          0.\n",
      "  0.          0.          0.          0.1171875   0.140625    0.3671875\n",
      "  0.6015625   0.6640625   0.98828125  0.98828125  0.98828125  0.98828125\n",
      "  0.98828125  0.87890625  0.671875    0.98828125  0.9453125   0.76171875\n",
      "  0.25        0.          0.          0.          0.          0.          0.\n",
      "  0.          0.          0.          0.          0.          0.19140625\n",
      "  0.9296875   0.98828125  0.98828125  0.98828125  0.98828125  0.98828125\n",
      "  0.98828125  0.98828125  0.98828125  0.98046875  0.36328125  0.3203125\n",
      "  0.3203125   0.21875     0.15234375  0.          0.          0.          0.\n",
      "  0.          0.          0.          0.          0.          0.          0.\n",
      "  0.          0.0703125   0.85546875  0.98828125  0.98828125  0.98828125\n",
      "  0.98828125  0.98828125  0.7734375   0.7109375   0.96484375  0.94140625\n",
      "  0.          0.          0.          0.          0.          0.          0.\n",
      "  0.          0.          0.          0.          0.          0.          0.\n",
      "  0.          0.          0.          0.          0.3125      0.609375\n",
      "  0.41796875  0.98828125  0.98828125  0.80078125  0.04296875  0.\n",
      "  0.16796875  0.6015625   0.          0.          0.          0.          0.\n",
      "  0.          0.          0.          0.          0.          0.          0.\n",
      "  0.          0.          0.          0.          0.          0.          0.\n",
      "  0.0546875   0.00390625  0.6015625   0.98828125  0.3515625   0.          0.\n",
      "  0.          0.          0.          0.          0.          0.          0.\n",
      "  0.          0.          0.          0.          0.          0.          0.\n",
      "  0.          0.          0.          0.          0.          0.          0.\n",
      "  0.          0.          0.54296875  0.98828125  0.7421875   0.0078125   0.\n",
      "  0.          0.          0.          0.          0.          0.          0.\n",
      "  0.          0.          0.          0.          0.          0.          0.\n",
      "  0.          0.          0.          0.          0.          0.          0.\n",
      "  0.          0.          0.04296875  0.7421875   0.98828125  0.2734375   0.\n",
      "  0.          0.          0.          0.          0.          0.          0.\n",
      "  0.          0.          0.          0.          0.          0.          0.\n",
      "  0.          0.          0.          0.          0.          0.          0.\n",
      "  0.          0.          0.          0.13671875  0.94140625  0.87890625\n",
      "  0.625       0.421875    0.00390625  0.          0.          0.          0.\n",
      "  0.          0.          0.          0.          0.          0.          0.\n",
      "  0.          0.          0.          0.          0.          0.          0.\n",
      "  0.          0.          0.          0.          0.          0.31640625\n",
      "  0.9375      0.98828125  0.98828125  0.46484375  0.09765625  0.          0.\n",
      "  0.          0.          0.          0.          0.          0.          0.\n",
      "  0.          0.          0.          0.          0.          0.          0.\n",
      "  0.          0.          0.          0.          0.          0.          0.\n",
      "  0.17578125  0.7265625   0.98828125  0.98828125  0.5859375   0.10546875\n",
      "  0.          0.          0.          0.          0.          0.          0.\n",
      "  0.          0.          0.          0.          0.          0.          0.\n",
      "  0.          0.          0.          0.          0.          0.          0.\n",
      "  0.          0.          0.0625      0.36328125  0.984375    0.98828125\n",
      "  0.73046875  0.          0.          0.          0.          0.          0.\n",
      "  0.          0.          0.          0.          0.          0.          0.\n",
      "  0.          0.          0.          0.          0.          0.          0.\n",
      "  0.          0.          0.          0.          0.          0.97265625\n",
      "  0.98828125  0.97265625  0.25        0.          0.          0.          0.\n",
      "  0.          0.          0.          0.          0.          0.          0.\n",
      "  0.          0.          0.          0.          0.          0.          0.\n",
      "  0.          0.          0.          0.1796875   0.5078125   0.71484375\n",
      "  0.98828125  0.98828125  0.80859375  0.0078125   0.          0.          0.\n",
      "  0.          0.          0.          0.          0.          0.          0.\n",
      "  0.          0.          0.          0.          0.          0.          0.\n",
      "  0.          0.          0.15234375  0.578125    0.89453125  0.98828125\n",
      "  0.98828125  0.98828125  0.9765625   0.7109375   0.          0.          0.\n",
      "  0.          0.          0.          0.          0.          0.          0.\n",
      "  0.          0.          0.          0.          0.          0.          0.\n",
      "  0.          0.09375     0.4453125   0.86328125  0.98828125  0.98828125\n",
      "  0.98828125  0.98828125  0.78515625  0.3046875   0.          0.          0.\n",
      "  0.          0.          0.          0.          0.          0.          0.\n",
      "  0.          0.          0.          0.          0.          0.          0.\n",
      "  0.08984375  0.2578125   0.83203125  0.98828125  0.98828125  0.98828125\n",
      "  0.98828125  0.7734375   0.31640625  0.0078125   0.          0.          0.\n",
      "  0.          0.          0.          0.          0.          0.          0.\n",
      "  0.          0.          0.          0.          0.          0.          0.0703125\n",
      "  0.66796875  0.85546875  0.98828125  0.98828125  0.98828125  0.98828125\n",
      "  0.76171875  0.3125      0.03515625  0.          0.          0.          0.\n",
      "  0.          0.          0.          0.          0.          0.          0.\n",
      "  0.          0.          0.          0.          0.          0.21484375\n",
      "  0.671875    0.8828125   0.98828125  0.98828125  0.98828125  0.98828125\n",
      "  0.953125    0.51953125  0.04296875  0.          0.          0.          0.\n",
      "  0.          0.          0.          0.          0.          0.          0.\n",
      "  0.          0.          0.          0.          0.          0.          0.\n",
      "  0.53125     0.98828125  0.98828125  0.98828125  0.828125    0.52734375\n",
      "  0.515625    0.0625      0.          0.          0.          0.          0.\n",
      "  0.          0.          0.          0.          0.          0.          0.\n",
      "  0.          0.          0.          0.          0.          0.          0.\n",
      "  0.          0.          0.          0.          0.          0.          0.\n",
      "  0.          0.          0.          0.          0.          0.          0.\n",
      "  0.          0.          0.          0.          0.          0.          0.\n",
      "  0.          0.          0.          0.          0.          0.          0.\n",
      "  0.          0.          0.          0.          0.          0.          0.\n",
      "  0.          0.          0.          0.          0.          0.          0.\n",
      "  0.          0.          0.          0.          0.          0.          0.\n",
      "  0.          0.          0.          0.          0.          0.          0.\n",
      "  0.          0.          0.          0.          0.          0.          0.\n",
      "  0.          0.          0.          0.          0.          0.          0.\n",
      "  0.          0.          0.          0.          0.          0.          0.\n",
      "  0.          0.          0.          0.        ]\n",
      "5\n"
     ]
    }
   ],
   "source": [
    "print(Data[0])\n",
    "print(Labels[0])"
   ]
  },
  {
   "cell_type": "code",
   "execution_count": 8,
   "metadata": {},
   "outputs": [
    {
     "name": "stdout",
     "output_type": "stream",
     "text": [
      "(30000, 784)\n",
      "(10000, 784)\n",
      "(10000, 784)\n"
     ]
    }
   ],
   "source": [
    "## Task 2: Print the dimensions of the three datasets training, validation and testing\n",
    "##\n",
    "from sklearn.model_selection import train_test_split\n",
    "X_train, X_tp, Y_train, Y_tp = train_test_split(Data, Labels, \n",
    "                                                test_size = 0.4, random_state = 42)\n",
    "X_cv, X_test, Y_cv, Y_test = train_test_split(X_tp, Y_tp, \n",
    "                                                test_size = 0.5, random_state = 42)\n",
    "del X_tp, Y_tp\n",
    "print(X_train.shape)\n",
    "print(X_cv.shape)\n",
    "print(X_test.shape)"
   ]
  },
  {
   "cell_type": "code",
   "execution_count": 10,
   "metadata": {
    "collapsed": true
   },
   "outputs": [],
   "source": [
    "def show(image, label=None):\n",
    "    \"\"\"Render a given numpy.float32 array of pixel data.\"\"\"\n",
    "    fig, ax = plt.subplots()\n",
    "    plot = ax.imshow(image.reshape(28, 28),\n",
    "                     cmap=plt.cm.gray)\n",
    "    plot.set_interpolation('nearest')\n",
    "    ax.xaxis.set_ticks_position('top')\n",
    "    ax.yaxis.set_ticks_position('left')\n",
    "    # ensure label 0 is not passed as False\n",
    "    if label or label == 0.:\n",
    "        ax.set_xlabel(\"Label: {}\".format(label),\n",
    "                      size=14)\n",
    "    plt.show()"
   ]
  },
  {
   "cell_type": "code",
   "execution_count": 12,
   "metadata": {},
   "outputs": [
    {
     "data": {
      "image/png": "[encoded data removed]",
      "text/plain": [
       "<matplotlib.figure.Figure at 0x7fce04604e80>"
      ]
     },
     "metadata": {},
     "output_type": "display_data"
    },
    {
     "data": {
      "image/png": "[encoded data removed]",
      "text/plain": [
       "<matplotlib.figure.Figure at 0x7fce0452b668>"
      ]
     },
     "metadata": {},
     "output_type": "display_data"
    },
    {
     "data": {
      "image/png": "[encoded data removed]",
      "text/plain": [
       "<matplotlib.figure.Figure at 0x7fce045e2240>"
      ]
     },
     "metadata": {},
     "output_type": "display_data"
    },
    {
     "data": {
      "image/png": "[encoded data removed]",
      "text/plain": [
       "<matplotlib.figure.Figure at 0x7fce04595588>"
      ]
     },
     "metadata": {},
     "output_type": "display_data"
    },
    {
     "data": {
      "image/png": "[encoded data removed]",
      "text/plain": [
       "<matplotlib.figure.Figure at 0x7fce04492e10>"
      ]
     },
     "metadata": {},
     "output_type": "display_data"
    },
    {
     "data": {
      "image/png": "[encoded data removed]",
      "text/plain": [
       "<matplotlib.figure.Figure at 0x7fce043a9c88>"
      ]
     },
     "metadata": {},
     "output_type": "display_data"
    },
    {
     "data": {
      "image/png": "[encoded data removed]",
      "text/plain": [
       "<matplotlib.figure.Figure at 0x7fce04338e10>"
      ]
     },
     "metadata": {},
     "output_type": "display_data"
    },
    {
     "data": {
      "image/png": "[encoded data removed]",
      "text/plain": [
       "<matplotlib.figure.Figure at 0x7fce042d0c88>"
      ]
     },
     "metadata": {},
     "output_type": "display_data"
    },
    {
     "data": {
      "image/png": "[encoded data removed]",
      "text/plain": [
       "<matplotlib.figure.Figure at 0x7fce04260e10>"
      ]
     },
     "metadata": {},
     "output_type": "display_data"
    },
    {
     "data": {
      "image/png": "[encoded data removed]",
      "text/plain": [
       "<matplotlib.figure.Figure at 0x7fce04175c88>"
      ]
     },
     "metadata": {},
     "output_type": "display_data"
    }
   ],
   "source": [
    "## Task 3: Plot the first ten images of the training data\n",
    "##\n",
    "for k in range(10):\n",
    "    show(Data[k],label = Labels[k])"
   ]
  },
  {
   "cell_type": "markdown",
   "metadata": {},
   "source": [
    "## Define the neural network"
   ]
  },
  {
   "cell_type": "code",
   "execution_count": 70,
   "metadata": {
    "collapsed": true
   },
   "outputs": [],
   "source": [
    "def neural_network_prediction(x, W, b):\n",
    "    \"\"\"This is the entire neural net!\"\"\"\n",
    "    ## Task 4: complete the neural network \n",
    "    #h = W*x + b\n",
    "    y_scores = 1/(1+np.exp(np.dot(x,W)+b))\n",
    "    prediction = softmax(y_scores.flatten())\n",
    "    return np.argmax(prediction)\n",
    "\n",
    "\n",
    "def softmax(z):\n",
    "    \"\"\"Return the softmax of vector z.\n",
    "\n",
    "    The softmax returns normalized positive values.\n",
    "    It is defined as softmax(z_i) = normalise(exp(z_i))\n",
    "    = \\\\frac{exp(z_i)}{\\sum_j exp(z_j)}.\n",
    "    \"\"\"\n",
    "    z -= np.max(z)  # for numerical stability\n",
    "    exps = np.exp(z)\n",
    "    return np.divide(exps, np.sum(exps))"
   ]
  },
  {
   "cell_type": "markdown",
   "metadata": {},
   "source": [
    "## Run the network"
   ]
  },
  {
   "cell_type": "markdown",
   "metadata": {},
   "source": [
    "### Load data\n",
    "first, let's load our data"
   ]
  },
  {
   "cell_type": "code",
   "execution_count": 48,
   "metadata": {
    "collapsed": true
   },
   "outputs": [],
   "source": [
    "X_train, Y_train = read_mnist(\"train\")"
   ]
  },
  {
   "cell_type": "markdown",
   "metadata": {},
   "source": [
    "...and confirm the data is as we expect"
   ]
  },
  {
   "cell_type": "code",
   "execution_count": 49,
   "metadata": {},
   "outputs": [
    {
     "name": "stdout",
     "output_type": "stream",
     "text": [
      "A single example in our dataset =\n",
      "    a vector of length (784,) with values between 0.0 and 0.99609375,\n",
      "    and a corresponding digit label like '5'\n"
     ]
    }
   ],
   "source": [
    "img, label = (X_train[0], Y_train[0])\n",
    "print(\"\"\"A single example in our dataset =\n",
    "    a vector of length {} with values between {} and {},\n",
    "    and a corresponding digit label like '{}'\"\"\".format(img.shape,\n",
    "                                                        img.min(), img.max(),\n",
    "                                                        label))"
   ]
  },
  {
   "cell_type": "markdown",
   "metadata": {},
   "source": [
    "### Predict\n",
    "Now, let's check the neural network function runs."
   ]
  },
  {
   "cell_type": "code",
   "execution_count": 73,
   "metadata": {
    "collapsed": true
   },
   "outputs": [],
   "source": [
    "# randomly initialise params to values between -0.5 and 0.5\n",
    "W1 = np.random.random((784, 10)) - 0.5\n",
    "b1 = np.random.random((1, 10)) - 0.5"
   ]
  },
  {
   "cell_type": "code",
   "execution_count": 74,
   "metadata": {},
   "outputs": [],
   "source": [
    "# generate a prediction for a single example\n",
    "label_predicted = neural_network_prediction(img, W1, b1)"
   ]
  },
  {
   "cell_type": "code",
   "execution_count": 76,
   "metadata": {},
   "outputs": [
    {
     "data": {
      "text/plain": [
       "5"
      ]
     },
     "execution_count": 76,
     "metadata": {},
     "output_type": "execute_result"
    }
   ],
   "source": [
    "label"
   ]
  },
  {
   "cell_type": "markdown",
   "metadata": {},
   "source": [
    "### Evaluate\n",
    "If we successfully outputted a prediction, let's see if the prediction is correct"
   ]
  },
  {
   "cell_type": "code",
   "execution_count": 77,
   "metadata": {},
   "outputs": [
    {
     "name": "stdout",
     "output_type": "stream",
     "text": [
      "False\n"
     ]
    }
   ],
   "source": [
    "def correct(y, y_pred):\n",
    "    '''Check if y_pred equals y.'''\n",
    "    ## Task 5: write a function is check if your prediction is correct\n",
    "    \n",
    "    is_correct = y_pred == y\n",
    "    return is_correct\n",
    "\n",
    "print(correct(label, label_predicted))"
   ]
  },
  {
   "cell_type": "markdown",
   "metadata": {},
   "source": [
    "...and finally how accurate the network is on the test set"
   ]
  },
  {
   "cell_type": "code",
   "execution_count": 78,
   "metadata": {
    "collapsed": true
   },
   "outputs": [],
   "source": [
    "def error_rate_mnist(W, b, dataset='test'):\n",
    "    \"\"\"Calculate the error rate.\"\"\"\n",
    "    data_seen = 0.\n",
    "    total_correct = 0.\n",
    "    total_errors = 0.\n",
    "\n",
    "    x_data, y_data = read_mnist(dataset)\n",
    "    for x, y in zip(x_data, y_data):\n",
    "        y_pred = np.argmax(neural_network_prediction(x, W, b))\n",
    "        if y_pred == y:\n",
    "            total_correct += 1\n",
    "        else:\n",
    "            total_errors += 1\n",
    "        data_seen += 1\n",
    "\n",
    "    return total_errors / data_seen"
   ]
  },
  {
   "cell_type": "markdown",
   "metadata": {},
   "source": [
    "We expect ~90% error rate for random parameters if each digit 0-9 is represented equally in the dataset "
   ]
  },
  {
   "cell_type": "code",
   "execution_count": 80,
   "metadata": {},
   "outputs": [
    {
     "data": {
      "text/plain": [
       "0.902"
      ]
     },
     "execution_count": 80,
     "metadata": {},
     "output_type": "execute_result"
    }
   ],
   "source": [
    "# Task 6: Print the error rate for your network over the test set\n",
    "error_rate_mnist(W1, b1, dataset='test')"
   ]
  },
  {
   "cell_type": "markdown",
   "metadata": {},
   "source": [
    "### If you complete all 6 tasks, here's a 'black box' function to experiment with"
   ]
  },
  {
   "cell_type": "code",
   "execution_count": 97,
   "metadata": {},
   "outputs": [
    {
     "name": "stdout",
     "output_type": "stream",
     "text": [
      "Iteration 0 | Loss: 0.0028 | Train error: 0.8950 | Test error: 0.8955 | Total run time: 12.1s\n",
      "Iteration 2000 | Loss: 2.6182 | Train error: 0.1891 | Test error: 0.1774 | Total run time: 20.6s\n",
      "Iteration 4000 | Loss: 2.2124 | Train error: 0.1534 | Test error: 0.1451 | Total run time: 28.8s\n",
      "Iteration 6000 | Loss: 2.0314 | Train error: 0.1536 | Test error: 0.1434 | Total run time: 36.8s\n",
      "Iteration 8000 | Loss: 2.2138 | Train error: 0.1619 | Test error: 0.1498 | Total run time: 44.5s\n",
      "Iteration 10000 | Loss: 2.5481 | Train error: 0.1882 | Test error: 0.1785 | Total run time: 52.4s\n",
      "Iteration 12000 | Loss: 2.4347 | Train error: 0.1878 | Test error: 0.1749 | Total run time: 60.2s\n",
      "Iteration 14000 | Loss: 3.1384 | Train error: 0.1589 | Test error: 0.1494 | Total run time: 68.0s\n",
      "Iteration 16000 | Loss: 3.1623 | Train error: 0.1618 | Test error: 0.1519 | Total run time: 75.8s\n",
      "Iteration 18000 | Loss: 3.1767 | Train error: 0.1474 | Test error: 0.1388 | Total run time: 85.1s\n",
      "Iteration 20000 | Loss: 2.3673 | Train error: 0.1612 | Test error: 0.1519 | Total run time: 93.1s\n"
     ]
    }
   ],
   "source": [
    "# try getting the neural network to learn by changing the iterations, learning rate and batch size \n",
    "W_learned, b_learned, losses, train_errors, test_errors = learn_mnist(W=np.random.random((784, 10)) - 0.5, \n",
    "                                                                      b=np.random.random((1, 10)) - 0.5, \n",
    "                                                                      max_iters= 20000,\n",
    "                                                                      learning_rate= 0.9, \n",
    "                                                                      batch_size=5)"
   ]
  },
  {
   "cell_type": "code",
   "execution_count": 98,
   "metadata": {},
   "outputs": [
    {
     "data": {
      "image/png": "[encoded data removed]",
      "text/plain": [
       "<matplotlib.figure.Figure at 0x7fce041e7780>"
      ]
     },
     "metadata": {},
     "output_type": "display_data"
    }
   ],
   "source": [
    "# See how the black box is learning\n",
    "plot_learning(losses[1:], train_errors, test_errors)"
   ]
  },
  {
   "cell_type": "code",
   "execution_count": 93,
   "metadata": {},
   "outputs": [
    {
     "name": "stdout",
     "output_type": "stream",
     "text": [
      "Iteration 0 | Loss: 0.0006 | Train error: 0.9009 | Test error: 0.8994 | Total run time: 11.3s\n",
      "Iteration 10000 | Loss: 1.0424 | Train error: 0.1954 | Test error: 0.1828 | Total run time: 20.3s\n",
      "Iteration 20000 | Loss: 0.8250 | Train error: 0.1731 | Test error: 0.1620 | Total run time: 29.1s\n",
      "Iteration 30000 | Loss: 0.8316 | Train error: 0.1524 | Test error: 0.1434 | Total run time: 38.9s\n",
      "Iteration 40000 | Loss: 0.9698 | Train error: 0.1408 | Test error: 0.1327 | Total run time: 47.7s\n",
      "Iteration 50000 | Loss: 1.0027 | Train error: 0.1503 | Test error: 0.1411 | Total run time: 64.7s\n",
      "Iteration 60000 | Loss: 0.9625 | Train error: 0.1420 | Test error: 0.1330 | Total run time: 77.9s\n",
      "Iteration 70000 | Loss: 1.1535 | Train error: 0.1430 | Test error: 0.1354 | Total run time: 87.2s\n",
      "Iteration 80000 | Loss: 1.1241 | Train error: 0.1392 | Test error: 0.1307 | Total run time: 96.2s\n",
      "Iteration 90000 | Loss: 1.2539 | Train error: 0.1333 | Test error: 0.1274 | Total run time: 105.8s\n",
      "Iteration 100000 | Loss: 1.2480 | Train error: 0.1421 | Test error: 0.1334 | Total run time: 115.0s\n"
     ]
    }
   ],
   "source": [
    "W_learned, b_learned, losses, train_errors, test_errors = learn_mnist(W=W1, b=b1, \n",
    "                                                                      max_iters=100000,\n",
    "                                                                      learning_rate=.5, \n",
    "                                                                      batch_size=100)"
   ]
  },
  {
   "cell_type": "code",
   "execution_count": 94,
   "metadata": {},
   "outputs": [
    {
     "data": {
      "image/png": "[encoded data removed]",
      "text/plain": [
       "<matplotlib.figure.Figure at 0x7fce043d7710>"
      ]
     },
     "metadata": {},
     "output_type": "display_data"
    }
   ],
   "source": [
    "plot_learning(losses[1:], train_errors, test_errors)"
   ]
  },
  {
   "cell_type": "code",
   "execution_count": 88,
   "metadata": {
    "collapsed": true
   },
   "outputs": [],
   "source": [
    "learn_mnist?"
   ]
  },
  {
   "cell_type": "code",
   "execution_count": null,
   "metadata": {
    "collapsed": true
   },
   "outputs": [],
   "source": []
  }
 ],
 "metadata": {
  "anaconda-cloud": {},
  "kernelspec": {
   "display_name": "Python [conda env:Python3]",
   "language": "python",
   "name": "conda-env-Python3-py"
  },
  "language_info": {
   "codemirror_mode": {
    "name": "ipython",
    "version": 3
   },
   "file_extension": ".py",
   "mimetype": "text/x-python",
   "name": "python",
   "nbconvert_exporter": "python",
   "pygments_lexer": "ipython3",
   "version": "3.6.1"
  }
 },
 "nbformat": 4,
 "nbformat_minor": 1
}
