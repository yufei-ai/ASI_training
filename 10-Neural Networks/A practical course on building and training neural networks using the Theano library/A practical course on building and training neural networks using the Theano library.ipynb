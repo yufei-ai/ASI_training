{
 "cells": [
  {
   "cell_type": "markdown",
   "metadata": {},
   "source": [
    "# Building and training neural networks using the Theano library"
   ]
  },
  {
   "cell_type": "markdown",
   "metadata": {},
   "source": [
    "## Hello world with theano"
   ]
  },
  {
   "cell_type": "code",
   "execution_count": null,
   "metadata": {
    "collapsed": false
   },
   "outputs": [],
   "source": [
    "import theano\n",
    "import theano.tensor as T"
   ]
  },
  {
   "cell_type": "markdown",
   "metadata": {},
   "source": [
    "Construct two variables and a simple function\n",
    "$$z = x^2+y^3$$"
   ]
  },
  {
   "cell_type": "code",
   "execution_count": 5,
   "metadata": {
    "collapsed": false
   },
   "outputs": [],
   "source": [
    "x = T.dscalar()\n",
    "y = T.dscalar()\n",
    "z = x**2 + y**3"
   ]
  },
  {
   "cell_type": "code",
   "execution_count": 6,
   "metadata": {
    "collapsed": false
   },
   "outputs": [
    {
     "data": {
      "text/plain": [
       "array(12.0)"
      ]
     },
     "execution_count": 6,
     "metadata": {},
     "output_type": "execute_result"
    }
   ],
   "source": [
    "z.eval({x:2,y:2})"
   ]
  },
  {
   "cell_type": "code",
   "execution_count": 4,
   "metadata": {
    "collapsed": false
   },
   "outputs": [
    {
     "data": {
      "text/plain": [
       "array(10.0)"
      ]
     },
     "execution_count": 4,
     "metadata": {},
     "output_type": "execute_result"
    }
   ],
   "source": [
    "z.eval({x:3,y:1})\n"
   ]
  },
  {
   "cell_type": "markdown",
   "metadata": {},
   "source": [
    "## Computing derivatives with theano\n",
    "The partial derivatives of the function above are\n",
    "$$\n",
    "\\begin{align}\n",
    "\\frac{\\partial z}{\\partial x}  &= 2x \\\\\n",
    "\\frac{\\partial z}{\\partial y}  &= 3y^2\n",
    "\\end{align}\n",
    "$$\n",
    "\n",
    "We evaluate these for certain values of the inputs; e.g.\n",
    "$$\n",
    "\\begin{align}\n",
    "\\left. \\frac{\\partial z}{\\partial x} \\right|_{\\substack{x=2 \\\\ y=2}} = 4\n",
    "\\end{align}\n",
    "$$"
   ]
  },
  {
   "cell_type": "code",
   "execution_count": 8,
   "metadata": {
    "collapsed": false
   },
   "outputs": [
    {
     "data": {
      "text/plain": [
       "array(4.0)"
      ]
     },
     "execution_count": 8,
     "metadata": {},
     "output_type": "execute_result"
    }
   ],
   "source": [
    "T.grad(z,x).eval({x:2,y:2})"
   ]
  },
  {
   "cell_type": "code",
   "execution_count": 9,
   "metadata": {
    "collapsed": false
   },
   "outputs": [
    {
     "data": {
      "text/plain": [
       "array(6.0)"
      ]
     },
     "execution_count": 9,
     "metadata": {},
     "output_type": "execute_result"
    }
   ],
   "source": [
    "T.grad(z,x).eval({x:3,y:1})"
   ]
  },
  {
   "cell_type": "code",
   "execution_count": 10,
   "metadata": {
    "collapsed": false
   },
   "outputs": [
    {
     "data": {
      "text/plain": [
       "array(12.0)"
      ]
     },
     "execution_count": 10,
     "metadata": {},
     "output_type": "execute_result"
    }
   ],
   "source": [
    "T.grad(z,y).eval({x:2,y:2})"
   ]
  },
  {
   "cell_type": "markdown",
   "metadata": {},
   "source": [
    "## Creating theano functions\n",
    "Theano compiles the graph to C code every time we evaluate a variable.\n",
    "For efficiency, we can create theano functions:"
   ]
  },
  {
   "cell_type": "code",
   "execution_count": 13,
   "metadata": {
    "collapsed": false
   },
   "outputs": [
    {
     "data": {
      "text/plain": [
       "array(31.0)"
      ]
     },
     "execution_count": 13,
     "metadata": {},
     "output_type": "execute_result"
    }
   ],
   "source": [
    "f = theano.function(inputs=[x, y], outputs = z)\n",
    "f(2, 3)"
   ]
  },
  {
   "cell_type": "code",
   "execution_count": 14,
   "metadata": {
    "collapsed": false
   },
   "outputs": [
    {
     "data": {
      "text/plain": [
       "array(4.0)"
      ]
     },
     "execution_count": 14,
     "metadata": {},
     "output_type": "execute_result"
    }
   ],
   "source": [
    "g = theano.function(inputs=[x, y], outputs = T.grad(z,x))\n",
    "g(2,2)"
   ]
  },
  {
   "cell_type": "markdown",
   "metadata": {},
   "source": [
    "## Exercise 1\n",
    "For\n",
    "$$z = e^x y \\log y$$\n",
    "Create two theano functions, one to compute $z$ as a function of $x$ and $y$, and a second to compute $\\left. \\frac{\\partial z}{\\partial x}\\right|_{x=1}$ as a function of $y$"
   ]
  },
  {
   "cell_type": "code",
   "execution_count": 15,
   "metadata": {
    "collapsed": true
   },
   "outputs": [],
   "source": [
    "# your code goes here ..."
   ]
  },
  {
   "cell_type": "markdown",
   "metadata": {},
   "source": [
    "## Linear algebra with theano\n",
    "Same as above, except that we declare our variables to be vectors or matrices. For the next example, we will use\n",
    "$$ y = \\boldsymbol{\\textrm{x}}^\\boldsymbol{\\textrm{T}}\\boldsymbol{\\textrm{W}}\\boldsymbol{\\textrm{x}} $$\n",
    "with partial derivatives\n",
    "$$\n",
    "\\begin{align}\n",
    "\\frac{\\partial y}{\\partial \\boldsymbol{\\textrm{W}}}  &= \\boldsymbol{\\textrm{x}}\\boldsymbol{\\textrm{x}}^\\boldsymbol{\\textrm{T}} \\\\\n",
    "\\frac{\\partial y}{\\partial \\boldsymbol{\\textrm{x}}}  &= \\boldsymbol{\\textrm{x}}^\\boldsymbol{\\textrm{T}} \\left( \\boldsymbol{\\textrm{W}} + \\boldsymbol{\\textrm{W}}^\\boldsymbol{\\textrm{T}}  \\right) \\\\\n",
    "\\end{align}\n",
    "$$"
   ]
  },
  {
   "cell_type": "code",
   "execution_count": 17,
   "metadata": {
    "collapsed": false
   },
   "outputs": [
    {
     "data": {
      "text/plain": [
       "array(49.0)"
      ]
     },
     "execution_count": 17,
     "metadata": {},
     "output_type": "execute_result"
    }
   ],
   "source": [
    "W = T.dmatrix()\n",
    "x = T.dvector()\n",
    "y = T.dot(x,T.dot(W,x))\n",
    "param_dictionary = {W:[[1,0],[1,1]], x:[3,5]}\n",
    "y.eval(param_dictionary)"
   ]
  },
  {
   "cell_type": "code",
   "execution_count": 18,
   "metadata": {
    "collapsed": false
   },
   "outputs": [
    {
     "data": {
      "text/plain": [
       "array([[  9.,  15.],\n",
       "       [ 15.,  25.]])"
      ]
     },
     "execution_count": 18,
     "metadata": {},
     "output_type": "execute_result"
    }
   ],
   "source": [
    "T.grad(y,W).eval(param_dictionary)"
   ]
  },
  {
   "cell_type": "code",
   "execution_count": 19,
   "metadata": {
    "collapsed": false
   },
   "outputs": [
    {
     "data": {
      "text/plain": [
       "array([ 11.,  13.])"
      ]
     },
     "execution_count": 19,
     "metadata": {},
     "output_type": "execute_result"
    }
   ],
   "source": [
    "T.grad(y,x).eval(param_dictionary)"
   ]
  },
  {
   "cell_type": "markdown",
   "metadata": {},
   "source": [
    "## Theano shared variables\n",
    "* We need these for model parameters\n",
    "* Called \"shared\" because their value can be shared between multiple theano functions"
   ]
  },
  {
   "cell_type": "code",
   "execution_count": 20,
   "metadata": {
    "collapsed": false
   },
   "outputs": [
    {
     "data": {
      "text/plain": [
       "array(31.0)"
      ]
     },
     "execution_count": 20,
     "metadata": {},
     "output_type": "execute_result"
    }
   ],
   "source": [
    "from numpy import array\n",
    "x = T.dvector()\n",
    "a = theano.shared(value = array([2,3]))\n",
    "y = T.dot(a, x)\n",
    "y.eval({x:[5,7]})"
   ]
  },
  {
   "cell_type": "code",
   "execution_count": 22,
   "metadata": {
    "collapsed": false
   },
   "outputs": [
    {
     "data": {
      "text/plain": [
       "array(43.0)"
      ]
     },
     "execution_count": 22,
     "metadata": {},
     "output_type": "execute_result"
    }
   ],
   "source": [
    "a.set_value(array([3,4]))\n",
    "y.eval({x:[5,7]})"
   ]
  },
  {
   "cell_type": "markdown",
   "metadata": {},
   "source": [
    "## Theano <code>updates</code> and <code>givens</code>\n",
    "<code>theano.function</code> has two other parameters that we will make use of: <code>updates</code> and <code>givens</code>.\n",
    "* <code>updates</code>\n",
    "  * Use this to update the model parameters\n",
    "* <code>givens</code>\n",
    "  * Use this to set the input and output variables to the values in our dataset"
   ]
  },
  {
   "cell_type": "markdown",
   "metadata": {},
   "source": [
    "<code>updates</code>\n",
    "* takes a list of pairs of the form <code>(shared_variable, new_expression)</code>\n",
    "* after computing the function, it updates the values of the shared variables in the list\n",
    "* we will use this to create a training function that takes a gradient descent step whenever we call it"
   ]
  },
  {
   "cell_type": "code",
   "execution_count": 24,
   "metadata": {
    "collapsed": false
   },
   "outputs": [
    {
     "data": {
      "text/plain": [
       "array(0)"
      ]
     },
     "execution_count": 24,
     "metadata": {},
     "output_type": "execute_result"
    }
   ],
   "source": [
    "x = T.dscalar()\n",
    "a = theano.shared(value = 0)\n",
    "f = theano.function(inputs=[x], outputs=a+x, updates=[[a,a+1]])\n",
    "a.get_value()"
   ]
  },
  {
   "cell_type": "code",
   "execution_count": 25,
   "metadata": {
    "collapsed": false
   },
   "outputs": [
    {
     "data": {
      "text/plain": [
       "array(3.0)"
      ]
     },
     "execution_count": 25,
     "metadata": {},
     "output_type": "execute_result"
    }
   ],
   "source": [
    "f(3) # updates the value of a"
   ]
  },
  {
   "cell_type": "code",
   "execution_count": 27,
   "metadata": {
    "collapsed": false
   },
   "outputs": [
    {
     "data": {
      "text/plain": [
       "array(1)"
      ]
     },
     "execution_count": 27,
     "metadata": {},
     "output_type": "execute_result"
    }
   ],
   "source": [
    "a.get_value() # now gives a different result"
   ]
  },
  {
   "cell_type": "code",
   "execution_count": 29,
   "metadata": {
    "collapsed": false
   },
   "outputs": [
    {
     "data": {
      "text/plain": [
       "array(5.0)"
      ]
     },
     "execution_count": 29,
     "metadata": {},
     "output_type": "execute_result"
    }
   ],
   "source": [
    "f(3) # this depends on a, so also gives a different result"
   ]
  },
  {
   "cell_type": "markdown",
   "metadata": {},
   "source": [
    "<code>givens</code>\n",
    "* takes a dictionary of the form <code>{variable: value, ...}</code>\n",
    "* when computing the function, it uses the given values for the corresponding variables instead\n",
    "* we will use this as follows: \n",
    "  * we will have variables for the input and output of the model\n",
    "  * when training, we will use <code>givens</code> to set both input and output to the desired values, when testing we will only set the input"
   ]
  },
  {
   "cell_type": "code",
   "execution_count": 31,
   "metadata": {
    "collapsed": false
   },
   "outputs": [
    {
     "data": {
      "text/plain": [
       "array(9.0)"
      ]
     },
     "execution_count": 31,
     "metadata": {},
     "output_type": "execute_result"
    }
   ],
   "source": [
    "x = T.dscalar()\n",
    "y = T.dscalar()\n",
    "f = theano.function(inputs=[x], outputs=x+y, givens = {y: 2*x})\n",
    "f(3)"
   ]
  },
  {
   "cell_type": "markdown",
   "metadata": {},
   "source": [
    "# Digit recognition: MNIST dataset\n",
    "## Logistic regression\n",
    "Download Python gzipped pickle from: \n",
    "http://www.iro.umontreal.ca/~lisa/deep/data/mnist/mnist.pkl.gz"
   ]
  },
  {
   "cell_type": "code",
   "execution_count": 87,
   "metadata": {
    "collapsed": false
   },
   "outputs": [],
   "source": [
    "import gzip\n",
    "import cPickle\n",
    "\n",
    "f = gzip.open('mnist.pkl.gz', 'rb')\n",
    "train_set, valid_set, test_set = cPickle.load(f)\n",
    "f.close()\n",
    "\n",
    "n_train, n_test = map(lambda x:len(x[0]), [train_set, test_set])\n",
    "dims = train_set[0].shape[1]\n",
    "n_classes = len(set(train_set[1]))"
   ]
  },
  {
   "cell_type": "code",
   "execution_count": 88,
   "metadata": {
    "collapsed": true
   },
   "outputs": [],
   "source": [
    "import numpy\n",
    "import theano\n",
    "import theano.tensor as T\n",
    "\n",
    "prepare_data = lambda x: (theano.shared(x[0].astype('float64')), theano.shared(x[1].astype('int32')))\n",
    "(training_x, training_y), (test_x, test_y) = map(prepare_data, [train_set, test_set])"
   ]
  },
  {
   "cell_type": "code",
   "execution_count": 89,
   "metadata": {
    "collapsed": true
   },
   "outputs": [],
   "source": [
    "X = T.dmatrix()\n",
    "y = T.ivector()\n",
    "\n",
    "W = theano.shared(numpy.zeros([dims,n_classes]))\n",
    "b = theano.shared(numpy.zeros(n_classes))"
   ]
  },
  {
   "cell_type": "code",
   "execution_count": 90,
   "metadata": {
    "collapsed": true
   },
   "outputs": [],
   "source": [
    "y_hat = T.nnet.softmax(T.dot(X,W) + b)\n",
    "y_pred = T.argmax(y_hat, axis=1)\n",
    "test_error = T.mean(T.neq(y_pred, y))\n",
    "training_error = -T.mean(T.log(y_hat)[T.arange(y.shape[0]), y])"
   ]
  },
  {
   "cell_type": "code",
   "execution_count": 91,
   "metadata": {
    "collapsed": true
   },
   "outputs": [],
   "source": [
    "learning_rate = .5\n",
    "updates = [\n",
    "        [W, W - learning_rate * T.grad(training_error, W)], \n",
    "        [b, b - learning_rate * T.grad(training_error, b)]\n",
    "    ]"
   ]
  },
  {
   "cell_type": "code",
   "execution_count": 92,
   "metadata": {
    "collapsed": true
   },
   "outputs": [],
   "source": [
    "training_function = theano.function(\n",
    "    inputs = [],\n",
    "    outputs = training_error,\n",
    "    updates = updates,\n",
    "    givens = {X:training_x, y: training_y}\n",
    "    )"
   ]
  },
  {
   "cell_type": "code",
   "execution_count": 93,
   "metadata": {
    "collapsed": true
   },
   "outputs": [],
   "source": [
    "test_function = theano.function(\n",
    "    inputs = [],\n",
    "    outputs = test_error,\n",
    "    givens = {X: test_x, y: test_y}\n",
    "    )"
   ]
  },
  {
   "cell_type": "code",
   "execution_count": 94,
   "metadata": {
    "collapsed": false
   },
   "outputs": [
    {
     "name": "stdout",
     "output_type": "stream",
     "text": [
      "Training set negative log-likelihood: 2.302585\n",
      "Test set accuracy: 0.318700\n",
      "\n",
      "Training set negative log-likelihood: 1.839121\n",
      "Test set accuracy: 0.211800\n",
      "\n",
      "Training set negative log-likelihood: 1.525054\n",
      "Test set accuracy: 0.213500\n",
      "\n",
      "Training set negative log-likelihood: 1.314244\n",
      "Test set accuracy: 0.183700\n",
      "\n",
      "Training set negative log-likelihood: 1.168241\n",
      "Test set accuracy: 0.181600\n",
      "\n"
     ]
    }
   ],
   "source": [
    "for i in range(5): # try range(300) for better results\n",
    "    print('Training set negative log-likelihood: %f' % training_function())\n",
    "    print('Test set accuracy: %f' % test_function())\n",
    "    print('')"
   ]
  },
  {
   "cell_type": "code",
   "execution_count": 44,
   "metadata": {
    "collapsed": true
   },
   "outputs": [],
   "source": [
    "classify = theano.function(\n",
    "    inputs = [],\n",
    "    outputs = y_pred,\n",
    "    givens = {X: test_x}\n",
    "    )"
   ]
  },
  {
   "cell_type": "code",
   "execution_count": 47,
   "metadata": {
    "collapsed": true
   },
   "outputs": [],
   "source": [
    "import matplotlib\n",
    "import matplotlib.pyplot as plt\n",
    "import numpy as np\n",
    "%matplotlib inline\n",
    "def plot_mnist_digit(image):\n",
    "    \"\"\" Plot a single MNIST image.\"\"\"\n",
    "    image = np.reshape(image, [28,28])    \n",
    "    fig = plt.figure()\n",
    "    ax = fig.add_subplot(1, 1, 1)\n",
    "    ax.matshow(image, cmap = matplotlib.cm.binary)\n",
    "    plt.xticks(np.array([]))\n",
    "    plt.yticks(np.array([]))\n",
    "    plt.show()"
   ]
  },
  {
   "cell_type": "code",
   "execution_count": null,
   "metadata": {
    "collapsed": false
   },
   "outputs": [],
   "source": [
    "test_labels = classify()"
   ]
  },
  {
   "cell_type": "code",
   "execution_count": 50,
   "metadata": {
    "collapsed": false
   },
   "outputs": [
    {
     "data": {
      "image/png": "[encoded data removed]",
      "text/plain": [
       "<matplotlib.figure.Figure at 0x1acc6128>"
      ]
     },
     "metadata": {},
     "output_type": "display_data"
    },
    {
     "name": "stdout",
     "output_type": "stream",
     "text": [
      "7 7\n"
     ]
    },
    {
     "data": {
      "image/png": "[encoded data removed]",
      "text/plain": [
       "<matplotlib.figure.Figure at 0x1d656d68>"
      ]
     },
     "metadata": {},
     "output_type": "display_data"
    },
    {
     "name": "stdout",
     "output_type": "stream",
     "text": [
      "2 2\n"
     ]
    },
    {
     "data": {
      "image/png": "[encoded data removed]",
      "text/plain": [
       "<matplotlib.figure.Figure at 0x32b0aeb8>"
      ]
     },
     "metadata": {},
     "output_type": "display_data"
    },
    {
     "name": "stdout",
     "output_type": "stream",
     "text": [
      "1 1\n"
     ]
    },
    {
     "data": {
      "image/png": "[encoded data removed]",
      "text/plain": [
       "<matplotlib.figure.Figure at 0x1dadba20>"
      ]
     },
     "metadata": {},
     "output_type": "display_data"
    },
    {
     "name": "stdout",
     "output_type": "stream",
     "text": [
      "0 0\n"
     ]
    },
    {
     "data": {
      "image/png": "[encoded data removed]",
      "text/plain": [
       "<matplotlib.figure.Figure at 0x328d91d0>"
      ]
     },
     "metadata": {},
     "output_type": "display_data"
    },
    {
     "name": "stdout",
     "output_type": "stream",
     "text": [
      "4 4\n"
     ]
    },
    {
     "data": {
      "image/png": "[encoded data removed]",
      "text/plain": [
       "<matplotlib.figure.Figure at 0x325ba940>"
      ]
     },
     "metadata": {},
     "output_type": "display_data"
    },
    {
     "name": "stdout",
     "output_type": "stream",
     "text": [
      "1 1\n"
     ]
    },
    {
     "data": {
      "image/png": "[encoded data removed]",
      "text/plain": [
       "<matplotlib.figure.Figure at 0x328a40f0>"
      ]
     },
     "metadata": {},
     "output_type": "display_data"
    },
    {
     "name": "stdout",
     "output_type": "stream",
     "text": [
      "4 4\n"
     ]
    },
    {
     "data": {
      "image/png": "[encoded data removed]",
      "text/plain": [
       "<matplotlib.figure.Figure at 0x3259b860>"
      ]
     },
     "metadata": {},
     "output_type": "display_data"
    },
    {
     "name": "stdout",
     "output_type": "stream",
     "text": [
      "9 9\n"
     ]
    },
    {
     "data": {
      "image/png": "[encoded data removed]",
      "text/plain": [
       "<matplotlib.figure.Figure at 0x3299bfd0>"
      ]
     },
     "metadata": {},
     "output_type": "display_data"
    },
    {
     "name": "stdout",
     "output_type": "stream",
     "text": [
      "2 5\n"
     ]
    },
    {
     "data": {
      "image/png": "[encoded data removed]",
      "text/plain": [
       "<matplotlib.figure.Figure at 0x329a5470>"
      ]
     },
     "metadata": {},
     "output_type": "display_data"
    },
    {
     "name": "stdout",
     "output_type": "stream",
     "text": [
      "7 9\n"
     ]
    }
   ],
   "source": [
    "for i in range(10):\n",
    "    plot_mnist_digit(test_x.get_value()[i])\n",
    "    print test_labels[i], test_y.get_value()[i]"
   ]
  },
  {
   "cell_type": "markdown",
   "metadata": {},
   "source": [
    "## Neural network with 1 hidden layer"
   ]
  },
  {
   "cell_type": "code",
   "execution_count": 84,
   "metadata": {
    "collapsed": true
   },
   "outputs": [],
   "source": [
    "n_hidden_neurons = 20\n",
    "W_xh = theano.shared(.01*numpy.random.randn(dims,n_hidden_neurons))\n",
    "b_xh = theano.shared(numpy.zeros(n_classes))\n",
    "W_hy = theano.shared(numpy.zeros([n_hidden_neurons,n_classes]))\n",
    "b_hy = theano.shared(numpy.zeros(n_classes))"
   ]
  },
  {
   "cell_type": "code",
   "execution_count": 66,
   "metadata": {
    "collapsed": true
   },
   "outputs": [],
   "source": [
    "h = T.tanh(T.dot(X,W_xh) + b_xh)\n",
    "y_hat = T.nnet.softmax(T.dot(h,W_hy) + b_hy)"
   ]
  },
  {
   "cell_type": "code",
   "execution_count": 67,
   "metadata": {
    "collapsed": true
   },
   "outputs": [],
   "source": [
    "y_pred = T.argmax(y_hat, axis=1) # These stay the same, but in the notebook need to be re-run\n",
    "test_error = T.mean(T.neq(y_pred, y))\n",
    "training_error = -T.mean(T.log(y_hat)[T.arange(y.shape[0]), y])"
   ]
  },
  {
   "cell_type": "code",
   "execution_count": 81,
   "metadata": {
    "collapsed": false
   },
   "outputs": [],
   "source": [
    "learning_rate = 2\n",
    "updates = [\n",
    "        [W_xh, W_xh - learning_rate * T.grad(training_error, W_xh)], \n",
    "        [b_xh, b_xh - learning_rate * T.grad(training_error, b_xh)],\n",
    "        [W_hy, W_hy - learning_rate * T.grad(training_error, W_hy)], \n",
    "        [b_hy, b_hy - learning_rate * T.grad(training_error, b_hy)],\n",
    "    ]"
   ]
  },
  {
   "cell_type": "code",
   "execution_count": 83,
   "metadata": {
    "collapsed": true
   },
   "outputs": [],
   "source": [
    "# To run quickly, use smaller dataset...\n",
    "f = gzip.open('C:/nnets/mnist.pkl.gz', 'rb')\n",
    "train_set, valid_set, test_set = cPickle.load(f)\n",
    "f.close()\n",
    "\n",
    "train_set = (train_set[0][:5000], train_set[1][:5000])\n",
    "test_set = (test_set[0][:5000], test_set[1][:5000])\n",
    "# Need to re-run this in the notebook...\n",
    "n_train, n_test = map(lambda x:len(x[0]), [train_set, test_set])\n",
    "dims = train_set[0].shape[1]\n",
    "n_classes = len(set(train_set[1]))\n",
    "\n",
    "prepare_data = lambda x: (theano.shared(x[0].astype('float64')), theano.shared(x[1].astype('int32')))\n",
    "training_x, training_y = prepare_data(train_set)\n",
    "test_x, test_y = prepare_data(train_set)"
   ]
  },
  {
   "cell_type": "markdown",
   "metadata": {},
   "source": [
    "## Exercise 2\n",
    "Train and show results of this neural network (same way as we did for logistic regression)"
   ]
  },
  {
   "cell_type": "code",
   "execution_count": 74,
   "metadata": {
    "collapsed": true
   },
   "outputs": [],
   "source": [
    "# your code here ..."
   ]
  },
  {
   "cell_type": "markdown",
   "metadata": {},
   "source": [
    "## Exercise 3\n",
    "Add another hidden layer to the network, for a total of 4 layers (1 input, 1 output, 2 hidden).\n",
    "\n",
    "**Bonus:** Write the code in an object-oriented manner so you can create dynamically as many hidden layers as you want"
   ]
  },
  {
   "cell_type": "code",
   "execution_count": 75,
   "metadata": {
    "collapsed": true
   },
   "outputs": [],
   "source": [
    "# your code here ..."
   ]
  },
  {
   "cell_type": "markdown",
   "metadata": {},
   "source": [
    "# Optimization tricks\n",
    "## Stochastic Gradient Descent\n",
    "* Modify the training function so that it takes as input a vector of dataset indexes\n",
    "  * Add this vector variable to the graph\n",
    "* Write a function that takes the data, applies a random permutation, and splits into mini-batches\n",
    "* Rewrite the training loop to use mini-batches\n",
    "  * Can switch back to gradient descent by setting the mini-batch size to the size of the dataset"
   ]
  },
  {
   "cell_type": "code",
   "execution_count": 98,
   "metadata": {
    "collapsed": false
   },
   "outputs": [],
   "source": [
    "idx = T.ivector()\n",
    "training_function = theano.function(\n",
    "    inputs = [idx],\n",
    "    outputs = training_error,\n",
    "    updates = updates,\n",
    "    givens = {X:training_x[idx], y: training_y[idx]}\n",
    "    )\n",
    "getMiniBatches = (lambda n, colLen: numpy.reshape(numpy.random.permutation(n)[:n//colLen*colLen], [n//colLen, colLen]))"
   ]
  },
  {
   "cell_type": "code",
   "execution_count": 99,
   "metadata": {
    "collapsed": false
   },
   "outputs": [
    {
     "name": "stdout",
     "output_type": "stream",
     "text": [
      "Test set accuracy: 0.102300\n",
      "Test set accuracy: 0.091000\n",
      "Test set accuracy: 0.087900\n",
      "Test set accuracy: 0.086100\n",
      "Test set accuracy: 0.084100\n"
     ]
    }
   ],
   "source": [
    "minibatchSize = 600\n",
    "for dataset_cycles in range(5):\n",
    "    for minibatch_idx in getMiniBatches(n_train, minibatchSize):\n",
    "        training_function(minibatch_idx)\n",
    "    print('Test set accuracy: %f' % test_function())"
   ]
  },
  {
   "cell_type": "markdown",
   "metadata": {},
   "source": [
    "## Early stopping"
   ]
  },
  {
   "cell_type": "code",
   "execution_count": 100,
   "metadata": {
    "collapsed": true
   },
   "outputs": [],
   "source": [
    "(training_x, training_y), (test_x, test_y), (validation_x, validation_y) = map(prepare_data, [train_set, test_set, valid_set])\n",
    "\n",
    "validation_function = theano.function(\n",
    "    inputs = [],\n",
    "    outputs = test_error,\n",
    "    givens = {X: validation_x, y: validation_y}\n",
    "    )"
   ]
  },
  {
   "cell_type": "code",
   "execution_count": 101,
   "metadata": {
    "collapsed": true
   },
   "outputs": [],
   "source": [
    "nEpoch = 0\n",
    "minEpochs = 50\n",
    "patience = 0\n",
    "maxPatience = 20\n",
    "\n",
    "bestScore = numpy.inf\n",
    "params = [W, b]"
   ]
  },
  {
   "cell_type": "code",
   "execution_count": null,
   "metadata": {
    "collapsed": false
   },
   "outputs": [],
   "source": [
    "while nEpoch < minEpochs or patience < maxPatience:\n",
    "    for minibatch_idx in getMiniBatches(n_train, minibatchSize):\n",
    "        training_function(minibatch_idx)\n",
    "    validScore = validation_function()\n",
    "    if validScore < bestScore:\n",
    "        bestScore = validScore\n",
    "        patience = 0\n",
    "        bestParams = {i: i.get_value() for i in params}\n",
    "    else: patience += 1\n",
    "    nEpoch += 1"
   ]
  },
  {
   "cell_type": "code",
   "execution_count": null,
   "metadata": {
    "collapsed": true
   },
   "outputs": [],
   "source": [
    "for var, val in bestParams.iteritems():\n",
    "    var.set_value(val)"
   ]
  },
  {
   "cell_type": "markdown",
   "metadata": {},
   "source": [
    "## Parameter initialization\n",
    "Only for weights going into a hidden layer"
   ]
  },
  {
   "cell_type": "code",
   "execution_count": 104,
   "metadata": {
    "collapsed": true
   },
   "outputs": [],
   "source": [
    "alpha = numpy.sqrt(6.0 / (dims + n_hidden_neurons))\n",
    "W_xh = theano.shared(numpy.random.uniform(-alpha, alpha, (dims,n_hidden_neurons)))"
   ]
  },
  {
   "cell_type": "markdown",
   "metadata": {},
   "source": [
    "## Momentum method"
   ]
  },
  {
   "cell_type": "code",
   "execution_count": 105,
   "metadata": {
    "collapsed": true
   },
   "outputs": [],
   "source": [
    "beta = .8\n",
    "params = [W, b]\n",
    "updates = []\n",
    "for p in params:\n",
    "    m = theano.shared(0.*p.get_value())\n",
    "    updates += [(p, p - learning_rate * m),\n",
    "                (m, beta * m + (1 - beta) * T.grad(training_error, p))]"
   ]
  },
  {
   "cell_type": "markdown",
   "metadata": {},
   "source": [
    "## Whitening"
   ]
  },
  {
   "cell_type": "code",
   "execution_count": 107,
   "metadata": {
    "collapsed": true
   },
   "outputs": [],
   "source": [
    "def getWhiteningParameters(x):\n",
    "    xMean = numpy.mean(x,axis=0)\n",
    "    xBar = x-xMean\n",
    "    sigma = numpy.dot(xBar.T, xBar) / x.shape[0]\n",
    "    U,S,V = numpy.linalg.svd(sigma)\n",
    "    epsilon = 1e-5\n",
    "    nDims = sum(S > 1e-5)\n",
    "    U = U[:,:nDims]\n",
    "    S = S[:nDims]\n",
    "    return xMean, U, S, epsilon\n",
    "\n",
    "def whitenData(x, xMean, U, S, epsilon):\n",
    "    xBar = x-xMean\n",
    "    xRot = numpy.dot(xBar, U)\n",
    "    xPCAwhite = 1./numpy.sqrt(S + epsilon) * xRot\n",
    "    return xPCAwhite"
   ]
  },
  {
   "cell_type": "code",
   "execution_count": null,
   "metadata": {
    "collapsed": true
   },
   "outputs": [],
   "source": [
    "dims = whiteningParams[1].shape[1]\n",
    "prepare_data = lambda x: (theano.shared(whitenData(x[0], *whiteningParams).astype('float64')), theano.shared(x[1].astype('int32')))"
   ]
  },
  {
   "cell_type": "markdown",
   "metadata": {},
   "source": [
    "## Adaptive learning rates"
   ]
  },
  {
   "cell_type": "code",
   "execution_count": null,
   "metadata": {
    "collapsed": true
   },
   "outputs": [],
   "source": [
    "params = [W, b]\n",
    "updates = []\n",
    "ada_rates = {}\n",
    "for p in params:\n",
    "    ada_rates[p] = theano.shared(1.+0.*p.get_value())\n",
    "    updates += [(p, p - learning_rate * ada_rates[p] * T.grad(training_error, p))]\n",
    "\n",
    "training_function = theano.function(\n",
    "    inputs = [idx],\n",
    "    outputs = [training_error]+[T.grad(training_error, p) for p in params],\n",
    "    updates = updates,\n",
    "    givens = {X:training_x[idx], y: training_y[idx]}\n",
    "    )\n",
    "\n",
    "lastGradients = None; curGradients = None\n",
    "\n",
    "# inside training loop\n",
    "lastGradients = curGradients\n",
    "        trFunOut = training_function(minibatch_idx)\n",
    "        curGradients = dict(zip(params,trFunOut[1:]))\n",
    "        if lastGradients is not None:\n",
    "            for p in params:\n",
    "                g = lastGradients[p] * curGradients[p]\n",
    "                ar = numpy.copy(ada_rates[p].get_value())\n",
    "                ar[g>0] += .05; ar[g<0] *= .95\n",
    "                ada_rates[p].set_value(ar)"
   ]
  },
  {
   "cell_type": "markdown",
   "metadata": {},
   "source": [
    "## rmsprop"
   ]
  },
  {
   "cell_type": "code",
   "execution_count": 109,
   "metadata": {
    "collapsed": true
   },
   "outputs": [],
   "source": [
    "beta = .9\n",
    "params = [W, b]\n",
    "updates = []\n",
    "for p in params:\n",
    "    ms = theano.shared(1.+0.*p.get_value())\n",
    "    updates += [(p, p-learning_rate*T.grad(training_error, p)/T.sqrt(ms)),\n",
    "       (ms, beta * ms + (1 - beta) * T.sqr(T.grad(training_error, p)))]"
   ]
  },
  {
   "cell_type": "markdown",
   "metadata": {},
   "source": [
    "## Regularization (L1, L2)"
   ]
  },
  {
   "cell_type": "code",
   "execution_count": 110,
   "metadata": {
    "collapsed": true
   },
   "outputs": [],
   "source": [
    "L1 = 0; L2 = 0\n",
    "for p in params:\n",
    "    L1 += T.mean(abs(p))\n",
    "    L2 += T.mean(p ** 2)\n",
    "\n",
    "training_error = ((-T.mean(T.log(y_hat)[T.arange(y.shape[0]), y])) + .01 * L1 + .01 * L2)"
   ]
  },
  {
   "cell_type": "markdown",
   "metadata": {},
   "source": [
    "## Dropout"
   ]
  },
  {
   "cell_type": "code",
   "execution_count": 112,
   "metadata": {
    "collapsed": false
   },
   "outputs": [],
   "source": [
    "# when constructing the network\n",
    "drop_factor = .75\n",
    "Wmask = theano.shared(numpy.zeros([dims,n_classes]))\n",
    "y_hat = T.nnet.softmax(T.dot(X,W*Wmask) + b)\n",
    "\n",
    "# before calling the training function\n",
    "Wmask.set_value(numpy.random.binomial(1, drop_factor, W.get_value().shape))\n",
    "# before calling the validation and test functions\n",
    "Wmask.set_value(drop_factor * numpy.ones((W.get_value().shape)))"
   ]
  },
  {
   "cell_type": "markdown",
   "metadata": {},
   "source": [
    "## Exercise 4\n",
    "Fit the model using at least two of the methods above.\n",
    "* Note that certain combinations are not straightforward; e.g. adaptive learning rate and momentum\n",
    "* Not all methods are particularly good on all dataset; here I found that\n",
    "  * Methods that worked well: SGD, early stopping, regularization\n",
    "  * Methods that didn't work that well: Momentum, whitening, adapative learning rates, rmsprop, dropout"
   ]
  },
  {
   "cell_type": "code",
   "execution_count": null,
   "metadata": {
    "collapsed": true
   },
   "outputs": [],
   "source": [
    "# your code here, or better yet in a fresh notebook ..."
   ]
  }
 ],
 "metadata": {
  "kernelspec": {
   "display_name": "Python 2",
   "language": "python",
   "name": "python2"
  },
  "language_info": {
   "codemirror_mode": {
    "name": "ipython",
    "version": 2
   },
   "file_extension": ".py",
   "mimetype": "text/x-python",
   "name": "python",
   "nbconvert_exporter": "python",
   "pygments_lexer": "ipython2",
   "version": "2.7.11"
  }
 },
 "nbformat": 4,
 "nbformat_minor": 0
}
