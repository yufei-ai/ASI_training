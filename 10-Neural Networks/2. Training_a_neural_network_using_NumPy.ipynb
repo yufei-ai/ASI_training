{
 "cells": [
  {
   "cell_type": "markdown",
   "metadata": {},
   "source": [
    "# Train a neural network for the MNIST dataset using NumPy"
   ]
  },
  {
   "cell_type": "markdown",
   "metadata": {},
   "source": [
    "## Setting up"
   ]
  },
  {
   "cell_type": "code",
   "execution_count": 15,
   "metadata": {
    "collapsed": true
   },
   "outputs": [],
   "source": [
    "import matplotlib.pyplot as plt\n",
    "import numpy as np\n",
    "from utils import read_mnist, show\n",
    "%matplotlib inline\n",
    "import time\n",
    "import itertools"
   ]
  },
  {
   "cell_type": "code",
   "execution_count": 2,
   "metadata": {
    "collapsed": true
   },
   "outputs": [],
   "source": [
    "# Load training data just for reference\n",
    "X_train, Y_train = read_mnist('train')"
   ]
  },
  {
   "cell_type": "code",
   "execution_count": 3,
   "metadata": {},
   "outputs": [
    {
     "data": {
      "image/png": "[encoded data removed]",
      "text/plain": [
       "<matplotlib.figure.Figure at 0x7f512cb4eb38>"
      ]
     },
     "metadata": {},
     "output_type": "display_data"
    }
   ],
   "source": [
    "show(X_train[0], Y_train[0])"
   ]
  },
  {
   "cell_type": "markdown",
   "metadata": {},
   "source": [
    "## Define the neural network"
   ]
  },
  {
   "cell_type": "code",
   "execution_count": 21,
   "metadata": {
    "collapsed": true
   },
   "outputs": [],
   "source": [
    "def neural_network_prediction(x, W, b):\n",
    "    \"\"\"This is the entire neural net!\"\"\"\n",
    "    ##\n",
    "    ## your function from the last notebook\n",
    "    y_scores = x.T.dot(W) + b\n",
    "    prediction = softmax(y_scores.flatten())\n",
    "    return prediction\n",
    "\n",
    "def softmax(z):\n",
    "    \"\"\"Return the softmax of vector z.\n",
    "\n",
    "    The softmax returns normalized positive values.\n",
    "    It is defined as softmax(z_i) = normalise(exp(z_i))\n",
    "    = \\\\frac{exp(z_i)}{\\sum_j exp(z_j)}.\n",
    "    \"\"\"\n",
    "    z -= np.max(z)  # for numerical stability\n",
    "    exps = np.exp(z)\n",
    "    return np.divide(exps, np.sum(exps))"
   ]
  },
  {
   "cell_type": "markdown",
   "metadata": {},
   "source": [
    "## Define a loss function for the network to minimise\n",
    "Also sometimes called a cost function."
   ]
  },
  {
   "cell_type": "code",
   "execution_count": 5,
   "metadata": {
    "collapsed": true
   },
   "outputs": [],
   "source": [
    "def cross_entropy_loss(p, q):\n",
    "    \"\"\"Return the cross-entropy of q with respect to p.\n",
    "\n",
    "    The cross-entropy is a measure of how much distribution q\n",
    "    diverges from distribution p. It is defined as\n",
    "    H_p(q) = - \\sum_x p(x) \\log q(x).\n",
    "    \"\"\"\n",
    "    return -np.sum(p * np.log(q))"
   ]
  },
  {
   "cell_type": "markdown",
   "metadata": {},
   "source": [
    "## Encode true labels as vectors, consistent with predictions\n",
    "The neural network takes a `28x28` pixel image (flattened to a vector of length 784) and outputs a prediction for digit shown in the image. The output is a vector of length ten, which forms a probability distribution over the possible classes `0-9` for the input image. Obviously the predicited class is just the class assigned the largest probability. \n",
    "\n",
    "But our loss function wants to compare distributions, and so expects vectors of equal length. Currently the true labels in the dataset are digits, `0`, or `1`, or ... `9`, not vectors. **Let's encode labels as a vector, such that `3` -> `[0, 0, 0, 1, 0, 0, 0, 0, 0, 0]`**"
   ]
  },
  {
   "cell_type": "code",
   "execution_count": 6,
   "metadata": {
    "collapsed": true
   },
   "outputs": [],
   "source": [
    "def one_hot_encode(label):\n",
    "    \"\"\"One-hot encode a class label.\n",
    "\n",
    "    Given a class label, return an array of length 10 with all\n",
    "    elements zero, except for the element with index `label`,\n",
    "    which is 1.0.\n",
    "    \"\"\"\n",
    "    encoded = np.zeros(10)\n",
    "    encoded[label] = 1.0\n",
    "    return encoded"
   ]
  },
  {
   "cell_type": "markdown",
   "metadata": {},
   "source": [
    "## Define the gradients of the loss function with reference to parameters\n",
    "We 'learn' by updating the parameters W, b so as to minimise the loss function. This requires calculating the gradient of the loss function wrt the parameters.\n",
    "\n",
    "In general, when we have many millions of parameters the 'backpropagation' algorithm allows us to do this efficiently: we compute partial derivatives and apply the chain rule as needed to avoid unecessary recomputing. For this simple network we don't even need to worry about backprop.\n",
    "\n",
    "**Let's just code by hand the gradients for the loss with reference to W and b.**\n",
    "\n",
    "_(We did the maths so you don't have to. Feel free to check it, but obviously in the future you won't be hardcoding derivatives)._"
   ]
  },
  {
   "cell_type": "code",
   "execution_count": 7,
   "metadata": {
    "collapsed": true
   },
   "outputs": [],
   "source": [
    "def dloss_dw(y_true, x, y_pred):\n",
    "    \"\"\"Analytic gradient of cross-entropy with reference to matrix W.\"\"\"\n",
    "    return np.outer(np.negative(x), y_true*(1-y_pred))\n",
    "\n",
    "\n",
    "def dloss_db(y_true, x, y_pred):\n",
    "    \"\"\"Analytic gradient of cross-entropy with reference to vector b\"\"\"\n",
    "    return np.negative(y_true)*(1-y_pred)"
   ]
  },
  {
   "cell_type": "markdown",
   "metadata": {},
   "source": [
    "## Define the error rate\n",
    "Just like before, we'll want to see how our network performs."
   ]
  },
  {
   "cell_type": "code",
   "execution_count": 8,
   "metadata": {
    "collapsed": true
   },
   "outputs": [],
   "source": [
    "def error_rate_mnist(W, b, dataset='test'):\n",
    "    \"\"\"Calculate the error rate.\"\"\"\n",
    "    data_seen = 0.\n",
    "    total_correct = 0.\n",
    "    total_errors = 0.\n",
    "\n",
    "    X, Y = read_mnist(dataset)\n",
    "    for x, y in zip(X, Y):\n",
    "        y_pred = np.argmax(neural_network_prediction(x, W, b))\n",
    "        if y_pred == y:\n",
    "            total_correct += 1\n",
    "        else:\n",
    "            total_errors += 1\n",
    "        data_seen += 1\n",
    "\n",
    "    return total_errors / data_seen"
   ]
  },
  {
   "cell_type": "markdown",
   "metadata": {},
   "source": [
    "## Train the network\n",
    "To learn the parameters, we i. loop through the data, ii. compute the performance of the network and iii. update the parameters accordingly... we also iv. print out some metrics to see how we're doing.\n",
    "\n",
    "We provide you with the structure for a `learn` function your task is to make it work"
   ]
  },
  {
   "cell_type": "code",
   "execution_count": 25,
   "metadata": {
    "collapsed": true
   },
   "outputs": [],
   "source": [
    "def learn(W, b, max_iters=100000, learning_rate=0.01, batch_size=20):\n",
    "    \"\"\"Update W, b to reduce cross-entropy on using gradient descent.\"\"\"\n",
    "    W = W.copy()  # don't overwrite original parameters\n",
    "    b = b.copy()\n",
    "    grad_w = np.zeros(W.shape)  # initailise the gradients\n",
    "    grad_b = np.zeros(b.shape)\n",
    "\n",
    "    # keep track of some metrics\n",
    "    total_loss = 0\n",
    "    losses = []\n",
    "    train_errors = []\n",
    "    test_errors = []\n",
    "    start = time.time()\n",
    "    print_freq = max_iters / 10  # print progress 10 times during learning\n",
    "\n",
    "    # learn by cycling repeatedly through data for max_iters iterations\n",
    "    X_train, Y_train = read_mnist('train')\n",
    "    \n",
    "    for i, (x, label) in enumerate(itertools.cycle(zip(X_train, Y_train))):\n",
    "        ## Task 1: generate prediction\n",
    "        prediction = neural_network_prediction(x, W, b)\n",
    "        ##\n",
    "        ##\n",
    "        ## Task 2: compute loss and gradients\n",
    "        total_loss += cross_entropy_loss(one_hot_encode(label), prediction)\n",
    "        grad_w += dloss_dw(one_hot_encode(label), x, prediction)\n",
    "        grad_b += dloss_db(one_hot_encode(label), x, prediction)\n",
    "        ##\n",
    "        \n",
    "        if i % batch_size == 0:\n",
    "            ## Task 3: update parameters every batch_size iterations\n",
    "            W -= learning_rate * grad_w / batch_size\n",
    "            b -= learning_rate * grad_b / batch_size\n",
    "            grad_w = np.zeros(W.shape)\n",
    "            grad_b = np.zeros(b.shape)\n",
    "            ##\n",
    "            ##\n",
    "            ##\n",
    "            pass\n",
    "            \n",
    "        # print some metrics\n",
    "        if i % print_freq == 0:\n",
    "            total_loss /= print_freq\n",
    "            train_error = error_rate_mnist(W, b, 'training')\n",
    "            test_error = error_rate_mnist(W, b, 'validation')\n",
    "            running_time = (time.time() - start)\n",
    "            print((\"Iteration {i} | Loss: {loss:.4f} | \"\n",
    "                   \"Train error: {train:.4f} | Test error: {test:.4f} | \"\n",
    "                   \"Total run time: {t:.1f}s\".format(i=i,\n",
    "                                                     loss=total_loss,\n",
    "                                                     train=train_error,\n",
    "                                                     test=test_error,\n",
    "                                                     t=running_time)))\n",
    "            # accumulate the metrics\n",
    "            train_errors.append(train_error)\n",
    "            test_errors.append(test_error)\n",
    "            losses.append(total_loss)\n",
    "            total_loss = 0\n",
    "            \n",
    "\n",
    "        if i > max_iters:\n",
    "            return W, b, losses, train_errors, test_errors"
   ]
  },
  {
   "cell_type": "code",
   "execution_count": 26,
   "metadata": {},
   "outputs": [],
   "source": [
    "## Task 4: randomly initialise parameters\n",
    "W1 = np.random.random((784,10)) - 0.5\n",
    "b1 = np.random.random((1,10)) -0.5"
   ]
  },
  {
   "cell_type": "code",
   "execution_count": 30,
   "metadata": {},
   "outputs": [
    {
     "name": "stdout",
     "output_type": "stream",
     "text": [
      "Iteration 0 | Loss: 0.0005 | Train error: 0.9017 | Test error: 0.8993 | Total run time: 11.4s\n",
      "Iteration 10000 | Loss: 2.1392 | Train error: 0.4549 | Test error: 0.4318 | Total run time: 20.0s\n",
      "Iteration 20000 | Loss: 1.2027 | Train error: 0.3405 | Test error: 0.3091 | Total run time: 31.4s\n",
      "Iteration 30000 | Loss: 0.9175 | Train error: 0.2793 | Test error: 0.2456 | Total run time: 41.3s\n",
      "Iteration 40000 | Loss: 0.8770 | Train error: 0.2422 | Test error: 0.2111 | Total run time: 50.6s\n",
      "Iteration 50000 | Loss: 0.8102 | Train error: 0.2220 | Test error: 0.1889 | Total run time: 59.7s\n",
      "Iteration 60000 | Loss: 0.7293 | Train error: 0.2036 | Test error: 0.1768 | Total run time: 69.4s\n",
      "Iteration 70000 | Loss: 0.7570 | Train error: 0.2011 | Test error: 0.1753 | Total run time: 78.8s\n",
      "Iteration 80000 | Loss: 0.7084 | Train error: 0.1906 | Test error: 0.1658 | Total run time: 87.8s\n",
      "Iteration 90000 | Loss: 0.7659 | Train error: 0.1824 | Test error: 0.1580 | Total run time: 97.0s\n",
      "Iteration 100000 | Loss: 0.7356 | Train error: 0.1799 | Test error: 0.1575 | Total run time: 106.1s\n"
     ]
    }
   ],
   "source": [
    "## Task 5: Train your network!\n",
    "W,b, losses, train_errors, test_errors = learn(W1, b1, max_iters=100000, learning_rate=0.01, batch_size=20)"
   ]
  },
  {
   "cell_type": "code",
   "execution_count": 31,
   "metadata": {
    "collapsed": true
   },
   "outputs": [],
   "source": [
    "def plot_learning(losses, train_errors, test_errors):\n",
    "    '''Plot the train/test error rate and the loss'''\n",
    "    fig, ax = plt.subplots(ncols=2, figsize=(14, 5), squeeze=True)\n",
    "\n",
    "    ax[0].plot(range(len(train_errors)), train_errors, '-o', label='Training error')\n",
    "    ax[0].plot(range(len(test_errors)),  test_errors, '-o', label='Test error')\n",
    "    ax[0].set_ylim(0, 1)\n",
    "    ax[0].legend(loc='upper right')\n",
    "    ax[0].set_title('Error rate')\n",
    "\n",
    "    ax[1].plot(range(len(losses)), losses, '-o')\n",
    "    ax[1].set_title('Losses')\n",
    "    plt.show()"
   ]
  },
  {
   "cell_type": "code",
   "execution_count": 32,
   "metadata": {},
   "outputs": [
    {
     "data": {
      "image/png": "[encoded data removed]",
      "text/plain": [
       "<matplotlib.figure.Figure at 0x7f5129170da0>"
      ]
     },
     "metadata": {},
     "output_type": "display_data"
    }
   ],
   "source": [
    "## Task 6: Plot the loss function and error rate over time\n",
    "##\n",
    "plot_learning(losses[1:], train_errors, test_errors)"
   ]
  },
  {
   "cell_type": "code",
   "execution_count": null,
   "metadata": {
    "collapsed": true
   },
   "outputs": [],
   "source": []
  }
 ],
 "metadata": {
  "anaconda-cloud": {},
  "kernelspec": {
   "display_name": "Python [conda env:Python3]",
   "language": "python",
   "name": "conda-env-Python3-py"
  },
  "language_info": {
   "codemirror_mode": {
    "name": "ipython",
    "version": 3
   },
   "file_extension": ".py",
   "mimetype": "text/x-python",
   "name": "python",
   "nbconvert_exporter": "python",
   "pygments_lexer": "ipython3",
   "version": "3.6.1"
  }
 },
 "nbformat": 4,
 "nbformat_minor": 1
}
