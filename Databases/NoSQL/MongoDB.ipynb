{
 "cells": [
  {
   "cell_type": "markdown",
   "metadata": {},
   "source": [
    "# MongoDB\n",
    "\n",
    "[MongoDB](http://www.mongodb.org/) is a widely used document-oriented NoSQL database. It's especially good for operating on large amounts of data and data that needs to be used by many users simultaneously, and so is used by large websites such as Craigslist, eBay, Foursquare, and LinkedIn.\n",
    "\n",
    "The purpose of this tutorial is to show you the basics of working with MongoDB. We'll cover how to insert documents into a MongoDB database and how to get lists of documents back from the database that match a particular set of criteria. This is barely scratching the surface of MongoDB! By the end of this session you'll have enough literacy in how MongoDB works to explore its more advanced features on your own.\n",
    "\n",
    "## Why use a database?\n",
    "\n",
    "So what exactly is a database, and why might we need one? For our purpose, we can define a \"database\" as a piece of software whose main purpose is to make it possible for us to store data somewhere, then later retrieve it, usually in a way that pays attention to the structure of the data itself. There are several reasons we might want to put data into a database:\n",
    "\n",
    "* *Persistence*: we download data, process it into a form that we like, draw conclusions from it...and then it disappears forever, once we close the notebook. To get that data again, we have to download and process it again, from scratch. This is fine for small amounts of data, but with larger amounts it can be very time consuming. Having a database allows us to store our data in a way that persists from one notebook session to the next.\n",
    "\n",
    "* *Sharing*: another problem with downloading and processing data on demand is that it's difficult for us to share the result of our data processing with other data scientists. The data exists in our Jupyter notebook and nowhere else--there's no easy way to let someone else access it. A database like MongoDB, on the other hand, can be used by many people simultaneously. It's also easy to create a _dump_ of a MongoDB database and send it to a colleague, who can then reconstruct the data on their own server very easily.\n",
    "\n",
    "* *Performance*: many databases, like MongoDB, boast features (like indexing, aggregation, and map-reduce) that can make accessing and processing data very fast, faster than we can do in Python.\n",
    "\n",
    "## Architecture\n",
    "\n",
    "MongoDB is client-server software, which means that the software itself runs on a server somewhere, and various clients on other computers can access it. The clients each talk to the server over the network, with a particular protocol unique to MongoDB. Most databases including PostgreSQL and MySQL work like this, but there are some exceptions, like SQLite, which work with files stored locally on your machine.\n",
    "\n",
    "We're going to write our client software in a Jupyter Notebook, using a library called `pymongo`. The `pymongo` library gives us an easy way to write Python code that opens a network connection to the server, sends it commands using the MongoDB protocol, and interprets the results that come back.\n",
    "\n",
    "The `pymongo` library can be installed on a SherlockML instances using `conda` with the following command:\n",
    "\n",
    "    $ conda install -y pymongo\n",
    "    \n",
    "It can also be installed elsewhere with `pip` with the following command:\n",
    "\n",
    "    $ pip install pymongo\n",
    "\n",
    "You should generally favour `conda` over `pip` for installing database drivers, as they often have dependencies on shared libraries written in C. In this workshop, the database server (MongoDB itself) and the client software (the Python code running in your Jupyter notebook) both live on the same machine, your SherlockML server. When you see the word `localhost` below, that's what it means: connect to a database running on the same server as I'm on. Other than that, everything we'll learn here applies to connecting to MongoDB on remote servers.\n",
    "\n",
    "## How MongoDB is structured\n",
    "\n",
    "MongoDB is a document-oriented database, as we learnt about during the workshop presentation. MongoDB \"documents\" are like Python dictionaries: a list of key-value pairs that describe some particular thing. Documents are stored in a structure called a \"collection,\" which is like a list of dictionaries in Python. Most of the work we do in MongoDB will be adding documents to a collection, and asking that collection to return documents that match particular queries.\n",
    "\n",
    "Collections themselves are grouped into \"databases,\" and each MongoDB server can support multiple databases.\n",
    "\n",
    "## Connecting to MongoDB and inserting a document\n",
    "\n",
    "First we'll import the `MongoClient` class from the `pymongo` module, and instantiate a `MongoClient` object. We'll pass the string `localhost` as the first argument, which tells `pymongo` to connect to the MongoDB server running on this machine."
   ]
  },
  {
   "cell_type": "code",
   "execution_count": 1,
   "metadata": {},
   "outputs": [
    {
     "name": "stdout",
     "output_type": "stream",
     "text": [
      "<class 'pymongo.mongo_client.MongoClient'>\n"
     ]
    }
   ],
   "source": [
    "from __future__ import print_function\n",
    "from pymongo import MongoClient\n",
    "\n",
    "client = MongoClient('localhost')\n",
    "\n",
    "print(type(client))"
   ]
  },
  {
   "cell_type": "code",
   "execution_count": 2,
   "metadata": {},
   "outputs": [],
   "source": [
    "# Delete the `fellowship` database when starting the notebook again from scratch.\n",
    "client.drop_database('fellowship')"
   ]
  },
  {
   "cell_type": "markdown",
   "metadata": {},
   "source": [
    "One thing you can do with a `MongoClient` object is call its `.database_names()` method, which returns a list of all the databases on the server."
   ]
  },
  {
   "cell_type": "code",
   "execution_count": 3,
   "metadata": {},
   "outputs": [
    {
     "name": "stdout",
     "output_type": "stream",
     "text": [
      "['local', 'admin']\n"
     ]
    }
   ],
   "source": [
    "print(client.database_names())"
   ]
  },
  {
   "cell_type": "markdown",
   "metadata": {},
   "source": [
    "You should see only one database right now---`local`. The `local` database is for MongoDB's internal use, so we won't mess with it. Instead, we'll use the `MongoClient` object to get another object that represents a new database, like so:"
   ]
  },
  {
   "cell_type": "code",
   "execution_count": 6,
   "metadata": {},
   "outputs": [],
   "source": [
    "db = client['fellowship']"
   ]
  },
  {
   "cell_type": "markdown",
   "metadata": {},
   "source": [
    "Note: We haven't done anything at this point to explicitly create the `workshop` database! MongoDB automatically creates databases when you first use them.\n",
    "\n",
    "This `Database` object supports several interesting methods, among them `.collection_names()`, which shows all of the collections in this database:"
   ]
  },
  {
   "cell_type": "code",
   "execution_count": 8,
   "metadata": {},
   "outputs": [
    {
     "name": "stdout",
     "output_type": "stream",
     "text": [
      "[]\n"
     ]
    }
   ],
   "source": [
    "print(db.collection_names())"
   ]
  },
  {
   "cell_type": "markdown",
   "metadata": {},
   "source": [
    "It's an empty list right now (except maybe for a `system.indexes` collection, which is for internal MongoDB use and which you can ignore if it exists), because we haven't made any collections yet! Using the `Database` object as a dictionary, we can get an object representing a collection:"
   ]
  },
  {
   "cell_type": "code",
   "execution_count": 9,
   "metadata": {},
   "outputs": [
    {
     "name": "stdout",
     "output_type": "stream",
     "text": [
      "Collection(Database(MongoClient(host=['localhost:27017'], document_class=dict, tz_aware=False, connect=True), 'fellowship'), 'kittens')\n"
     ]
    }
   ],
   "source": [
    "coll = db['kittens']\n",
    "print(coll)"
   ]
  },
  {
   "cell_type": "markdown",
   "metadata": {},
   "source": [
    "Now we're in business. Let's insert our first document into the collection, using the collection's `.insert_one()` method. In between the parentheses of the `.insert_one()` method, we need to supply an expression that evaluates to a Python dictionary. PyMongo will convert this dictionary into a MongoDB document, and then add that document to the collection. Calling the `.insert_one()` method evaluates to a MongoDB `InsertOneResult` object, from which we can retrieve a randomly generated number that uniquely identifies the record that we just added from the `inserted_id` attribute:"
   ]
  },
  {
   "cell_type": "code",
   "execution_count": 10,
   "metadata": {},
   "outputs": [
    {
     "name": "stdout",
     "output_type": "stream",
     "text": [
      "59ba8427cab99e56f8e7dc7f\n"
     ]
    }
   ],
   "source": [
    "result = coll.insert_one({'name': 'Fluffy', 'favourite_colour': 'chartreuse', 'lbs': 9.5})\n",
    "print(result.inserted_id)"
   ]
  },
  {
   "cell_type": "markdown",
   "metadata": {},
   "source": [
    "Let's insert a few more records!"
   ]
  },
  {
   "cell_type": "code",
   "execution_count": 11,
   "metadata": {},
   "outputs": [],
   "source": [
    "coll.insert_one({'name': 'Monsieur Whiskeurs', 'favourite_colour': 'cerulean', 'lbs': 10.8})\n",
    "coll.insert_one({'name': 'Grandpa Pants', 'favourite_colour': 'mauve', 'lbs': 14.1})\n",
    "coll.insert_one({'name': 'Susan B. Meownthony', 'favourite_colour': 'cerulean', 'lbs': 9.0});"
   ]
  },
  {
   "cell_type": "markdown",
   "metadata": {},
   "source": [
    "## Finding a document\n",
    "\n",
    "Of course, inserting documents on its own is not very useful. We'd like to be able to retrieve them later. To do so, we can use the `.find_one()` method of a collection object. Between the parentheses of the `.find_one()` call, we give a Python dictionary that tells MongoDB which documents to return. The `.find_one()` evaluates to the document that has an exact match for whichever key-value pairs are specified in the dictionary. To demonstrate:"
   ]
  },
  {
   "cell_type": "code",
   "execution_count": 12,
   "metadata": {},
   "outputs": [
    {
     "data": {
      "text/plain": [
       "{'_id': ObjectId('59ba843fcab99e56f8e7dc80'),\n",
       " 'favourite_colour': 'cerulean',\n",
       " 'lbs': 10.8,\n",
       " 'name': 'Monsieur Whiskeurs'}"
      ]
     },
     "execution_count": 12,
     "metadata": {},
     "output_type": "execute_result"
    }
   ],
   "source": [
    "coll.find_one({'name': 'Monsieur Whiskeurs'})"
   ]
  },
  {
   "cell_type": "markdown",
   "metadata": {},
   "source": [
    "If more than one document had the value `Monsieur Whiskeurs` for the key `name`, MongoDB would have returned only the first matching document. If no documents match, this happens:"
   ]
  },
  {
   "cell_type": "code",
   "execution_count": 13,
   "metadata": {},
   "outputs": [
    {
     "name": "stdout",
     "output_type": "stream",
     "text": [
      "None\n"
     ]
    }
   ],
   "source": [
    "val = coll.find_one({'name': 'Big Shoes'})\n",
    "print(val)"
   ]
  },
  {
   "cell_type": "markdown",
   "metadata": {},
   "source": [
    "... the method evaluates to `None`.\n",
    "\n",
    "You may have noticed the key `_id` in the document above. We didn't specify that key when we created the document, so where did it come from? It turns out that unless we specify the `_id` key manually, MongoDB will add it automatically and give it a randomly generated and unique `ObjectId` object as a value.\n",
    "\n",
    "Let's do that `.find_one()` call again and see what else we can do with it."
   ]
  },
  {
   "cell_type": "code",
   "execution_count": 14,
   "metadata": {},
   "outputs": [
    {
     "name": "stdout",
     "output_type": "stream",
     "text": [
      "<class 'dict'>\n",
      "cerulean\n"
     ]
    }
   ],
   "source": [
    "doc = coll.find_one({'name': 'Monsieur Whiskeurs'})\n",
    "print(type(doc))\n",
    "print(doc['favourite_colour'])"
   ]
  },
  {
   "cell_type": "markdown",
   "metadata": {},
   "source": [
    "As you can see, the value returned from `.find_one()` is just a Python dictionary. We can use it in any of the ways we usually use Python dictionaries--by getting a value for one of its keys, for example."
   ]
  },
  {
   "cell_type": "markdown",
   "metadata": {},
   "source": [
    "Use the `.find_one()` method to print out the `favourite_colour` value for our kitten named `Grandpa Pants`."
   ]
  },
  {
   "cell_type": "code",
   "execution_count": 33,
   "metadata": {
    "scrolled": true
   },
   "outputs": [
    {
     "name": "stdout",
     "output_type": "stream",
     "text": [
      "14.1 mauve\n"
     ]
    }
   ],
   "source": [
    "doc = coll.find_one({'name':'Grandpa Pants'})\n",
    "print(doc['lbs'],doc['favourite_colour'])"
   ]
  },
  {
   "cell_type": "code",
   "execution_count": 49,
   "metadata": {},
   "outputs": [
    {
     "data": {
      "text/plain": [
       "14.1"
      ]
     },
     "execution_count": 49,
     "metadata": {},
     "output_type": "execute_result"
    }
   ],
   "source": [
    "doc['lbs']"
   ]
  },
  {
   "cell_type": "markdown",
   "metadata": {},
   "source": [
    "## Finding more than one document\n",
    "\n",
    "The collection object has a method `.find()` that allows you to access every document in the collection. It doesn't return a list, but a weird thing called a `Cursor`. To get data from a cursor, you either have to use it in a `for` loop like this:"
   ]
  },
  {
   "cell_type": "code",
   "execution_count": 22,
   "metadata": {},
   "outputs": [
    {
     "name": "stdout",
     "output_type": "stream",
     "text": [
      "{'_id': ObjectId('59ba8427cab99e56f8e7dc7f'), 'name': 'Fluffy', 'favourite_colour': 'chartreuse', 'lbs': 9.5}\n",
      "{'_id': ObjectId('59ba843fcab99e56f8e7dc80'), 'name': 'Monsieur Whiskeurs', 'favourite_colour': 'cerulean', 'lbs': 10.8}\n",
      "{'_id': ObjectId('59ba843fcab99e56f8e7dc81'), 'name': 'Grandpa Pants', 'favourite_colour': 'mauve', 'lbs': 14.1}\n",
      "{'_id': ObjectId('59ba843fcab99e56f8e7dc82'), 'name': 'Susan B. Meownthony', 'favourite_colour': 'cerulean', 'lbs': 9.0}\n"
     ]
    }
   ],
   "source": [
    "for doc in coll.find():\n",
    "    print(doc)"
   ]
  },
  {
   "cell_type": "markdown",
   "metadata": {},
   "source": [
    "... or explicitly convert it to a list, with the `list()` function:"
   ]
  },
  {
   "cell_type": "code",
   "execution_count": 23,
   "metadata": {},
   "outputs": [
    {
     "data": {
      "text/plain": [
       "[{'_id': ObjectId('59ba8427cab99e56f8e7dc7f'),\n",
       "  'favourite_colour': 'chartreuse',\n",
       "  'lbs': 9.5,\n",
       "  'name': 'Fluffy'},\n",
       " {'_id': ObjectId('59ba843fcab99e56f8e7dc80'),\n",
       "  'favourite_colour': 'cerulean',\n",
       "  'lbs': 10.8,\n",
       "  'name': 'Monsieur Whiskeurs'},\n",
       " {'_id': ObjectId('59ba843fcab99e56f8e7dc81'),\n",
       "  'favourite_colour': 'mauve',\n",
       "  'lbs': 14.1,\n",
       "  'name': 'Grandpa Pants'},\n",
       " {'_id': ObjectId('59ba843fcab99e56f8e7dc82'),\n",
       "  'favourite_colour': 'cerulean',\n",
       "  'lbs': 9.0,\n",
       "  'name': 'Susan B. Meownthony'}]"
      ]
     },
     "execution_count": 23,
     "metadata": {},
     "output_type": "execute_result"
    }
   ],
   "source": [
    "documents = list(coll.find())\n",
    "documents"
   ]
  },
  {
   "cell_type": "markdown",
   "metadata": {},
   "source": [
    "We can also pass a dictionary to `.find()` to tell MongoDB to only return a subset of documents, namely, only those documents that match the key-value pairs in the dictionary we put in the parentheses. For example, to fetch only those kittens whose `favourite_colour` is `cerulean`:"
   ]
  },
  {
   "cell_type": "code",
   "execution_count": 24,
   "metadata": {},
   "outputs": [
    {
     "data": {
      "text/plain": [
       "[{'_id': ObjectId('59ba843fcab99e56f8e7dc80'),\n",
       "  'favourite_colour': 'cerulean',\n",
       "  'lbs': 10.8,\n",
       "  'name': 'Monsieur Whiskeurs'},\n",
       " {'_id': ObjectId('59ba843fcab99e56f8e7dc82'),\n",
       "  'favourite_colour': 'cerulean',\n",
       "  'lbs': 9.0,\n",
       "  'name': 'Susan B. Meownthony'}]"
      ]
     },
     "execution_count": 24,
     "metadata": {},
     "output_type": "execute_result"
    }
   ],
   "source": [
    "cerulean_lovers = list(coll.find({'favourite_colour': 'cerulean'}))\n",
    "cerulean_lovers"
   ]
  },
  {
   "cell_type": "markdown",
   "metadata": {},
   "source": [
    "Write a list comprehension that evaluates to a list of the names of kittens whose weight is over 10 lbs.\n"
   ]
  },
  {
   "cell_type": "code",
   "execution_count": 29,
   "metadata": {},
   "outputs": [
    {
     "data": {
      "text/plain": [
       "['Monsieur Whiskeurs', 'Grandpa Pants']"
      ]
     },
     "execution_count": 29,
     "metadata": {},
     "output_type": "execute_result"
    }
   ],
   "source": [
    "list(kitten['name'] for kitten in coll.find() if kitten['lbs']>10.)"
   ]
  },
  {
   "cell_type": "code",
   "execution_count": 69,
   "metadata": {},
   "outputs": [
    {
     "data": {
      "text/plain": [
       "[{'name': 'Monsieur Whiskeurs'}, {'name': 'Grandpa Pants'}]"
      ]
     },
     "execution_count": 69,
     "metadata": {},
     "output_type": "execute_result"
    }
   ],
   "source": [
    "heavy_cats = list(coll.find({'lbs':{'$gt': 10.}},{'name':1,'_id':0}))\n",
    "heavy_cats"
   ]
  },
  {
   "cell_type": "markdown",
   "metadata": {},
   "source": [
    "## Simple aggregations\n",
    "\n",
    "You can ask MongoDB how many documents are in a collection with the collection's `.count()` method:"
   ]
  },
  {
   "cell_type": "code",
   "execution_count": 30,
   "metadata": {},
   "outputs": [
    {
     "data": {
      "text/plain": [
       "4"
      ]
     },
     "execution_count": 30,
     "metadata": {},
     "output_type": "execute_result"
    }
   ],
   "source": [
    "coll.count()"
   ]
  },
  {
   "cell_type": "markdown",
   "metadata": {},
   "source": [
    "It's also easy to get a list of distinct values there are for a particular field, using the `distinct` method:"
   ]
  },
  {
   "cell_type": "code",
   "execution_count": 31,
   "metadata": {},
   "outputs": [
    {
     "data": {
      "text/plain": [
       "['chartreuse', 'cerulean', 'mauve']"
      ]
     },
     "execution_count": 31,
     "metadata": {},
     "output_type": "execute_result"
    }
   ],
   "source": [
    "coll.distinct('favourite_colour')"
   ]
  },
  {
   "cell_type": "markdown",
   "metadata": {},
   "source": [
    "## Removing documents\n",
    "\n",
    "You can remove documents from a collection with the `.delete_many()` method, passing in a dictionary that describes which documents you want to remove. For example, to remove any documents where the `name` key has the value `Fluffy`:"
   ]
  },
  {
   "cell_type": "code",
   "execution_count": 32,
   "metadata": {},
   "outputs": [
    {
     "data": {
      "text/plain": [
       "[{'_id': ObjectId('59ba843fcab99e56f8e7dc80'),\n",
       "  'favourite_colour': 'cerulean',\n",
       "  'lbs': 10.8,\n",
       "  'name': 'Monsieur Whiskeurs'},\n",
       " {'_id': ObjectId('59ba843fcab99e56f8e7dc81'),\n",
       "  'favourite_colour': 'mauve',\n",
       "  'lbs': 14.1,\n",
       "  'name': 'Grandpa Pants'},\n",
       " {'_id': ObjectId('59ba843fcab99e56f8e7dc82'),\n",
       "  'favourite_colour': 'cerulean',\n",
       "  'lbs': 9.0,\n",
       "  'name': 'Susan B. Meownthony'}]"
      ]
     },
     "execution_count": 32,
     "metadata": {},
     "output_type": "execute_result"
    }
   ],
   "source": [
    "coll.delete_many({'name': 'Fluffy'})\n",
    "list(coll.find())"
   ]
  },
  {
   "cell_type": "markdown",
   "metadata": {},
   "source": [
    "You can see that `Fluffy` has now gone missing. You can also easily remove *all* documents from a collection, using the `.remove_many()` method with an empty dictionary. **WARNING**: Don't run this cell unless you want to remove everything you've inserted so far!"
   ]
  },
  {
   "cell_type": "code",
   "execution_count": null,
   "metadata": {},
   "outputs": [],
   "source": [
    "# WARNING: Will delete *all* documents from the collection.\n",
    "# coll.delete_many({})\n",
    "# list(coll.find())"
   ]
  },
  {
   "cell_type": "markdown",
   "metadata": {},
   "source": [
    "## More sophisticated queries\n",
    "\n",
    "We can be a bit more specific about which documents we want from the collection using MongoDB *query selectors*. Query selectors take the form of dictionaries that we pass to the `.find()` method. Keys in this dictionary should be the field that you want to match against, and the value for such a key should be *another* dictionary, that has as its key a MongoDB query operator (listed below), and as its value the number to go with the operator. Here's an example, to make it more clear, searching our collection of kittens for documents where the `lbs` field is greater than `10`:"
   ]
  },
  {
   "cell_type": "code",
   "execution_count": 34,
   "metadata": {},
   "outputs": [
    {
     "data": {
      "text/plain": [
       "[{'_id': ObjectId('59ba843fcab99e56f8e7dc80'),\n",
       "  'favourite_colour': 'cerulean',\n",
       "  'lbs': 10.8,\n",
       "  'name': 'Monsieur Whiskeurs'},\n",
       " {'_id': ObjectId('59ba843fcab99e56f8e7dc81'),\n",
       "  'favourite_colour': 'mauve',\n",
       "  'lbs': 14.1,\n",
       "  'name': 'Grandpa Pants'}]"
      ]
     },
     "execution_count": 34,
     "metadata": {},
     "output_type": "execute_result"
    }
   ],
   "source": [
    "list(coll.find({'lbs': {'$gt': 10}}))"
   ]
  },
  {
   "cell_type": "markdown",
   "metadata": {},
   "source": [
    "Other operators that are supported ([full list here](https://docs.mongodb.com/manual/reference/operator/query/#query-selectors)):\n",
    "\n",
    "* `$gt`: greater than\n",
    "* `$gte`: greater than or equal to\n",
    "* `$lt`: less than\n",
    "* `$lte`: less than or equal to\n",
    "* `$ne`: not equal to\n",
    "\n",
    "You can combine more than one operator for a particular field, in which case MongoDB will find documents that match *all* criteria:"
   ]
  },
  {
   "cell_type": "code",
   "execution_count": 51,
   "metadata": {},
   "outputs": [
    {
     "data": {
      "text/plain": [
       "[{'_id': ObjectId('59ba843fcab99e56f8e7dc80'),\n",
       "  'favourite_colour': 'cerulean',\n",
       "  'lbs': 10.8,\n",
       "  'name': 'Monsieur Whiskeurs'}]"
      ]
     },
     "execution_count": 51,
     "metadata": {},
     "output_type": "execute_result"
    }
   ],
   "source": [
    "list(coll.find({'lbs': {'$gt': 9, '$lt': 11}}))"
   ]
  },
  {
   "cell_type": "markdown",
   "metadata": {},
   "source": [
    "You can also include conditions for more than one field in the dictionary, in which case MongoDB will find documents that match those criteria for each respective field:"
   ]
  },
  {
   "cell_type": "code",
   "execution_count": 52,
   "metadata": {},
   "outputs": [
    {
     "data": {
      "text/plain": [
       "[{'_id': ObjectId('59ba843fcab99e56f8e7dc80'),\n",
       "  'favourite_colour': 'cerulean',\n",
       "  'lbs': 10.8,\n",
       "  'name': 'Monsieur Whiskeurs'},\n",
       " {'_id': ObjectId('59ba843fcab99e56f8e7dc82'),\n",
       "  'favourite_colour': 'cerulean',\n",
       "  'lbs': 9.0,\n",
       "  'name': 'Susan B. Meownthony'}]"
      ]
     },
     "execution_count": 52,
     "metadata": {},
     "output_type": "execute_result"
    }
   ],
   "source": [
    "list(coll.find({'favourite_colour': 'cerulean'}))"
   ]
  },
  {
   "cell_type": "code",
   "execution_count": 53,
   "metadata": {},
   "outputs": [
    {
     "data": {
      "text/plain": [
       "[{'_id': ObjectId('59ba843fcab99e56f8e7dc82'),\n",
       "  'favourite_colour': 'cerulean',\n",
       "  'lbs': 9.0,\n",
       "  'name': 'Susan B. Meownthony'}]"
      ]
     },
     "execution_count": 53,
     "metadata": {},
     "output_type": "execute_result"
    }
   ],
   "source": [
    "list(coll.find({'favourite_colour': 'cerulean', 'name': {'$ne': 'Monsieur Whiskeurs'}}))"
   ]
  },
  {
   "cell_type": "markdown",
   "metadata": {},
   "source": [
    "### Regular expression searches\n",
    "\n",
    "Another valuable search criterion that MongoDB supports is `$regex`, which will return documents that match a regular expression for a particular field. For example, to find all kittens whose name ends with the letter `y`:"
   ]
  },
  {
   "cell_type": "code",
   "execution_count": 54,
   "metadata": {},
   "outputs": [
    {
     "data": {
      "text/plain": [
       "[{'_id': ObjectId('59ba843fcab99e56f8e7dc82'),\n",
       "  'favourite_colour': 'cerulean',\n",
       "  'lbs': 9.0,\n",
       "  'name': 'Susan B. Meownthony'}]"
      ]
     },
     "execution_count": 54,
     "metadata": {},
     "output_type": "execute_result"
    }
   ],
   "source": [
    "list(coll.find({'name': {'$regex': 'y$'}}))"
   ]
  },
  {
   "cell_type": "markdown",
   "metadata": {},
   "source": [
    "Write a call to `.find()` that returns all kittens whose favourite colour begins with the letter `c`."
   ]
  },
  {
   "cell_type": "code",
   "execution_count": 58,
   "metadata": {},
   "outputs": [
    {
     "data": {
      "text/plain": [
       "[{'_id': ObjectId('59ba843fcab99e56f8e7dc80'),\n",
       "  'favourite_colour': 'cerulean',\n",
       "  'lbs': 10.8,\n",
       "  'name': 'Monsieur Whiskeurs'},\n",
       " {'_id': ObjectId('59ba843fcab99e56f8e7dc82'),\n",
       "  'favourite_colour': 'cerulean',\n",
       "  'lbs': 9.0,\n",
       "  'name': 'Susan B. Meownthony'}]"
      ]
     },
     "execution_count": 58,
     "metadata": {},
     "output_type": "execute_result"
    }
   ],
   "source": [
    "list(coll.find({'favourite_colour':{'$regex':'c'}}))"
   ]
  },
  {
   "cell_type": "markdown",
   "metadata": {},
   "source": [
    "## Sorting and limiting\n",
    "\n",
    "Results from `.find()` aren't returned in a particular order. You may find it helpful for this reason to sort the results. You can specify a sort order for results from the `.find()` method by appending a call to the `.sort()` method. It looks like this:"
   ]
  },
  {
   "cell_type": "code",
   "execution_count": 59,
   "metadata": {},
   "outputs": [
    {
     "data": {
      "text/plain": [
       "[{'_id': ObjectId('59ba843fcab99e56f8e7dc82'),\n",
       "  'favourite_colour': 'cerulean',\n",
       "  'lbs': 9.0,\n",
       "  'name': 'Susan B. Meownthony'},\n",
       " {'_id': ObjectId('59ba843fcab99e56f8e7dc80'),\n",
       "  'favourite_colour': 'cerulean',\n",
       "  'lbs': 10.8,\n",
       "  'name': 'Monsieur Whiskeurs'},\n",
       " {'_id': ObjectId('59ba843fcab99e56f8e7dc81'),\n",
       "  'favourite_colour': 'mauve',\n",
       "  'lbs': 14.1,\n",
       "  'name': 'Grandpa Pants'}]"
      ]
     },
     "execution_count": 59,
     "metadata": {},
     "output_type": "execute_result"
    }
   ],
   "source": [
    "list(coll.find().sort('lbs'))"
   ]
  },
  {
   "cell_type": "markdown",
   "metadata": {},
   "source": [
    "The parameter you pass to `.sort()` specifies which field the documents should be sorted by. Specifying descending order is easy:"
   ]
  },
  {
   "cell_type": "code",
   "execution_count": 60,
   "metadata": {},
   "outputs": [
    {
     "data": {
      "text/plain": [
       "[{'_id': ObjectId('59ba843fcab99e56f8e7dc81'),\n",
       "  'favourite_colour': 'mauve',\n",
       "  'lbs': 14.1,\n",
       "  'name': 'Grandpa Pants'},\n",
       " {'_id': ObjectId('59ba843fcab99e56f8e7dc80'),\n",
       "  'favourite_colour': 'cerulean',\n",
       "  'lbs': 10.8,\n",
       "  'name': 'Monsieur Whiskeurs'},\n",
       " {'_id': ObjectId('59ba843fcab99e56f8e7dc82'),\n",
       "  'favourite_colour': 'cerulean',\n",
       "  'lbs': 9.0,\n",
       "  'name': 'Susan B. Meownthony'}]"
      ]
     },
     "execution_count": 60,
     "metadata": {},
     "output_type": "execute_result"
    }
   ],
   "source": [
    "list(coll.find().sort('lbs', -1))"
   ]
  },
  {
   "cell_type": "markdown",
   "metadata": {},
   "source": [
    "(The `-1` means 'in reverse order'.) The `.sort()` method works even if you've specified query selectors in the call to `.find()`:"
   ]
  },
  {
   "cell_type": "code",
   "execution_count": 61,
   "metadata": {},
   "outputs": [
    {
     "data": {
      "text/plain": [
       "[{'_id': ObjectId('59ba843fcab99e56f8e7dc81'),\n",
       "  'favourite_colour': 'mauve',\n",
       "  'lbs': 14.1,\n",
       "  'name': 'Grandpa Pants'},\n",
       " {'_id': ObjectId('59ba843fcab99e56f8e7dc80'),\n",
       "  'favourite_colour': 'cerulean',\n",
       "  'lbs': 10.8,\n",
       "  'name': 'Monsieur Whiskeurs'}]"
      ]
     },
     "execution_count": 61,
     "metadata": {},
     "output_type": "execute_result"
    }
   ],
   "source": [
    "list(coll.find({'lbs': {'$gt': 9.0}}).sort('name'))"
   ]
  },
  {
   "cell_type": "markdown",
   "metadata": {},
   "source": [
    "You can also limit the number of results returned from `.find()` using the `.limit()` method, which, like `.sort()`, gets called on the result of `.find()`. To return only two kittens:"
   ]
  },
  {
   "cell_type": "code",
   "execution_count": 62,
   "metadata": {},
   "outputs": [
    {
     "data": {
      "text/plain": [
       "[{'_id': ObjectId('59ba843fcab99e56f8e7dc80'),\n",
       "  'favourite_colour': 'cerulean',\n",
       "  'lbs': 10.8,\n",
       "  'name': 'Monsieur Whiskeurs'},\n",
       " {'_id': ObjectId('59ba843fcab99e56f8e7dc81'),\n",
       "  'favourite_colour': 'mauve',\n",
       "  'lbs': 14.1,\n",
       "  'name': 'Grandpa Pants'}]"
      ]
     },
     "execution_count": 62,
     "metadata": {},
     "output_type": "execute_result"
    }
   ],
   "source": [
    "list(coll.find().limit(2))"
   ]
  },
  {
   "cell_type": "markdown",
   "metadata": {},
   "source": [
    "Search for all kittens weighing less than 10 pounds, limit to one result:"
   ]
  },
  {
   "cell_type": "code",
   "execution_count": 63,
   "metadata": {},
   "outputs": [
    {
     "data": {
      "text/plain": [
       "[{'_id': ObjectId('59ba843fcab99e56f8e7dc82'),\n",
       "  'favourite_colour': 'cerulean',\n",
       "  'lbs': 9.0,\n",
       "  'name': 'Susan B. Meownthony'}]"
      ]
     },
     "execution_count": 63,
     "metadata": {},
     "output_type": "execute_result"
    }
   ],
   "source": [
    "list(coll.find({'lbs':{'$lt':10}}).limit(1))"
   ]
  },
  {
   "cell_type": "markdown",
   "metadata": {},
   "source": [
    "You can put a `.limit()` after a `.sort()` to get only the first few results from a sorted list of documents. So, for example, to get only the heaviest cat:"
   ]
  },
  {
   "cell_type": "code",
   "execution_count": 64,
   "metadata": {},
   "outputs": [
    {
     "data": {
      "text/plain": [
       "[{'_id': ObjectId('59ba843fcab99e56f8e7dc81'),\n",
       "  'favourite_colour': 'mauve',\n",
       "  'lbs': 14.1,\n",
       "  'name': 'Grandpa Pants'}]"
      ]
     },
     "execution_count": 64,
     "metadata": {},
     "output_type": "execute_result"
    }
   ],
   "source": [
    "list(coll.find().sort('lbs', -1).limit(1))"
   ]
  },
  {
   "cell_type": "markdown",
   "metadata": {},
   "source": [
    "## Only get certain fields\n",
    "\n",
    "If we want our result to only include certain key-value pairs from the document, we can provide a second argument to the `find` method. This argument should be a dictionary whose keys are the fields we want included, and whose values are all `1`. For example, to find all kittens whose favourite colour is `cerulean`, but only return their names, we could do this:"
   ]
  },
  {
   "cell_type": "code",
   "execution_count": 65,
   "metadata": {},
   "outputs": [
    {
     "data": {
      "text/plain": [
       "[{'_id': ObjectId('59ba843fcab99e56f8e7dc80'), 'name': 'Monsieur Whiskeurs'},\n",
       " {'_id': ObjectId('59ba843fcab99e56f8e7dc82'), 'name': 'Susan B. Meownthony'}]"
      ]
     },
     "execution_count": 65,
     "metadata": {},
     "output_type": "execute_result"
    }
   ],
   "source": [
    "list(coll.find({'favourite_colour': 'cerulean'}, {'name': 1}))"
   ]
  },
  {
   "cell_type": "markdown",
   "metadata": {},
   "source": [
    "The `_id` field is always included by default. If we want to get rid of it, we can include the `_id` key in our list of fields, giving it a `0` (instead of a `1`):"
   ]
  },
  {
   "cell_type": "code",
   "execution_count": 66,
   "metadata": {},
   "outputs": [
    {
     "data": {
      "text/plain": [
       "[{'name': 'Monsieur Whiskeurs'}, {'name': 'Susan B. Meownthony'}]"
      ]
     },
     "execution_count": 66,
     "metadata": {},
     "output_type": "execute_result"
    }
   ],
   "source": [
    "list(coll.find({'favourite_colour': 'cerulean'}, {'name': 1, '_id': 0}))"
   ]
  },
  {
   "cell_type": "markdown",
   "metadata": {},
   "source": [
    "## Let's get real\n",
    "\n",
    "I want to take you through a real-world example of consuming data from a source, putting it into MongoDB, then querying MongoDB to find interesting stuff in that data. Specifically, we're going to fetch a big CSV of historic data about congress members from the \"Bulk Data\" section of [govtrack.us](https://www.govtrack.us/developers/data). [Here's the file](https://www.govtrack.us/data/congress-legislators/legislators-historic.csv), which contains a row for every member of Congress in the history of the United States (who isn't currently a sitting member)."
   ]
  },
  {
   "cell_type": "markdown",
   "metadata": {},
   "source": [
    "Let's play with the `csv` library's `DictReader` class to see what the data looks like."
   ]
  },
  {
   "cell_type": "code",
   "execution_count": 70,
   "metadata": {},
   "outputs": [
    {
     "data": {
      "text/plain": [
       "OrderedDict([('last_name', 'Bassett'),\n",
       "             ('first_name', 'Richard'),\n",
       "             ('birthday', '1745-04-02'),\n",
       "             ('gender', 'M'),\n",
       "             ('type', 'sen'),\n",
       "             ('state', 'DE'),\n",
       "             ('district', ''),\n",
       "             ('party', 'Anti-Administration'),\n",
       "             ('url', ''),\n",
       "             ('address', ''),\n",
       "             ('phone', ''),\n",
       "             ('contact_form', ''),\n",
       "             ('rss_url', ''),\n",
       "             ('twitter', ''),\n",
       "             ('facebook', ''),\n",
       "             ('facebook_id', ''),\n",
       "             ('youtube', ''),\n",
       "             ('youtube_id', ''),\n",
       "             ('bioguide_id', 'B000226'),\n",
       "             ('thomas_id', ''),\n",
       "             ('opensecrets_id', ''),\n",
       "             ('lis_id', ''),\n",
       "             ('cspan_id', ''),\n",
       "             ('govtrack_id', '401222'),\n",
       "             ('votesmart_id', ''),\n",
       "             ('ballotpedia_id', ''),\n",
       "             ('washington_post_id', ''),\n",
       "             ('icpsr_id', '507'),\n",
       "             ('wikipedia_id', '')])"
      ]
     },
     "execution_count": 70,
     "metadata": {},
     "output_type": "execute_result"
    }
   ],
   "source": [
    "import csv\n",
    "rows = csv.DictReader(open('legislators-historic.csv'))\n",
    "all_rows = list(rows)\n",
    "all_rows[0]"
   ]
  },
  {
   "cell_type": "code",
   "execution_count": 71,
   "metadata": {},
   "outputs": [
    {
     "data": {
      "text/plain": [
       "{'errmsg': 'ns not found', 'ok': 0.0}"
      ]
     },
     "execution_count": 71,
     "metadata": {},
     "output_type": "execute_result"
    }
   ],
   "source": [
    "# Drop the `legislators` collection when starting the notebook again from scratch.\n",
    "db.drop_collection('legislators')"
   ]
  },
  {
   "cell_type": "markdown",
   "metadata": {},
   "source": [
    "What we seem to have here is a dictionary that describes a member of congress. This happens to be one [Richard Bassett](http://en.wikipedia.org/wiki/Richard_Bassett_(politician)), born in 1745. So how about putting all those rows into MongoDB? Here's how it would go. It's pretty simple--we'll create a separate collection in our database for these legislators, called `legislators`."
   ]
  },
  {
   "cell_type": "code",
   "execution_count": 72,
   "metadata": {},
   "outputs": [],
   "source": [
    "coll = db['legislators']"
   ]
  },
  {
   "cell_type": "markdown",
   "metadata": {},
   "source": [
    "Now, loop through the rows of the table and just insert each dictionary from `DictReader` straight into MongoDB:"
   ]
  },
  {
   "cell_type": "code",
   "execution_count": 73,
   "metadata": {},
   "outputs": [],
   "source": [
    "for row in all_rows:\n",
    "    coll.insert_one(row)"
   ]
  },
  {
   "cell_type": "markdown",
   "metadata": {},
   "source": [
    "At this point, the number of documents in the database should match the number of rows in the CSV file. Let's make sure."
   ]
  },
  {
   "cell_type": "code",
   "execution_count": 74,
   "metadata": {},
   "outputs": [
    {
     "data": {
      "text/plain": [
       "True"
      ]
     },
     "execution_count": 74,
     "metadata": {},
     "output_type": "execute_result"
    }
   ],
   "source": [
    "len(all_rows) == coll.count()"
   ]
  },
  {
   "cell_type": "markdown",
   "metadata": {},
   "source": [
    "And how many exactly is that?"
   ]
  },
  {
   "cell_type": "code",
   "execution_count": 75,
   "metadata": {},
   "outputs": [
    {
     "data": {
      "text/plain": [
       "11807"
      ]
     },
     "execution_count": 75,
     "metadata": {},
     "output_type": "execute_result"
    }
   ],
   "source": [
    "coll.count()"
   ]
  },
  {
   "cell_type": "markdown",
   "metadata": {},
   "source": [
    "Eleven thousand legislators. Not exactly \"big data\", but hopefully you can still see the benefit of having this data in one place without having to re-download and parse the data each time we want to use it.\n",
    "\n",
    "### Meet the press\n",
    "\n",
    "Let's do some queries on our data now. Make a list of all legislators who are women:"
   ]
  },
  {
   "cell_type": "code",
   "execution_count": 79,
   "metadata": {
    "scrolled": false
   },
   "outputs": [
    {
     "data": {
      "text/plain": [
       "73"
      ]
     },
     "execution_count": 79,
     "metadata": {},
     "output_type": "execute_result"
    }
   ],
   "source": [
    "women = list(coll.find({'gender':'F'}))\n",
    "len(women)"
   ]
  },
  {
   "cell_type": "markdown",
   "metadata": {},
   "source": [
    "How about a list of legislators who are women, whose party is not `Democrat`?"
   ]
  },
  {
   "cell_type": "code",
   "execution_count": 80,
   "metadata": {},
   "outputs": [
    {
     "data": {
      "text/plain": [
       "31"
      ]
     },
     "execution_count": 80,
     "metadata": {},
     "output_type": "execute_result"
    }
   ],
   "source": [
    "women_nonD = list(coll.find({'gender':'F','party':{'$ne':'Democrat'}}))\n",
    "len(women_nonD)"
   ]
  },
  {
   "cell_type": "markdown",
   "metadata": {},
   "source": [
    "Make a list of these women, including only their names, states, and birthdays:"
   ]
  },
  {
   "cell_type": "code",
   "execution_count": 81,
   "metadata": {},
   "outputs": [
    {
     "data": {
      "text/plain": [
       "31"
      ]
     },
     "execution_count": 81,
     "metadata": {},
     "output_type": "execute_result"
    }
   ],
   "source": [
    "women_nonD_nsb = list(coll.find({'gender':'F','party':{'$ne':'Democrat'}},\n",
    "                                {'first_name':1,'last_name':1,'state':1,'_id':0}))\n",
    "len(women_nonD_nsb)"
   ]
  },
  {
   "cell_type": "markdown",
   "metadata": {},
   "source": [
    "List the youngest five Republican legislators, as determined by their birthday:"
   ]
  },
  {
   "cell_type": "code",
   "execution_count": 89,
   "metadata": {},
   "outputs": [
    {
     "data": {
      "text/plain": [
       "[{'birthday': '', 'first_name': 'Alexander', 'last_name': 'Martin'},\n",
       " {'birthday': '', 'first_name': 'Timothy', 'last_name': 'Bloodworth'},\n",
       " {'birthday': '', 'first_name': 'Christopher', 'last_name': 'Greenup'},\n",
       " {'birthday': '', 'first_name': 'John', 'last_name': 'Sherburne'},\n",
       " {'birthday': '', 'first_name': 'Thomas', 'last_name': 'Sprigg'}]"
      ]
     },
     "execution_count": 89,
     "metadata": {},
     "output_type": "execute_result"
    }
   ],
   "source": [
    "list(coll.find({'party':'Republican'},\n",
    "              {'first_name':1,'last_name':1,'_id':0,'birthday':1}).sort('birthday',1).limit(5))"
   ]
  },
  {
   "cell_type": "markdown",
   "metadata": {},
   "source": [
    "Make a list of all distinct parties? (Witness the variety of American democracy)"
   ]
  },
  {
   "cell_type": "code",
   "execution_count": 90,
   "metadata": {},
   "outputs": [
    {
     "data": {
      "text/plain": [
       "['Anti-Administration',\n",
       " '',\n",
       " 'Pro-Administration',\n",
       " 'Republican',\n",
       " 'Federalist',\n",
       " 'Democratic Republican',\n",
       " 'Unknown',\n",
       " 'Adams',\n",
       " 'Jackson',\n",
       " 'Jackson Republican',\n",
       " 'Crawford Republican',\n",
       " 'Whig',\n",
       " 'Anti-Jacksonian',\n",
       " 'Adams Democrat',\n",
       " 'Nullifier',\n",
       " 'Anti Masonic',\n",
       " 'Anti Jacksonian',\n",
       " 'Jacksonian',\n",
       " 'Democrat',\n",
       " 'Anti Jackson',\n",
       " 'Union Democrat',\n",
       " 'Conservative',\n",
       " 'Ind. Democrat',\n",
       " 'Law and Order',\n",
       " 'American',\n",
       " 'Liberty',\n",
       " 'Free Soil',\n",
       " 'Independent',\n",
       " 'Ind. Republican-Democrat',\n",
       " 'Ind. Whig',\n",
       " 'Unionist',\n",
       " 'States Rights',\n",
       " 'Anti-Lecompton Democrat',\n",
       " 'Constitutional Unionist',\n",
       " 'Independent Democrat',\n",
       " 'Unconditional Unionist',\n",
       " 'Conservative Republican',\n",
       " 'Ind. Republican',\n",
       " 'Liberal Republican',\n",
       " 'National Greenbacker',\n",
       " 'Readjuster Democrat',\n",
       " 'Readjuster',\n",
       " 'Union',\n",
       " 'Union Labor',\n",
       " 'Populist',\n",
       " 'Silver Republican',\n",
       " 'Free Silver',\n",
       " 'Democratic and Union Labor',\n",
       " 'Progressive Republican',\n",
       " 'Progressive',\n",
       " 'Prohibitionist',\n",
       " 'Socialist',\n",
       " 'Farmer-Labor',\n",
       " 'Nonpartisan',\n",
       " 'Coalitionist',\n",
       " 'Popular Democrat',\n",
       " 'American Labor',\n",
       " 'New Progressive',\n",
       " 'Republican-Conservative',\n",
       " 'Democrat-Liberal']"
      ]
     },
     "execution_count": 90,
     "metadata": {},
     "output_type": "execute_result"
    }
   ],
   "source": [
    "list(coll.distinct('party'))"
   ]
  },
  {
   "cell_type": "markdown",
   "metadata": {},
   "source": [
    "Read the documentation for [MongoDB's `$nin` operator](http://docs.mongodb.org/manual/reference/operator/query/nin/), and write a MongoDB query that returns a list of the names, states, and parties of all legislators whose party is neither Republican nor Democrat."
   ]
  },
  {
   "cell_type": "code",
   "execution_count": 92,
   "metadata": {},
   "outputs": [
    {
     "data": {
      "text/plain": [
       "2096"
      ]
     },
     "execution_count": 92,
     "metadata": {},
     "output_type": "execute_result"
    }
   ],
   "source": [
    "member = list(coll.find({'party':{'$nin':['Republican','Democrat']}},\n",
    "               {'first_name':1,'last_name':1,'state':1,'party':1,'_id':0}))\n",
    "len(member)"
   ]
  },
  {
   "cell_type": "markdown",
   "metadata": {},
   "source": [
    "## Where to go next\n",
    "\n",
    "Great work--you've learned the basics. Where to go next?\n",
    "\n",
    "* The [PyMongo tutorial](http://api.mongodb.org/python/current/tutorial.html) covers a lot of the same material that we've covered here, but it's always nice to have a different perspective on this.\n",
    "* If you want to be able to modify your data after you've imported it, you may want to learn how to [update documents](http://docs.mongodb.org/manual/tutorial/modify-documents/) once they're already in the database.\n",
    "* Once you're working with a sufficiently large amount of data, you'll be able to speed up your queries significantly using [indexes](http://docs.mongodb.org/manual/core/indexes-introduction/).\n",
    "* We didn't cover some of MongoDB's most powerful features in this tutorial, including its [aggregation](http://docs.mongodb.org/manual/core/aggregation-introduction/) and [map-reduce](http://docs.mongodb.org/manual/core/map-reduce/) features. Both are very handy, but difficult to teach in a Python class, because they often require writing JavaScript. [Here's a good overview](http://blog.safaribooksonline.com/2013/06/21/aggregation-in-mongodb/) of MongoDB's aggregation framework."
   ]
  },
  {
   "cell_type": "code",
   "execution_count": null,
   "metadata": {
    "collapsed": true
   },
   "outputs": [],
   "source": []
  }
 ],
 "metadata": {
  "anaconda-cloud": {},
  "kernelspec": {
   "display_name": "Python [conda env:Python3]",
   "language": "python",
   "name": "conda-env-Python3-py"
  },
  "language_info": {
   "codemirror_mode": {
    "name": "ipython",
    "version": 3
   },
   "file_extension": ".py",
   "mimetype": "text/x-python",
   "name": "python",
   "nbconvert_exporter": "python",
   "pygments_lexer": "ipython3",
   "version": "3.6.1"
  }
 },
 "nbformat": 4,
 "nbformat_minor": 1
}
