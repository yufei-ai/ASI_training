{
 "cells": [
  {
   "cell_type": "code",
   "execution_count": null,
   "metadata": {
    "collapsed": false,
    "nbpresent": {
     "id": "7999fdfc-0321-42c3-9a4a-df7de8d479e3"
    }
   },
   "outputs": [],
   "source": [
    "import pandas as pd\n",
    "import sqlalchemy"
   ]
  },
  {
   "cell_type": "markdown",
   "metadata": {
    "nbpresent": {
     "id": "819d2fc4-c3dd-4dba-80cd-d0dbdf308311"
    }
   },
   "source": [
    "# Movie Ratings"
   ]
  },
  {
   "cell_type": "markdown",
   "metadata": {
    "nbpresent": {
     "id": "1ad4f7b0-63ba-41b4-be21-93b167ec9581"
    }
   },
   "source": [
    "You've started a new movie-rating website, and you've been collecting data on reviewers' ratings of various movies. There's not much data yet, but you can still try out some interesting queries. Here's the schema: \n",
    "\n",
    "Movie ( mID, title, year, director ) \n",
    "English: There is a movie with ID number mID, a title, a release year, and a director. \n",
    "\n",
    "Reviewer ( rID, name ) \n",
    "English: The reviewer with ID number rID has a certain name. \n",
    "\n",
    "Rating ( rID, mID, stars, ratingDate ) \n",
    "English: The reviewer rID gave the movie mID a number of stars rating (1-5) on a certain ratingDate. "
   ]
  },
  {
   "cell_type": "markdown",
   "metadata": {
    "nbpresent": {
     "id": "db228415-bb5e-45ec-b674-37ba18d2c1ce"
    }
   },
   "source": [
    "## Connect to the database"
   ]
  },
  {
   "cell_type": "code",
   "execution_count": null,
   "metadata": {
    "collapsed": false,
    "nbpresent": {
     "id": "fc360653-cf5f-44d2-bac5-9d8b21d4db23"
    }
   },
   "outputs": [],
   "source": [
    "engine = sqlalchemy.create_engine(\n",
    "    \"postgresql+psycopg2://\", \n",
    "    connect_args={\"database\": \"postgres\", \"user\": \"sherlock\", \"host\": \"/var/run/postgresql\"}\n",
    ")\n",
    "con = engine.connect()\n",
    "con.execute(\"SET schema 'input'\")"
   ]
  },
  {
   "cell_type": "markdown",
   "metadata": {},
   "source": [
    "## Load the data in the db\n",
    "If you want to reset the database, simply rerun this cell"
   ]
  },
  {
   "cell_type": "code",
   "execution_count": null,
   "metadata": {
    "collapsed": false,
    "nbpresent": {
     "id": "0b95f12d-e1d6-4c5b-9c66-210da44fe0de"
    }
   },
   "outputs": [],
   "source": [
    "from sqlalchemy.sql import text\n",
    "con.execute(open(\"movie-ratings.sql\").read())\n",
    "con.execute(open(\"social.sql\").read())"
   ]
  },
  {
   "cell_type": "code",
   "execution_count": null,
   "metadata": {
    "collapsed": false,
    "nbpresent": {
     "id": "b51a3e66-a610-4656-b1fb-a07a92ceb9b6"
    }
   },
   "outputs": [],
   "source": [
    "q = \"\"\"\n",
    "SELECT * \n",
    "FROM Rating \n",
    "limit 3\n",
    "\"\"\"\n",
    "df = pd.read_sql(q, con)\n",
    "df"
   ]
  },
  {
   "cell_type": "markdown",
   "metadata": {
    "nbpresent": {
     "id": "c801a16a-d67e-4fa7-8377-7b39ac6c1e10"
    }
   },
   "source": [
    "Find the titles of all movies directed by Steven Spielberg. \n"
   ]
  },
  {
   "cell_type": "code",
   "execution_count": null,
   "metadata": {
    "collapsed": false,
    "nbpresent": {
     "id": "0e147b76-3ca7-4ebd-b902-ba0d432fa1b6"
    }
   },
   "outputs": [],
   "source": [
    "q = \"\"\"\n",
    "select title\n",
    "from Movie\n",
    "where director='Steven Spielberg';\n",
    "\"\"\"\n",
    "df = pd.read_sql(q, con)\n",
    "df"
   ]
  },
  {
   "cell_type": "markdown",
   "metadata": {
    "nbpresent": {
     "id": "3c853bd3-bb62-46c9-8058-3cbc5c1549ff"
    }
   },
   "source": [
    "Find all years that have a movie that received a rating of 4 or 5, and sort them in increasing order. "
   ]
  },
  {
   "cell_type": "code",
   "execution_count": null,
   "metadata": {
    "collapsed": false,
    "nbpresent": {
     "id": "45393f6c-8e8c-4605-9807-020abc6c2417"
    }
   },
   "outputs": [],
   "source": [
    "q = \"\"\"\n",
    "select distinct year\n",
    "from Movie, Rating\n",
    "where Rating.mID = Movie.mID and stars >= 4\n",
    "order by Year;\n",
    "\"\"\"\n",
    "df = pd.read_sql(q, con)\n",
    "df"
   ]
  },
  {
   "cell_type": "markdown",
   "metadata": {
    "nbpresent": {
     "id": "49e778d8-aafe-431a-95a5-1b22be75b4bc"
    }
   },
   "source": [
    "Find the titles of all movies that have no ratings. \n"
   ]
  },
  {
   "cell_type": "code",
   "execution_count": null,
   "metadata": {
    "collapsed": false,
    "nbpresent": {
     "id": "91050699-4708-4c36-aaeb-e9fdf9d309bc"
    }
   },
   "outputs": [],
   "source": [
    " q = \"\"\"\n",
    "select title\n",
    "from Movie\n",
    "where mID not in (select mID \n",
    "                  from Rating)\n",
    "\"\"\"\n",
    "df = pd.read_sql(q, con)\n",
    "df"
   ]
  },
  {
   "cell_type": "markdown",
   "metadata": {
    "nbpresent": {
     "id": "e35e43c3-18d3-45c3-8d74-3740caab8b87"
    }
   },
   "source": [
    "Some reviewers didn't provide a date with their rating. Find the names of all reviewers who have ratings with a NULL value for the date. \n"
   ]
  },
  {
   "cell_type": "code",
   "execution_count": null,
   "metadata": {
    "collapsed": false,
    "nbpresent": {
     "id": "0f13376c-e270-4596-843a-d59705d37688"
    }
   },
   "outputs": [],
   "source": [
    " q = \"\"\"\n",
    "select distinct name\n",
    "from Reviewer, Rating\n",
    "where Reviewer.rID = Rating.rID and ratingDate is NULL;\n",
    "\"\"\"\n",
    "df = pd.read_sql(q, con)\n",
    "df"
   ]
  },
  {
   "cell_type": "markdown",
   "metadata": {
    "nbpresent": {
     "id": "32f7b1f1-ca40-4aff-9556-0afe60c637bb"
    }
   },
   "source": [
    "Write a query to return the ratings data in a more readable format: reviewer name, movie title, stars, and ratingDate. Also, sort the data, first by reviewer name, then by movie title, and lastly by number of stars. \n",
    " "
   ]
  },
  {
   "cell_type": "code",
   "execution_count": null,
   "metadata": {
    "collapsed": false,
    "nbpresent": {
     "id": "c1e76e20-cce9-4bc7-b486-7eb0b48a1d79"
    }
   },
   "outputs": [],
   "source": [
    " q = \"\"\"\n",
    "select name, title, stars, ratingDate\n",
    "from Movie, Rating, Reviewer\n",
    "where Movie.mID = Rating.mID and Reviewer.rID = Rating.rID\n",
    "order by name, title, stars;\n",
    "\"\"\"\n",
    "df = pd.read_sql(q, con)\n",
    "df"
   ]
  },
  {
   "cell_type": "markdown",
   "metadata": {
    "nbpresent": {
     "id": "792e8a0a-d930-4431-ae0b-1ca02d5cce87"
    }
   },
   "source": [
    "For all cases where the same reviewer rated the same movie twice and gave it a higher rating the second time, return the reviewer's name and the title of the movie. "
   ]
  },
  {
   "cell_type": "code",
   "execution_count": null,
   "metadata": {
    "collapsed": false,
    "nbpresent": {
     "id": "d5af1948-3f02-42f4-83b1-40b3acbe71bc"
    }
   },
   "outputs": [],
   "source": [
    " q = \"\"\"\n",
    "select name, title\n",
    "from Movie, Reviewer, (select R1.rID, R1.mID\n",
    "  from Rating R1, Rating R2\n",
    "  where R1.rID = R2.rID \n",
    "  and R1.mID = R2.mID\n",
    "  and R1.stars < R2.stars\n",
    "  and R1.ratingDate < R2.ratingDate) C\n",
    "where Movie.mID = C.mID\n",
    "and Reviewer.rID = C.rID;\n",
    "\"\"\"\n",
    "df = pd.read_sql(q, con)\n",
    "df"
   ]
  },
  {
   "cell_type": "markdown",
   "metadata": {
    "nbpresent": {
     "id": "475639d9-9bf3-4c8a-b3cd-1226d9d93ba7"
    }
   },
   "source": [
    "For each movie that has at least one rating, find the highest number of stars that movie received. Return the movie title and number of stars. Sort by movie title. "
   ]
  },
  {
   "cell_type": "code",
   "execution_count": null,
   "metadata": {
    "collapsed": false,
    "nbpresent": {
     "id": "9804ae28-4201-4902-a913-31f1cdf72c31"
    }
   },
   "outputs": [],
   "source": [
    " q = \"\"\"\n",
    "select title, stars\n",
    "from Movie, ( select Movie.mID, stars\n",
    "              from Movie, Rating\n",
    "              where Movie.mID = Rating.mID\n",
    "              except\n",
    "              select R1.mID, R1.stars\n",
    "              from Rating R1, Rating R2\n",
    "              where R1.mID = R2.mID\n",
    "              and R1.stars < R2.stars) Stars\n",
    "where Movie.mID = Stars.mID\n",
    "order by title;\n",
    "\"\"\"\n",
    "df = pd.read_sql(q, con)\n",
    "df"
   ]
  },
  {
   "cell_type": "markdown",
   "metadata": {
    "nbpresent": {
     "id": "dadc59bb-5bfd-4922-a3a0-7d915fab3bda"
    }
   },
   "source": [
    "For each movie, return the title and the 'rating spread', that is, the difference between highest and lowest ratings given to that movie. Sort by rating spread from highest to lowest, then by movie title. "
   ]
  },
  {
   "cell_type": "code",
   "execution_count": null,
   "metadata": {
    "collapsed": false,
    "nbpresent": {
     "id": "f3caf843-736d-4c8c-ad33-0e6ca7d44d2f"
    }
   },
   "outputs": [],
   "source": [
    " q = \"\"\"\n",
    "select title, spread\n",
    "from Movie, (\n",
    "  select mID, max(stars) - min(stars) as spread\n",
    "  from Rating\n",
    "  group by mID\n",
    ") RatingSpread\n",
    "where Movie.mID = RatingSpread.mID\n",
    "order by spread DESC, title;\n",
    "\"\"\"\n",
    "df = pd.read_sql(q, con)\n",
    "df"
   ]
  },
  {
   "cell_type": "markdown",
   "metadata": {
    "nbpresent": {
     "id": "e987b7a4-aee9-441d-bf1b-5216c65669e6"
    }
   },
   "source": [
    "Find the difference between the average rating of movies released before 1980 and the average rating of movies released after 1980. (Make sure to calculate the average rating for each movie, then the average of those averages for movies before 1980 and movies after. Don't just calculate the overall average rating before and after 1980.) "
   ]
  },
  {
   "cell_type": "code",
   "execution_count": null,
   "metadata": {
    "collapsed": false,
    "nbpresent": {
     "id": "1e104847-6ac0-4cf4-ace2-0bc1cc246735"
    }
   },
   "outputs": [],
   "source": [
    " q = \"\"\"\n",
    "select avg(before_80.group_avg) - avg(post_80.group_avg) as difference\n",
    "from (\n",
    "  select Rating.mID, avg(stars) as group_avg\n",
    "  from Rating, Movie\n",
    "  where Rating.mID = Movie.mID\n",
    "  and year <= 1980\n",
    "  group by Rating.mID\n",
    ") as before_80,\n",
    "(\n",
    "  select Rating.mID, avg(stars) as group_avg\n",
    "  from Rating, Movie\n",
    "  where Rating.mID = Movie.mID\n",
    "  and year > 1980\n",
    "  group by Rating.mID\n",
    ") as post_80\n",
    "\"\"\"\n",
    "df = pd.read_sql(q, con)\n",
    "df"
   ]
  },
  {
   "cell_type": "markdown",
   "metadata": {
    "nbpresent": {
     "id": "ea18b601-018a-4ac8-9955-705accc1fa18"
    }
   },
   "source": [
    "# The Social Network"
   ]
  },
  {
   "cell_type": "markdown",
   "metadata": {
    "nbpresent": {
     "id": "31733abe-368f-45a6-8361-9ef0a093ec40"
    }
   },
   "source": [
    "Students at your hometown high school have decided to organize their social network using databases. So far, they have collected information about sixteen students in four grades, 9-12. Here's the schema: \n",
    "\n",
    "Highschooler ( ID, name, grade ) \n",
    "English: There is a high school student with unique ID and a given first name in a certain grade. \n",
    "\n",
    "Friend ( ID1, ID2 ) \n",
    "English: The student with ID1 is friends with the student with ID2. Friendship is mutual, so if (123, 456) is in the Friend table, so is (456, 123). \n",
    "\n",
    "Likes ( ID1, ID2 ) \n",
    "English: The student with ID1 likes the student with ID2. Liking someone is not necessarily mutual, so if (123, 456) is in the Likes table, there is no guarantee that (456, 123) is also present. \n",
    "\n",
    "<img src=\"social.png\">"
   ]
  },
  {
   "cell_type": "code",
   "execution_count": null,
   "metadata": {
    "collapsed": false,
    "nbpresent": {
     "id": "bb3c5e6a-2680-4c32-a68f-91d3f3bbf827"
    }
   },
   "outputs": [],
   "source": [
    "df = pd.read_sql(\"SELECT * from Highschooler limit 3\", con)\n",
    "df"
   ]
  },
  {
   "cell_type": "markdown",
   "metadata": {
    "nbpresent": {
     "id": "a9375686-b5c4-4b8d-aeb4-549bf60bbd62"
    }
   },
   "source": [
    "Find the names of all students who are friends with someone named Gabriel. \n"
   ]
  },
  {
   "cell_type": "code",
   "execution_count": null,
   "metadata": {
    "collapsed": false,
    "nbpresent": {
     "id": "50e3574b-3bf2-4e86-8cce-5a44d782b617"
    }
   },
   "outputs": [],
   "source": [
    " q = \"\"\"\n",
    "select H2.name\n",
    "from Highschooler H1, Highschooler H2, Friend\n",
    "where H1.ID = Friend.ID1\n",
    "and H1.name = 'Gabriel'\n",
    "and H2.ID = Friend.ID2;\n",
    "\"\"\"\n",
    "df = pd.read_sql(q, con)\n",
    "df"
   ]
  },
  {
   "cell_type": "markdown",
   "metadata": {
    "nbpresent": {
     "id": "1dee957d-7ac3-4acc-b60e-94105f88cb02"
    }
   },
   "source": [
    "For every student who likes someone 2 or more grades younger than themselves, return that student's name and grade, and the name and grade of the student they like. "
   ]
  },
  {
   "cell_type": "code",
   "execution_count": null,
   "metadata": {
    "collapsed": false,
    "nbpresent": {
     "id": "2172b35a-92b6-48b0-be25-cb872eb5e93b"
    }
   },
   "outputs": [],
   "source": [
    " q = \"\"\"\n",
    "select H1.name, H1.grade, H2.name, H2.grade\n",
    "from Likes, Highschooler H1, Highschooler H2\n",
    "where Likes.ID1 = H1.ID\n",
    "and Likes.ID2 = H2.ID\n",
    "and H1.grade >= (H2.grade + 2)\n",
    "\"\"\"\n",
    "df = pd.read_sql(q, con)\n",
    "df"
   ]
  },
  {
   "cell_type": "markdown",
   "metadata": {
    "nbpresent": {
     "id": "35d0081b-1957-4c1e-81b5-2a65b650da53"
    }
   },
   "source": [
    "For every pair of students who both like each other, return the name and grade of both students. Include each pair only once, with the two names in alphabetical order. "
   ]
  },
  {
   "cell_type": "code",
   "execution_count": null,
   "metadata": {
    "collapsed": false,
    "nbpresent": {
     "id": "ac5f1e9b-823f-48a5-bae3-9df16f324e06"
    }
   },
   "outputs": [],
   "source": [
    " q = \"\"\"\n",
    "select H1.name, H1.grade, H2.name, H2.grade\n",
    "from Highschooler H1, Highschooler H2, (\n",
    "  select L1.ID1, L1.ID2\n",
    "  from Likes L1, Likes L2\n",
    "  where L1.ID2 = L2.ID1\n",
    "  and L1.ID1 = L2.ID2\n",
    ") as Pair\n",
    "where H1.ID = Pair.ID1\n",
    "and H2.ID = Pair.ID2\n",
    "and H1.name < H2.name\n",
    "\"\"\"\n",
    "df = pd.read_sql(q, con)\n",
    "df"
   ]
  },
  {
   "cell_type": "markdown",
   "metadata": {
    "nbpresent": {
     "id": "2c13388c-e298-4383-9727-5d363f589c60"
    }
   },
   "source": [
    "Find all students who do not appear in the Likes table (as a student who likes or is liked) and return their names and grades. Sort by grade, then by name within each grade. "
   ]
  },
  {
   "cell_type": "code",
   "execution_count": null,
   "metadata": {
    "collapsed": false,
    "nbpresent": {
     "id": "8d27ad3c-10cd-4761-a52b-31fa44fd6b81"
    }
   },
   "outputs": [],
   "source": [
    " q = \"\"\"\n",
    "select name, grade\n",
    "from Highschooler\n",
    "where ID not in (\n",
    "  select ID1 from Likes\n",
    "  union\n",
    "  select ID2 from Likes\n",
    ")\n",
    "order by grade, name\n",
    "\"\"\"\n",
    "df = pd.read_sql(q, con)\n",
    "df"
   ]
  },
  {
   "cell_type": "markdown",
   "metadata": {
    "nbpresent": {
     "id": "511508ef-066f-4575-8d5d-0506c21f5bb6"
    }
   },
   "source": [
    "For every situation where student A likes student B, but we have no information about whom B likes (that is, B does not appear as an ID1 in the Likes table), return A and B's names and grades. "
   ]
  },
  {
   "cell_type": "code",
   "execution_count": null,
   "metadata": {
    "collapsed": false,
    "nbpresent": {
     "id": "68654ddf-ae62-408b-b1f5-1e4c17f73d23"
    }
   },
   "outputs": [],
   "source": [
    " q = \"\"\"\n",
    "select H1.name, H1.grade, H2.name, H2.grade, H3.name, H3.grade\n",
    "from Likes L1, Likes L2, Highschooler H1, Highschooler H2, Highschooler H3\n",
    "where L1.ID2 = L2.ID1\n",
    "and L2.ID2 <> L1.ID1\n",
    "and L1.ID1 = H1.ID and L1.ID2 = H2.ID and L2.ID2 = H3.ID\n",
    "\"\"\"\n",
    "df = pd.read_sql(q, con)\n",
    "df"
   ]
  },
  {
   "cell_type": "markdown",
   "metadata": {
    "nbpresent": {
     "id": "0fedec7d-a619-4606-bcb1-5d8d0f976143"
    }
   },
   "source": [
    "Find names and grades of students who only have friends in the same grade. Return the result sorted by grade, then by name within each grade. "
   ]
  },
  {
   "cell_type": "code",
   "execution_count": null,
   "metadata": {
    "collapsed": false,
    "nbpresent": {
     "id": "dfdcb60c-2914-4b8e-a1dd-c3eb2c257322"
    }
   },
   "outputs": [],
   "source": [
    " q = \"\"\"\n",
    "select name, grade\n",
    "from Highschooler, (\n",
    "  select ID1 from Friend\n",
    "  except\n",
    "  -- students have friends in same grade\n",
    "  select distinct Friend.ID1\n",
    "  from Friend, Highschooler H1, Highschooler H2\n",
    "  where Friend.ID1 = H1.ID and Friend.ID2 = H2.ID\n",
    "  and H1.grade != H2.grade\n",
    ") as Sample\n",
    "where Highschooler.ID = Sample.ID1\n",
    "order by grade, name\n",
    "\"\"\"\n",
    "df = pd.read_sql(q, con)\n",
    "df"
   ]
  },
  {
   "cell_type": "markdown",
   "metadata": {
    "nbpresent": {
     "id": "49bb9cc9-d148-4f4d-bd3c-81ae951df03b"
    }
   },
   "source": [
    "For each student A who likes a student B where the two are not friends, find if they have a friend C in common (who can introduce them!). For all such trios, return the name and grade of A, B, and C. "
   ]
  },
  {
   "cell_type": "code",
   "execution_count": null,
   "metadata": {
    "collapsed": false,
    "nbpresent": {
     "id": "7f3be134-bbd0-4e24-8ca1-663e1b5d3d6e"
    }
   },
   "outputs": [],
   "source": [
    " q = \"\"\"\n",
    "select H1.name, H1.grade, H2.name, H2.grade, H3.name, H3.grade\n",
    "from Highschooler H1, Highschooler H2, Highschooler H3, Friend F1, Friend F2, (\n",
    "  select * from Likes\n",
    "  except\n",
    "  -- A likes B and A/B are friends\n",
    "  select Likes.ID1, Likes.ID2\n",
    "  from Likes, Friend\n",
    "  where Friend.ID1 = Likes.ID1 and Friend.ID2 = Likes.ID2\n",
    ") as LikeNotFriend\n",
    "where F1.ID1 = LikeNotFriend.ID1\n",
    "and F2.ID1 = LikeNotFriend.ID2\n",
    "-- has a shared friend\n",
    "and F1.ID2 = F2.ID2\n",
    "and H1.ID = LikeNotFriend.ID1\n",
    "and H2.ID = LikeNotFriend.ID2\n",
    "and H3.ID = F2.ID2\n",
    "\"\"\"\n",
    "df = pd.read_sql(q, con)\n",
    "df"
   ]
  },
  {
   "cell_type": "markdown",
   "metadata": {
    "nbpresent": {
     "id": "562d9593-51d1-4a59-953a-fcca9cc9d172"
    }
   },
   "source": [
    "Find the difference between the number of students in the school and the number of different first names. \n"
   ]
  },
  {
   "cell_type": "code",
   "execution_count": null,
   "metadata": {
    "collapsed": false,
    "nbpresent": {
     "id": "b94ef2eb-7538-442e-be74-30a2e8cf56fc"
    }
   },
   "outputs": [],
   "source": [
    " q = \"\"\"\n",
    "select count(ID) - count(distinct name) as difference\n",
    "from Highschooler\n",
    "\"\"\"\n",
    "df = pd.read_sql(q, con)\n",
    "df"
   ]
  },
  {
   "cell_type": "markdown",
   "metadata": {
    "nbpresent": {
     "id": "8d07a4ed-7cbb-4411-b590-98ce3ae92907"
    }
   },
   "source": [
    "Find the name and grade of all students who are liked by more than one other student. \n"
   ]
  },
  {
   "cell_type": "code",
   "execution_count": null,
   "metadata": {
    "collapsed": false,
    "nbpresent": {
     "id": "5380d994-0a08-4ceb-9e57-f08d1a93de3d"
    }
   },
   "outputs": [],
   "source": [
    "q = \"\"\"\n",
    "select name, grade\n",
    "from Highschooler, (\n",
    "  select count(ID1) as count, ID2\n",
    "  from Likes\n",
    "  group by ID2\n",
    ") as LikeCount\n",
    "where Highschooler.ID = LikeCount.ID2\n",
    "and count > 1\n",
    "\"\"\"\n",
    "df = pd.read_sql(q, con)\n",
    "df"
   ]
  },
  {
   "cell_type": "markdown",
   "metadata": {
    "nbpresent": {
     "id": "8a548376-9506-455a-b559-1ea6934e58af"
    }
   },
   "source": [
    "## Modification"
   ]
  },
  {
   "cell_type": "markdown",
   "metadata": {
    "nbpresent": {
     "id": "7a069f88-5993-4630-93f7-e8d6f08429cd"
    }
   },
   "source": [
    "Add the reviewer Roger Ebert to your database, with an rID of 209. \n"
   ]
  },
  {
   "cell_type": "code",
   "execution_count": null,
   "metadata": {
    "collapsed": false,
    "nbpresent": {
     "id": "36c4df48-3de5-4896-bbb6-8ef7bfd0f4f1"
    }
   },
   "outputs": [],
   "source": [
    "q = \"insert into Reviewer(rID, name) values (209, 'Roger Ebert')\"\n",
    "con.execute(q)"
   ]
  },
  {
   "cell_type": "markdown",
   "metadata": {
    "nbpresent": {
     "id": "b0f9ae96-1786-4fae-8510-410562f380cf"
    }
   },
   "source": [
    "Insert 5-star ratings by James Cameron for all movies in the database. Leave the review date as NULL. \n"
   ]
  },
  {
   "cell_type": "code",
   "execution_count": null,
   "metadata": {
    "collapsed": false,
    "nbpresent": {
     "id": "dc328903-8b9f-42b6-82f6-7c202364922b"
    }
   },
   "outputs": [],
   "source": [
    "q = \"\"\"\n",
    "insert into Rating\n",
    "  select Rating.rID, Movie.mID, 5 as stars, null as ratingDate\n",
    "  from Rating, Movie, Reviewer\n",
    "  where Rating.rID = Reviewer.rID\n",
    "  and Reviewer.name = 'James Cameron';\n",
    "\"\"\"\n",
    "con.execute(q)"
   ]
  },
  {
   "cell_type": "markdown",
   "metadata": {
    "nbpresent": {
     "id": "373bce59-c41e-4364-a809-06f66c4a3d09"
    }
   },
   "source": [
    "For all movies that have an average rating of 4 stars or higher, add 25 to the release year. (Update the existing tuples; don't insert new tuples.) "
   ]
  },
  {
   "cell_type": "code",
   "execution_count": null,
   "metadata": {
    "collapsed": false,
    "nbpresent": {
     "id": "6b34386f-8e1b-444b-8e1d-b10912a63b6a"
    }
   },
   "outputs": [],
   "source": [
    "q = \"\"\"\n",
    "update Movie\n",
    "set year = year + 25\n",
    "where mID in (\n",
    "  select Movie.mId\n",
    "  from Movie, Rating\n",
    "  where Movie.mID = Rating.mID\n",
    "  group by Movie.mID\n",
    "  having avg(stars) >= 4\n",
    ")\n",
    "\"\"\"\n",
    "con.execute(q)"
   ]
  },
  {
   "cell_type": "markdown",
   "metadata": {
    "nbpresent": {
     "id": "0566b27e-0b88-40a8-b0d1-c03069242e23"
    }
   },
   "source": [
    "Remove all ratings where the movie's year is before 1970 or after 2000, and the rating is fewer than 4 stars. "
   ]
  },
  {
   "cell_type": "code",
   "execution_count": null,
   "metadata": {
    "collapsed": false,
    "nbpresent": {
     "id": "cbfffc30-dc3e-46f1-9e42-c19ad4418912"
    }
   },
   "outputs": [],
   "source": [
    "q = \"\"\"\n",
    "delete from Rating\n",
    "where mID in (\n",
    "  select distinct Rating.mID\n",
    "  from Movie, Rating\n",
    "  where Movie.mID = Rating.mID\n",
    "  and (Movie.year > 2000 or Movie.year < 1970)\n",
    ")\n",
    "and stars < 4\n",
    "\"\"\"\n",
    "con.execute(q)"
   ]
  },
  {
   "cell_type": "markdown",
   "metadata": {
    "nbpresent": {
     "id": "e7f08901-f4ed-4dd3-aabe-ccb4d060aa9b"
    }
   },
   "source": [
    "It's time for the seniors to graduate. Remove all 12th graders from Highschooler. \n"
   ]
  },
  {
   "cell_type": "code",
   "execution_count": null,
   "metadata": {
    "collapsed": false,
    "nbpresent": {
     "id": "54f2d6e5-5817-4411-b44f-035c5c648177"
    }
   },
   "outputs": [],
   "source": [
    "q = \"\"\"\n",
    "delete from Highschooler\n",
    "where grade = 12\n",
    "\"\"\"\n",
    "con.execute(q)"
   ]
  },
  {
   "cell_type": "markdown",
   "metadata": {
    "nbpresent": {
     "id": "c34a4e2b-5455-4fda-8600-b2ef4e1355ed"
    }
   },
   "source": [
    "If two students A and B are friends, and A likes B but not vice-versa, remove the Likes tuple. \n"
   ]
  },
  {
   "cell_type": "code",
   "execution_count": null,
   "metadata": {
    "collapsed": false,
    "nbpresent": {
     "id": "ad8e96f1-fc46-4f3c-8fc5-791d30a5b40e"
    }
   },
   "outputs": [],
   "source": [
    "q = \"\"\"\n",
    "delete from Likes l\n",
    "where l.ID1 in (\n",
    "  select a.ID1 from (\n",
    "    select L1.ID1, L1.ID2\n",
    "    from Friend, Likes L1\n",
    "    where Friend.ID1 = L1.ID1\n",
    "    and Friend.ID2 = L1.ID2\n",
    "    except\n",
    "    select L1.ID1, L1.ID2\n",
    "    from Likes L1, Likes L2\n",
    "    where L1.ID1 = L2.ID2\n",
    "    and L1.ID2 = L2.ID1\n",
    "  ) a\n",
    ")\n",
    "\"\"\"\n",
    "con.execute(q)"
   ]
  },
  {
   "cell_type": "markdown",
   "metadata": {
    "nbpresent": {
     "id": "13ea669c-26de-425d-a386-c5a07215c633"
    }
   },
   "source": [
    "For all cases where A is friends with B, and B is friends with C, add a new friendship for the pair A and C. Do not add duplicate friendships, friendships that already exist, or friendships with oneself. (This one is a bit challenging; congratulations if you get it right.) "
   ]
  },
  {
   "cell_type": "code",
   "execution_count": null,
   "metadata": {
    "collapsed": false,
    "nbpresent": {
     "id": "161392af-de85-458c-9f46-664b6334140f"
    }
   },
   "outputs": [],
   "source": [
    "q = \"\"\"\n",
    "insert into Friend\n",
    "  select F1.ID1, F2.ID2\n",
    "  from Friend F1, Friend F2\n",
    "  where F1.ID2 = F2.ID1\n",
    "  -- friends with oneself\n",
    "  and F1.ID1 != F2.ID2\n",
    "  -- already exist friendship\n",
    "  except \n",
    "  select * from Friend\n",
    "\"\"\"\n",
    "con.execute(q)"
   ]
  }
 ],
 "metadata": {
  "anaconda-cloud": {},
  "kernelspec": {
   "display_name": "Python [conda env:Python3]",
   "language": "python",
   "name": "conda-env-Python3-py"
  },
  "language_info": {
   "codemirror_mode": {
    "name": "ipython",
    "version": 3
   },
   "file_extension": ".py",
   "mimetype": "text/x-python",
   "name": "python",
   "nbconvert_exporter": "python",
   "pygments_lexer": "ipython3",
   "version": "3.5.2"
  },
  "nbpresent": {
   "slides": {
    "0127dffd-6bc7-4fe2-bfff-630c20036214": {
     "id": "0127dffd-6bc7-4fe2-bfff-630c20036214",
     "prev": "d53b57e9-975a-47bd-9762-19016831a7c1",
     "regions": {
      "35215b48-d489-4275-96db-44bbbfe7469b": {
       "attrs": {
        "height": 0.8,
        "width": 0.8,
        "x": 0.1,
        "y": 0.1
       },
       "content": {
        "cell": "5e05f068-8bca-40db-8a5c-3dbc3b30ad8f",
        "part": "whole"
       },
       "id": "35215b48-d489-4275-96db-44bbbfe7469b"
      }
     }
    },
    "02704c00-ce27-4cb8-be99-1c4cc3937e5d": {
     "id": "02704c00-ce27-4cb8-be99-1c4cc3937e5d",
     "prev": "2d6cc048-b22f-4861-949c-4a340de9880c",
     "regions": {
      "10bb07f4-4551-45a4-bde4-e25329a8def4": {
       "attrs": {
        "height": 0.8,
        "width": 0.8,
        "x": 0.1,
        "y": 0.1
       },
       "content": {
        "cell": "dfdcb60c-2914-4b8e-a1dd-c3eb2c257322",
        "part": "whole"
       },
       "id": "10bb07f4-4551-45a4-bde4-e25329a8def4"
      }
     }
    },
    "08390089-df55-4817-b18b-749b6d4cc528": {
     "id": "08390089-df55-4817-b18b-749b6d4cc528",
     "prev": "d361e0d2-40df-490e-9f3a-626b81375d6d",
     "regions": {
      "b7c2aa3e-0660-4afa-99b9-a6ec3097aaa2": {
       "attrs": {
        "height": 0.8,
        "width": 0.8,
        "x": 0.1,
        "y": 0.1
       },
       "content": {
        "cell": "2172b35a-92b6-48b0-be25-cb872eb5e93b",
        "part": "whole"
       },
       "id": "b7c2aa3e-0660-4afa-99b9-a6ec3097aaa2"
      }
     }
    },
    "0b7a999e-2aba-4e44-aab4-ba7aaf9f371a": {
     "id": "0b7a999e-2aba-4e44-aab4-ba7aaf9f371a",
     "prev": "383cce44-46a0-4ca7-ace8-df6b963c80c8",
     "regions": {
      "d50099f6-7603-4756-b8fa-f75593530048": {
       "attrs": {
        "height": 0.8,
        "width": 0.8,
        "x": 0.1,
        "y": 0.1
       },
       "content": {
        "cell": "0b95f12d-e1d6-4c5b-9c66-210da44fe0de",
        "part": "whole"
       },
       "id": "d50099f6-7603-4756-b8fa-f75593530048"
      }
     }
    },
    "0c6b36dc-5fce-460a-bf32-6d4b50ae69fb": {
     "id": "0c6b36dc-5fce-460a-bf32-6d4b50ae69fb",
     "prev": "b1d77118-35a7-4e3f-9266-2a84d1694312",
     "regions": {
      "183824b2-f89e-4f8f-92c2-0c2fba1dd753": {
       "attrs": {
        "height": 0.8,
        "width": 0.8,
        "x": 0.1,
        "y": 0.1
       },
       "content": {
        "cell": "5380d994-0a08-4ceb-9e57-f08d1a93de3d",
        "part": "whole"
       },
       "id": "183824b2-f89e-4f8f-92c2-0c2fba1dd753"
      }
     }
    },
    "0fc72ac6-943c-472c-b583-b8c2b2978adf": {
     "id": "0fc72ac6-943c-472c-b583-b8c2b2978adf",
     "prev": "f5cec88b-a1fe-4bf2-b07c-6cd3d503dfd9",
     "regions": {
      "1b7ae8b2-c801-4629-a422-27636b776884": {
       "attrs": {
        "height": 0.8,
        "width": 0.8,
        "x": 0.1,
        "y": 0.1
       },
       "content": {
        "cell": "0e147b76-3ca7-4ebd-b902-ba0d432fa1b6",
        "part": "whole"
       },
       "id": "1b7ae8b2-c801-4629-a422-27636b776884"
      }
     }
    },
    "1128f782-ebde-4382-bdb1-26827711208f": {
     "id": "1128f782-ebde-4382-bdb1-26827711208f",
     "prev": "0c6b36dc-5fce-460a-bf32-6d4b50ae69fb",
     "regions": {
      "1e5e6d7f-8b2b-40d4-bbca-c68558b3ece4": {
       "attrs": {
        "height": 0.8,
        "width": 0.8,
        "x": 0.1,
        "y": 0.1
       },
       "content": {
        "cell": "8a548376-9506-455a-b559-1ea6934e58af",
        "part": "whole"
       },
       "id": "1e5e6d7f-8b2b-40d4-bbca-c68558b3ece4"
      }
     }
    },
    "17671a8b-3dc8-4224-8767-213aea65949f": {
     "id": "17671a8b-3dc8-4224-8767-213aea65949f",
     "prev": "95b62b6f-4a1b-4f6b-b8cf-0efaf148c142",
     "regions": {
      "5d32b02d-ac1f-46a9-8f21-1047347c8136": {
       "attrs": {
        "height": 0.8,
        "width": 0.8,
        "x": 0.1,
        "y": 0.1
       },
       "content": {
        "cell": "bb3c5e6a-2680-4c32-a68f-91d3f3bbf827",
        "part": "whole"
       },
       "id": "5d32b02d-ac1f-46a9-8f21-1047347c8136"
      }
     }
    },
    "1ad0fcb1-89fc-4e8e-85ef-032f543d9832": {
     "id": "1ad0fcb1-89fc-4e8e-85ef-032f543d9832",
     "prev": "a3550169-9f15-465b-b577-b73863782597",
     "regions": {
      "a68b1425-ff35-45a5-a243-2ee31439c961": {
       "attrs": {
        "height": 0.8,
        "width": 0.8,
        "x": 0.1,
        "y": 0.1
       },
       "content": {
        "cell": "0566b27e-0b88-40a8-b0d1-c03069242e23",
        "part": "whole"
       },
       "id": "a68b1425-ff35-45a5-a243-2ee31439c961"
      }
     }
    },
    "1fc0d3a0-7866-417c-b445-bab7da4f8876": {
     "id": "1fc0d3a0-7866-417c-b445-bab7da4f8876",
     "prev": "cff367cb-b07f-48a1-b6bd-3dcd94fde16c",
     "regions": {
      "23e97116-f1c7-4df6-bc67-8e6adc47e2a9": {
       "attrs": {
        "height": 0.8,
        "width": 0.8,
        "x": 0.1,
        "y": 0.1
       },
       "content": {
        "cell": "db228415-bb5e-45ec-b674-37ba18d2c1ce",
        "part": "whole"
       },
       "id": "23e97116-f1c7-4df6-bc67-8e6adc47e2a9"
      }
     }
    },
    "280f37ee-6c98-43ee-ae8f-d289507e4fee": {
     "id": "280f37ee-6c98-43ee-ae8f-d289507e4fee",
     "prev": "751e73aa-5674-4f34-a34c-8020fabdfd6e",
     "regions": {
      "a0e59c25-45f8-436f-9d71-9c4f3068db20": {
       "attrs": {
        "height": 0.8,
        "width": 0.8,
        "x": 0.1,
        "y": 0.1
       },
       "content": {
        "cell": "54f2d6e5-5817-4411-b44f-035c5c648177",
        "part": "whole"
       },
       "id": "a0e59c25-45f8-436f-9d71-9c4f3068db20"
      }
     }
    },
    "28ebcd76-070b-4f03-aa16-8930c4138f66": {
     "id": "28ebcd76-070b-4f03-aa16-8930c4138f66",
     "prev": "5e2ed96a-fcf9-46cf-b0c4-b06916568d0e",
     "regions": {
      "26686bca-9ed0-424e-9659-ddd00a29266f": {
       "attrs": {
        "height": 0.8,
        "width": 0.8,
        "x": 0.1,
        "y": 0.1
       },
       "content": {
        "cell": "f3caf843-736d-4c8c-ad33-0e6ca7d44d2f",
        "part": "whole"
       },
       "id": "26686bca-9ed0-424e-9659-ddd00a29266f"
      }
     }
    },
    "2a85d96a-dfd6-44eb-a9ec-4bdb0838c15d": {
     "id": "2a85d96a-dfd6-44eb-a9ec-4bdb0838c15d",
     "prev": "5e5a1cdf-bf10-4f7c-83b1-8329adb8b2da",
     "regions": {
      "adf2f44c-4775-47ee-9fb9-1a9924c827ac": {
       "attrs": {
        "height": 0.8,
        "width": 0.8,
        "x": 0.1,
        "y": 0.1
       },
       "content": {
        "cell": "475639d9-9bf3-4c8a-b3cd-1226d9d93ba7",
        "part": "whole"
       },
       "id": "adf2f44c-4775-47ee-9fb9-1a9924c827ac"
      }
     }
    },
    "2d6cc048-b22f-4861-949c-4a340de9880c": {
     "id": "2d6cc048-b22f-4861-949c-4a340de9880c",
     "prev": "66197957-4dd6-48ce-95f6-a1b885ed379a",
     "regions": {
      "4691aa2f-5d9d-4741-9469-26c0a6d205b0": {
       "attrs": {
        "height": 0.8,
        "width": 0.8,
        "x": 0.1,
        "y": 0.1
       },
       "content": {
        "cell": "0fedec7d-a619-4606-bcb1-5d8d0f976143",
        "part": "whole"
       },
       "id": "4691aa2f-5d9d-4741-9469-26c0a6d205b0"
      }
     }
    },
    "2da9439f-a3cd-4f53-bcf9-c16b3b3e6f93": {
     "id": "2da9439f-a3cd-4f53-bcf9-c16b3b3e6f93",
     "prev": "28ebcd76-070b-4f03-aa16-8930c4138f66",
     "regions": {
      "a166a4f6-2f57-40b5-955a-df2b8c4493c3": {
       "attrs": {
        "height": 0.8,
        "width": 0.8,
        "x": 0.1,
        "y": 0.1
       },
       "content": {
        "cell": "e987b7a4-aee9-441d-bf1b-5216c65669e6",
        "part": "whole"
       },
       "id": "a166a4f6-2f57-40b5-955a-df2b8c4493c3"
      }
     }
    },
    "37220c5f-97c0-48da-8f54-92a13fa54081": {
     "id": "37220c5f-97c0-48da-8f54-92a13fa54081",
     "prev": "79003091-9f5e-4f7f-a7ab-b57d99c1caac",
     "regions": {
      "d5121708-a743-4c6b-b118-8006bc0c09d1": {
       "attrs": {
        "height": 0.8,
        "width": 0.8,
        "x": 0.1,
        "y": 0.1
       },
       "content": {
        "cell": "c1e76e20-cce9-4bc7-b486-7eb0b48a1d79",
        "part": "whole"
       },
       "id": "d5121708-a743-4c6b-b118-8006bc0c09d1"
      }
     }
    },
    "376fc880-d938-4522-a2be-9f97b65abd7a": {
     "id": "376fc880-d938-4522-a2be-9f97b65abd7a",
     "prev": "383492eb-ccc3-4867-8e4c-3b7b2f10db4b",
     "regions": {
      "4d4d4b51-b525-4353-b47e-c8a7307d1112": {
       "attrs": {
        "height": 0.8,
        "width": 0.8,
        "x": 0.1,
        "y": 0.1
       },
       "content": {
        "cell": "e35e43c3-18d3-45c3-8d74-3740caab8b87",
        "part": "whole"
       },
       "id": "4d4d4b51-b525-4353-b47e-c8a7307d1112"
      }
     }
    },
    "383492eb-ccc3-4867-8e4c-3b7b2f10db4b": {
     "id": "383492eb-ccc3-4867-8e4c-3b7b2f10db4b",
     "prev": "42deb478-78f5-4118-af9f-358eb8b19d2f",
     "regions": {
      "3c6c7a43-5745-4827-82f7-ef97b379b562": {
       "attrs": {
        "height": 0.8,
        "width": 0.8,
        "x": 0.1,
        "y": 0.1
       },
       "content": {
        "cell": "91050699-4708-4c36-aaeb-e9fdf9d309bc",
        "part": "whole"
       },
       "id": "3c6c7a43-5745-4827-82f7-ef97b379b562"
      }
     }
    },
    "383cce44-46a0-4ca7-ace8-df6b963c80c8": {
     "id": "383cce44-46a0-4ca7-ace8-df6b963c80c8",
     "prev": "1fc0d3a0-7866-417c-b445-bab7da4f8876",
     "regions": {
      "b9134fa9-1fa6-40bd-8e44-d06317aed4dc": {
       "attrs": {
        "height": 0.8,
        "width": 0.8,
        "x": 0.1,
        "y": 0.1
       },
       "content": {
        "cell": "fc360653-cf5f-44d2-bac5-9d8b21d4db23",
        "part": "whole"
       },
       "id": "b9134fa9-1fa6-40bd-8e44-d06317aed4dc"
      }
     }
    },
    "397423b0-bb2e-4350-8c0e-9bff527764d9": {
     "id": "397423b0-bb2e-4350-8c0e-9bff527764d9",
     "prev": "627ed2aa-ff4d-4d00-8316-dfbc3c61301d",
     "regions": {
      "32b0ec50-d4ee-4c35-8a28-db3d810ac445": {
       "attrs": {
        "height": 0.8,
        "width": 0.8,
        "x": 0.1,
        "y": 0.1
       },
       "content": {
        "cell": "dc328903-8b9f-42b6-82f6-7c202364922b",
        "part": "whole"
       },
       "id": "32b0ec50-d4ee-4c35-8a28-db3d810ac445"
      }
     }
    },
    "3dadad76-5203-438c-b8b4-2a1ddb60bd99": {
     "id": "3dadad76-5203-438c-b8b4-2a1ddb60bd99",
     "prev": "b4564a90-b90a-4735-b72d-80f135821ef2",
     "regions": {
      "5fe4ea62-86bb-486a-84ff-2cd6d123938a": {
       "attrs": {
        "height": 0.8,
        "width": 0.8,
        "x": 0.1,
        "y": 0.1
       },
       "content": {
        "cell": "ea18b601-018a-4ac8-9955-705accc1fa18",
        "part": "whole"
       },
       "id": "5fe4ea62-86bb-486a-84ff-2cd6d123938a"
      }
     }
    },
    "3dfa64e4-cfd4-40a0-a99a-5eb63135e707": {
     "id": "3dfa64e4-cfd4-40a0-a99a-5eb63135e707",
     "prev": "08390089-df55-4817-b18b-749b6d4cc528",
     "regions": {
      "716effff-b471-45ba-8e32-3f1e951266be": {
       "attrs": {
        "height": 0.8,
        "width": 0.8,
        "x": 0.1,
        "y": 0.1
       },
       "content": {
        "cell": "35d0081b-1957-4c1e-81b5-2a65b650da53",
        "part": "whole"
       },
       "id": "716effff-b471-45ba-8e32-3f1e951266be"
      }
     }
    },
    "41576489-ae59-4d76-9c5a-3f0495ad8596": {
     "id": "41576489-ae59-4d76-9c5a-3f0495ad8596",
     "prev": "3dfa64e4-cfd4-40a0-a99a-5eb63135e707",
     "regions": {
      "378dec55-4879-4c92-b763-6bc5e41660f5": {
       "attrs": {
        "height": 0.8,
        "width": 0.8,
        "x": 0.1,
        "y": 0.1
       },
       "content": {
        "cell": "ac5f1e9b-823f-48a5-bae3-9df16f324e06",
        "part": "whole"
       },
       "id": "378dec55-4879-4c92-b763-6bc5e41660f5"
      }
     }
    },
    "42deb478-78f5-4118-af9f-358eb8b19d2f": {
     "id": "42deb478-78f5-4118-af9f-358eb8b19d2f",
     "prev": "49e8af60-dabf-42dc-a789-24c80e6a760b",
     "regions": {
      "2cc3c00f-97b3-48e7-b384-53606b77d72a": {
       "attrs": {
        "height": 0.8,
        "width": 0.8,
        "x": 0.1,
        "y": 0.1
       },
       "content": {
        "cell": "49e778d8-aafe-431a-95a5-1b22be75b4bc",
        "part": "whole"
       },
       "id": "2cc3c00f-97b3-48e7-b384-53606b77d72a"
      }
     }
    },
    "454ca0d6-5fd0-4065-8029-454e01e8ce80": {
     "id": "454ca0d6-5fd0-4065-8029-454e01e8ce80",
     "prev": "41576489-ae59-4d76-9c5a-3f0495ad8596",
     "regions": {
      "3515cdbc-e947-48a9-8f02-0a1a9f34489c": {
       "attrs": {
        "height": 0.8,
        "width": 0.8,
        "x": 0.1,
        "y": 0.1
       },
       "content": {
        "cell": "2c13388c-e298-4383-9727-5d363f589c60",
        "part": "whole"
       },
       "id": "3515cdbc-e947-48a9-8f02-0a1a9f34489c"
      }
     }
    },
    "48565624-6a49-4924-a998-16ff72c25d3c": {
     "id": "48565624-6a49-4924-a998-16ff72c25d3c",
     "prev": "02704c00-ce27-4cb8-be99-1c4cc3937e5d",
     "regions": {
      "441f0eba-060f-4d06-a1a9-feb8b726599a": {
       "attrs": {
        "height": 0.8,
        "width": 0.8,
        "x": 0.1,
        "y": 0.1
       },
       "content": {
        "cell": "49bb9cc9-d148-4f4d-bd3c-81ae951df03b",
        "part": "whole"
       },
       "id": "441f0eba-060f-4d06-a1a9-feb8b726599a"
      }
     }
    },
    "49e8af60-dabf-42dc-a789-24c80e6a760b": {
     "id": "49e8af60-dabf-42dc-a789-24c80e6a760b",
     "prev": "acd1dff3-c11b-4c81-885f-24c4ab7adfcb",
     "regions": {
      "89a96084-25f3-48c5-a7b0-653c8d372ea7": {
       "attrs": {
        "height": 0.8,
        "width": 0.8,
        "x": 0.1,
        "y": 0.1
       },
       "content": {
        "cell": "45393f6c-8e8c-4605-9807-020abc6c2417",
        "part": "whole"
       },
       "id": "89a96084-25f3-48c5-a7b0-653c8d372ea7"
      }
     }
    },
    "4d7b9579-5d02-4a23-9734-07cc63f79a1a": {
     "id": "4d7b9579-5d02-4a23-9734-07cc63f79a1a",
     "prev": "1ad0fcb1-89fc-4e8e-85ef-032f543d9832",
     "regions": {
      "000abbcd-3107-41fa-b537-cc32312d1b5b": {
       "attrs": {
        "height": 0.8,
        "width": 0.8,
        "x": 0.1,
        "y": 0.1
       },
       "content": {
        "cell": "cbfffc30-dc3e-46f1-9e42-c19ad4418912",
        "part": "whole"
       },
       "id": "000abbcd-3107-41fa-b537-cc32312d1b5b"
      }
     }
    },
    "4f22804e-b9b5-4892-a4a3-69ebe0551e06": {
     "id": "4f22804e-b9b5-4892-a4a3-69ebe0551e06",
     "prev": "95157b82-ca8d-4da9-853a-c9a8337efaf9",
     "regions": {
      "859922f8-fddc-460e-8ea6-246fa08a3ab9": {
       "attrs": {
        "height": 0.8,
        "width": 0.8,
        "x": 0.1,
        "y": 0.1
       },
       "content": {
        "cell": "50e3574b-3bf2-4e86-8cce-5a44d782b617",
        "part": "whole"
       },
       "id": "859922f8-fddc-460e-8ea6-246fa08a3ab9"
      }
     }
    },
    "592e30e3-c1fc-4d3a-a588-8c5c4020929b": {
     "id": "592e30e3-c1fc-4d3a-a588-8c5c4020929b",
     "prev": "37220c5f-97c0-48da-8f54-92a13fa54081",
     "regions": {
      "203dd9e3-8797-4cdc-a3d5-2329a8d77c1f": {
       "attrs": {
        "height": 0.8,
        "width": 0.8,
        "x": 0.1,
        "y": 0.1
       },
       "content": {
        "cell": "792e8a0a-d930-4431-ae0b-1ca02d5cce87",
        "part": "whole"
       },
       "id": "203dd9e3-8797-4cdc-a3d5-2329a8d77c1f"
      }
     }
    },
    "5937c12e-cec4-4867-87cb-6f7054d60fe3": {
     "id": "5937c12e-cec4-4867-87cb-6f7054d60fe3",
     "prev": "454ca0d6-5fd0-4065-8029-454e01e8ce80",
     "regions": {
      "120f3de5-9c42-4620-8bf3-378e699694ab": {
       "attrs": {
        "height": 0.8,
        "width": 0.8,
        "x": 0.1,
        "y": 0.1
       },
       "content": {
        "cell": "8d27ad3c-10cd-4761-a52b-31fa44fd6b81",
        "part": "whole"
       },
       "id": "120f3de5-9c42-4620-8bf3-378e699694ab"
      }
     }
    },
    "5b9772fc-da5a-4e9f-ac7e-7b3244cce028": {
     "id": "5b9772fc-da5a-4e9f-ac7e-7b3244cce028",
     "prev": "280f37ee-6c98-43ee-ae8f-d289507e4fee",
     "regions": {
      "c10108eb-5517-452f-aaad-dd595fb862bd": {
       "attrs": {
        "height": 0.8,
        "width": 0.8,
        "x": 0.1,
        "y": 0.1
       },
       "content": {
        "cell": "c34a4e2b-5455-4fda-8600-b2ef4e1355ed",
        "part": "whole"
       },
       "id": "c10108eb-5517-452f-aaad-dd595fb862bd"
      }
     }
    },
    "5e2ed96a-fcf9-46cf-b0c4-b06916568d0e": {
     "id": "5e2ed96a-fcf9-46cf-b0c4-b06916568d0e",
     "prev": "a1732f4e-7315-4602-b65b-d63dbdc73fce",
     "regions": {
      "15da62bf-4421-40ae-ac51-aae1704ed70c": {
       "attrs": {
        "height": 0.8,
        "width": 0.8,
        "x": 0.1,
        "y": 0.1
       },
       "content": {
        "cell": "dadc59bb-5bfd-4922-a3a0-7d915fab3bda",
        "part": "whole"
       },
       "id": "15da62bf-4421-40ae-ac51-aae1704ed70c"
      }
     }
    },
    "5e5a1cdf-bf10-4f7c-83b1-8329adb8b2da": {
     "id": "5e5a1cdf-bf10-4f7c-83b1-8329adb8b2da",
     "prev": "592e30e3-c1fc-4d3a-a588-8c5c4020929b",
     "regions": {
      "65c72621-de7a-4ad6-8545-6b7322b73574": {
       "attrs": {
        "height": 0.8,
        "width": 0.8,
        "x": 0.1,
        "y": 0.1
       },
       "content": {
        "cell": "d5af1948-3f02-42f4-83b1-40b3acbe71bc",
        "part": "whole"
       },
       "id": "65c72621-de7a-4ad6-8545-6b7322b73574"
      }
     }
    },
    "627ed2aa-ff4d-4d00-8316-dfbc3c61301d": {
     "id": "627ed2aa-ff4d-4d00-8316-dfbc3c61301d",
     "prev": "870fd611-4d72-46dd-81d3-257e30a81278",
     "regions": {
      "2a7ba54c-fd51-4672-8245-50b623617a66": {
       "attrs": {
        "height": 0.8,
        "width": 0.8,
        "x": 0.1,
        "y": 0.1
       },
       "content": {
        "cell": "b0f9ae96-1786-4fae-8510-410562f380cf",
        "part": "whole"
       },
       "id": "2a7ba54c-fd51-4672-8245-50b623617a66"
      }
     }
    },
    "66197957-4dd6-48ce-95f6-a1b885ed379a": {
     "id": "66197957-4dd6-48ce-95f6-a1b885ed379a",
     "prev": "eb6eed3c-e44a-4238-bc92-8e8734cb35e0",
     "regions": {
      "0f7dbbfe-5aa5-4e2f-a4d2-ac2f8b481d8b": {
       "attrs": {
        "height": 0.8,
        "width": 0.8,
        "x": 0.1,
        "y": 0.1
       },
       "content": {
        "cell": "68654ddf-ae62-408b-b1f5-1e4c17f73d23",
        "part": "whole"
       },
       "id": "0f7dbbfe-5aa5-4e2f-a4d2-ac2f8b481d8b"
      }
     }
    },
    "663bde0c-19ef-4328-8fc3-40dbe2f658a0": {
     "id": "663bde0c-19ef-4328-8fc3-40dbe2f658a0",
     "prev": "5b9772fc-da5a-4e9f-ac7e-7b3244cce028",
     "regions": {
      "9fc9e390-83f9-4424-8abf-dd72a8f31371": {
       "attrs": {
        "height": 0.8,
        "width": 0.8,
        "x": 0.1,
        "y": 0.1
       },
       "content": {
        "cell": "ad8e96f1-fc46-4f3c-8fc5-791d30a5b40e",
        "part": "whole"
       },
       "id": "9fc9e390-83f9-4424-8abf-dd72a8f31371"
      }
     }
    },
    "751e73aa-5674-4f34-a34c-8020fabdfd6e": {
     "id": "751e73aa-5674-4f34-a34c-8020fabdfd6e",
     "prev": "4d7b9579-5d02-4a23-9734-07cc63f79a1a",
     "regions": {
      "a956ba53-da03-4285-969a-56c1a1478184": {
       "attrs": {
        "height": 0.8,
        "width": 0.8,
        "x": 0.1,
        "y": 0.1
       },
       "content": {
        "cell": "e7f08901-f4ed-4dd3-aabe-ccb4d060aa9b",
        "part": "whole"
       },
       "id": "a956ba53-da03-4285-969a-56c1a1478184"
      }
     }
    },
    "79003091-9f5e-4f7f-a7ab-b57d99c1caac": {
     "id": "79003091-9f5e-4f7f-a7ab-b57d99c1caac",
     "prev": "ab29eef1-2f75-41f9-a58c-6d6ebbd18a5e",
     "regions": {
      "8063a892-a69a-48e4-a036-3db8cf694ec0": {
       "attrs": {
        "height": 0.8,
        "width": 0.8,
        "x": 0.1,
        "y": 0.1
       },
       "content": {
        "cell": "32f7b1f1-ca40-4aff-9556-0afe60c637bb",
        "part": "whole"
       },
       "id": "8063a892-a69a-48e4-a036-3db8cf694ec0"
      }
     }
    },
    "801b0a8d-c680-47ef-bc9f-ab640d446c27": {
     "id": "801b0a8d-c680-47ef-bc9f-ab640d446c27",
     "prev": "48565624-6a49-4924-a998-16ff72c25d3c",
     "regions": {
      "3a445609-c54f-44ef-b016-8aec64b507d6": {
       "attrs": {
        "height": 0.8,
        "width": 0.8,
        "x": 0.1,
        "y": 0.1
       },
       "content": {
        "cell": "7f3be134-bbd0-4e24-8ca1-663e1b5d3d6e",
        "part": "whole"
       },
       "id": "3a445609-c54f-44ef-b016-8aec64b507d6"
      }
     }
    },
    "870fd611-4d72-46dd-81d3-257e30a81278": {
     "id": "870fd611-4d72-46dd-81d3-257e30a81278",
     "prev": "ac890b69-63da-418f-a062-c7c4a408cd91",
     "regions": {
      "9a94bf91-3f95-4931-9a97-58eb3980124a": {
       "attrs": {
        "height": 0.8,
        "width": 0.8,
        "x": 0.1,
        "y": 0.1
       },
       "content": {
        "cell": "36c4df48-3de5-4896-bbb6-8ef7bfd0f4f1",
        "part": "whole"
       },
       "id": "9a94bf91-3f95-4931-9a97-58eb3980124a"
      }
     }
    },
    "901db75b-d30f-49c1-9cf1-e180951b8094": {
     "id": "901db75b-d30f-49c1-9cf1-e180951b8094",
     "prev": "801b0a8d-c680-47ef-bc9f-ab640d446c27",
     "regions": {
      "f951d617-9453-4f2a-825f-35dc3bcd09f2": {
       "attrs": {
        "height": 0.8,
        "width": 0.8,
        "x": 0.1,
        "y": 0.1
       },
       "content": {
        "cell": "562d9593-51d1-4a59-953a-fcca9cc9d172",
        "part": "whole"
       },
       "id": "f951d617-9453-4f2a-825f-35dc3bcd09f2"
      }
     }
    },
    "95157b82-ca8d-4da9-853a-c9a8337efaf9": {
     "id": "95157b82-ca8d-4da9-853a-c9a8337efaf9",
     "prev": "17671a8b-3dc8-4224-8767-213aea65949f",
     "regions": {
      "5f488e49-1c5f-479f-8d18-b7d71221e2a1": {
       "attrs": {
        "height": 0.8,
        "width": 0.8,
        "x": 0.1,
        "y": 0.1
       },
       "content": {
        "cell": "a9375686-b5c4-4b8d-aeb4-549bf60bbd62",
        "part": "whole"
       },
       "id": "5f488e49-1c5f-479f-8d18-b7d71221e2a1"
      }
     }
    },
    "95b62b6f-4a1b-4f6b-b8cf-0efaf148c142": {
     "id": "95b62b6f-4a1b-4f6b-b8cf-0efaf148c142",
     "prev": "3dadad76-5203-438c-b8b4-2a1ddb60bd99",
     "regions": {
      "2601a685-4bff-48bb-9aa9-3c07378128bc": {
       "attrs": {
        "height": 0.8,
        "width": 0.8,
        "x": 0.1,
        "y": 0.1
       },
       "content": {
        "cell": "31733abe-368f-45a6-8361-9ef0a093ec40",
        "part": "whole"
       },
       "id": "2601a685-4bff-48bb-9aa9-3c07378128bc"
      }
     }
    },
    "a1732f4e-7315-4602-b65b-d63dbdc73fce": {
     "id": "a1732f4e-7315-4602-b65b-d63dbdc73fce",
     "prev": "2a85d96a-dfd6-44eb-a9ec-4bdb0838c15d",
     "regions": {
      "d6999131-9fa5-4ed1-8f7f-88174e6cb55f": {
       "attrs": {
        "height": 0.8,
        "width": 0.8,
        "x": 0.1,
        "y": 0.1
       },
       "content": {
        "cell": "9804ae28-4201-4902-a913-31f1cdf72c31",
        "part": "whole"
       },
       "id": "d6999131-9fa5-4ed1-8f7f-88174e6cb55f"
      }
     }
    },
    "a3550169-9f15-465b-b577-b73863782597": {
     "id": "a3550169-9f15-465b-b577-b73863782597",
     "prev": "e9031003-d196-400c-a7f2-d29501a46b94",
     "regions": {
      "3ae64bb2-4f0d-443d-b037-1f9a78cc198e": {
       "attrs": {
        "height": 0.8,
        "width": 0.8,
        "x": 0.1,
        "y": 0.1
       },
       "content": {
        "cell": "6b34386f-8e1b-444b-8e1d-b10912a63b6a",
        "part": "whole"
       },
       "id": "3ae64bb2-4f0d-443d-b037-1f9a78cc198e"
      }
     }
    },
    "ab29eef1-2f75-41f9-a58c-6d6ebbd18a5e": {
     "id": "ab29eef1-2f75-41f9-a58c-6d6ebbd18a5e",
     "prev": "376fc880-d938-4522-a2be-9f97b65abd7a",
     "regions": {
      "a1d7abe7-783e-4dd3-86f2-fb3e574ac40a": {
       "attrs": {
        "height": 0.8,
        "width": 0.8,
        "x": 0.1,
        "y": 0.1
       },
       "content": {
        "cell": "0f13376c-e270-4596-843a-d59705d37688",
        "part": "whole"
       },
       "id": "a1d7abe7-783e-4dd3-86f2-fb3e574ac40a"
      }
     }
    },
    "ac890b69-63da-418f-a062-c7c4a408cd91": {
     "id": "ac890b69-63da-418f-a062-c7c4a408cd91",
     "prev": "1128f782-ebde-4382-bdb1-26827711208f",
     "regions": {
      "8c51995b-13b5-408e-bb55-b15286b1d23a": {
       "attrs": {
        "height": 0.8,
        "width": 0.8,
        "x": 0.1,
        "y": 0.1
       },
       "content": {
        "cell": "7a069f88-5993-4630-93f7-e8d6f08429cd",
        "part": "whole"
       },
       "id": "8c51995b-13b5-408e-bb55-b15286b1d23a"
      }
     }
    },
    "acd1dff3-c11b-4c81-885f-24c4ab7adfcb": {
     "id": "acd1dff3-c11b-4c81-885f-24c4ab7adfcb",
     "prev": "0fc72ac6-943c-472c-b583-b8c2b2978adf",
     "regions": {
      "03bf17a5-cb94-4032-9c55-07a7d289ffc8": {
       "attrs": {
        "height": 0.8,
        "width": 0.8,
        "x": 0.1,
        "y": 0.1
       },
       "content": {
        "cell": "3c853bd3-bb62-46c9-8058-3cbc5c1549ff",
        "part": "whole"
       },
       "id": "03bf17a5-cb94-4032-9c55-07a7d289ffc8"
      }
     }
    },
    "b1d77118-35a7-4e3f-9266-2a84d1694312": {
     "id": "b1d77118-35a7-4e3f-9266-2a84d1694312",
     "prev": "c11ca48c-3b63-4dbd-80ce-cf188c4177db",
     "regions": {
      "69ce6af8-8614-4cc2-a031-847743c1ad06": {
       "attrs": {
        "height": 0.8,
        "width": 0.8,
        "x": 0.1,
        "y": 0.1
       },
       "content": {
        "cell": "8d07a4ed-7cbb-4411-b590-98ce3ae92907",
        "part": "whole"
       },
       "id": "69ce6af8-8614-4cc2-a031-847743c1ad06"
      }
     }
    },
    "b4564a90-b90a-4735-b72d-80f135821ef2": {
     "id": "b4564a90-b90a-4735-b72d-80f135821ef2",
     "prev": "2da9439f-a3cd-4f53-bcf9-c16b3b3e6f93",
     "regions": {
      "773eb954-d945-4fce-96f4-26cb86172953": {
       "attrs": {
        "height": 0.8,
        "width": 0.8,
        "x": 0.1,
        "y": 0.1
       },
       "content": {
        "cell": "1e104847-6ac0-4cf4-ace2-0bc1cc246735",
        "part": "whole"
       },
       "id": "773eb954-d945-4fce-96f4-26cb86172953"
      }
     }
    },
    "b6813028-b933-4bd7-b4e6-703e97a23821": {
     "id": "b6813028-b933-4bd7-b4e6-703e97a23821",
     "prev": null,
     "regions": {
      "40905538-be92-40ee-829a-8212169bc3ff": {
       "attrs": {
        "height": 0.8,
        "width": 0.8,
        "x": 0.1,
        "y": 0.1
       },
       "content": {
        "cell": "7999fdfc-0321-42c3-9a4a-df7de8d479e3",
        "part": "whole"
       },
       "id": "40905538-be92-40ee-829a-8212169bc3ff"
      }
     }
    },
    "c11ca48c-3b63-4dbd-80ce-cf188c4177db": {
     "id": "c11ca48c-3b63-4dbd-80ce-cf188c4177db",
     "prev": "901db75b-d30f-49c1-9cf1-e180951b8094",
     "regions": {
      "b0faafba-6176-419f-a961-07339d13b6f8": {
       "attrs": {
        "height": 0.8,
        "width": 0.8,
        "x": 0.1,
        "y": 0.1
       },
       "content": {
        "cell": "b94ef2eb-7538-442e-be74-30a2e8cf56fc",
        "part": "whole"
       },
       "id": "b0faafba-6176-419f-a961-07339d13b6f8"
      }
     }
    },
    "cff367cb-b07f-48a1-b6bd-3dcd94fde16c": {
     "id": "cff367cb-b07f-48a1-b6bd-3dcd94fde16c",
     "prev": "d5feb428-0816-4de4-a813-83a335cccfa4",
     "regions": {
      "d8b93bc8-43fb-479e-bff9-fec9cc1058d5": {
       "attrs": {
        "height": 0.8,
        "width": 0.8,
        "x": 0.1,
        "y": 0.1
       },
       "content": {
        "cell": "1ad4f7b0-63ba-41b4-be21-93b167ec9581",
        "part": "whole"
       },
       "id": "d8b93bc8-43fb-479e-bff9-fec9cc1058d5"
      }
     }
    },
    "d361e0d2-40df-490e-9f3a-626b81375d6d": {
     "id": "d361e0d2-40df-490e-9f3a-626b81375d6d",
     "prev": "4f22804e-b9b5-4892-a4a3-69ebe0551e06",
     "regions": {
      "dc65b2c1-7fd4-40fb-9cb8-e8602661dce4": {
       "attrs": {
        "height": 0.8,
        "width": 0.8,
        "x": 0.1,
        "y": 0.1
       },
       "content": {
        "cell": "1dee957d-7ac3-4acc-b60e-94105f88cb02",
        "part": "whole"
       },
       "id": "dc65b2c1-7fd4-40fb-9cb8-e8602661dce4"
      }
     }
    },
    "d53b57e9-975a-47bd-9762-19016831a7c1": {
     "id": "d53b57e9-975a-47bd-9762-19016831a7c1",
     "prev": "e7881d8f-136c-4d5b-8a09-4d38c93c63b1",
     "regions": {
      "80b55dfd-f4a2-4da6-b67f-82fd718093c9": {
       "attrs": {
        "height": 0.8,
        "width": 0.8,
        "x": 0.1,
        "y": 0.1
       },
       "content": {
        "cell": "161392af-de85-458c-9f46-664b6334140f",
        "part": "whole"
       },
       "id": "80b55dfd-f4a2-4da6-b67f-82fd718093c9"
      }
     }
    },
    "d5feb428-0816-4de4-a813-83a335cccfa4": {
     "id": "d5feb428-0816-4de4-a813-83a335cccfa4",
     "prev": "b6813028-b933-4bd7-b4e6-703e97a23821",
     "regions": {
      "d1f6f941-174c-4cd8-b156-107a70355e9d": {
       "attrs": {
        "height": 0.8,
        "width": 0.8,
        "x": 0.1,
        "y": 0.1
       },
       "content": {
        "cell": "819d2fc4-c3dd-4dba-80cd-d0dbdf308311",
        "part": "whole"
       },
       "id": "d1f6f941-174c-4cd8-b156-107a70355e9d"
      }
     }
    },
    "e7881d8f-136c-4d5b-8a09-4d38c93c63b1": {
     "id": "e7881d8f-136c-4d5b-8a09-4d38c93c63b1",
     "prev": "663bde0c-19ef-4328-8fc3-40dbe2f658a0",
     "regions": {
      "797f06eb-032a-4ca1-b73d-bf3e640ad1cd": {
       "attrs": {
        "height": 0.8,
        "width": 0.8,
        "x": 0.1,
        "y": 0.1
       },
       "content": {
        "cell": "13ea669c-26de-425d-a386-c5a07215c633",
        "part": "whole"
       },
       "id": "797f06eb-032a-4ca1-b73d-bf3e640ad1cd"
      }
     }
    },
    "e9031003-d196-400c-a7f2-d29501a46b94": {
     "id": "e9031003-d196-400c-a7f2-d29501a46b94",
     "prev": "397423b0-bb2e-4350-8c0e-9bff527764d9",
     "regions": {
      "deb71094-bafd-4cc6-b6d8-8a61a56aa6d9": {
       "attrs": {
        "height": 0.8,
        "width": 0.8,
        "x": 0.1,
        "y": 0.1
       },
       "content": {
        "cell": "373bce59-c41e-4364-a809-06f66c4a3d09",
        "part": "whole"
       },
       "id": "deb71094-bafd-4cc6-b6d8-8a61a56aa6d9"
      }
     }
    },
    "eb6eed3c-e44a-4238-bc92-8e8734cb35e0": {
     "id": "eb6eed3c-e44a-4238-bc92-8e8734cb35e0",
     "prev": "5937c12e-cec4-4867-87cb-6f7054d60fe3",
     "regions": {
      "4b62d111-023a-4148-9e22-c79505921f61": {
       "attrs": {
        "height": 0.8,
        "width": 0.8,
        "x": 0.1,
        "y": 0.1
       },
       "content": {
        "cell": "511508ef-066f-4575-8d5d-0506c21f5bb6",
        "part": "whole"
       },
       "id": "4b62d111-023a-4148-9e22-c79505921f61"
      }
     }
    },
    "f4ecbf58-f133-469e-a464-51403a92b8bf": {
     "id": "f4ecbf58-f133-469e-a464-51403a92b8bf",
     "prev": "0b7a999e-2aba-4e44-aab4-ba7aaf9f371a",
     "regions": {
      "6f3ce8a2-f4f4-4547-bcfa-dde66cdfae91": {
       "attrs": {
        "height": 0.8,
        "width": 0.8,
        "x": 0.1,
        "y": 0.1
       },
       "content": {
        "cell": "b51a3e66-a610-4656-b1fb-a07a92ceb9b6",
        "part": "whole"
       },
       "id": "6f3ce8a2-f4f4-4547-bcfa-dde66cdfae91"
      }
     }
    },
    "f5cec88b-a1fe-4bf2-b07c-6cd3d503dfd9": {
     "id": "f5cec88b-a1fe-4bf2-b07c-6cd3d503dfd9",
     "prev": "f4ecbf58-f133-469e-a464-51403a92b8bf",
     "regions": {
      "17e3b02f-b53e-4960-8751-70e78eda5fe7": {
       "attrs": {
        "height": 0.8,
        "width": 0.8,
        "x": 0.1,
        "y": 0.1
       },
       "content": {
        "cell": "c801a16a-d67e-4fa7-8377-7b39ac6c1e10",
        "part": "whole"
       },
       "id": "17e3b02f-b53e-4960-8751-70e78eda5fe7"
      }
     }
    }
   },
   "themes": {}
  }
 },
 "nbformat": 4,
 "nbformat_minor": 0
}
