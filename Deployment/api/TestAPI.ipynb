{
 "cells": [
  {
   "cell_type": "markdown",
   "metadata": {},
   "source": [
    "# Test our model API"
   ]
  },
  {
   "cell_type": "code",
   "execution_count": 1,
   "metadata": {
    "collapsed": true
   },
   "outputs": [],
   "source": [
    "import configparser\n",
    "import requests"
   ]
  },
  {
   "cell_type": "code",
   "execution_count": 2,
   "metadata": {
    "collapsed": true
   },
   "outputs": [],
   "source": [
    "config = configparser.ConfigParser()\n",
    "config.read('../secret/api_keys.ini')\n",
    "\n",
    "# Change this to point to your own development server!\n",
    "#https://cube-6deda82f-1a50-41c8-9df0-95a9674ce18b\n",
    "url = 'https://cube-6deda82f-1a50-41c8-9df0-95a9674ce18b.api.sherlockml.io/predict'\n",
    "api_key = config['model-api']['key']"
   ]
  },
  {
   "cell_type": "code",
   "execution_count": 19,
   "metadata": {
    "collapsed": true
   },
   "outputs": [],
   "source": [
    "r = requests.get(\n",
    "    url,\n",
    "    headers={'SherlockML-UserAPI-Key': api_key},\n",
    "    params={\n",
    "        'competitiveness': 'P',\n",
    "        'credibility': 'N',\n",
    "        'financial_flexibility': 'N'\n",
    "    })"
   ]
  },
  {
   "cell_type": "code",
   "execution_count": 20,
   "metadata": {
    "collapsed": true
   },
   "outputs": [],
   "source": [
    "r.raise_for_status()"
   ]
  },
  {
   "cell_type": "code",
   "execution_count": 21,
   "metadata": {
    "scrolled": true
   },
   "outputs": [
    {
     "data": {
      "text/plain": [
       "{'risk_factors': {'competitiveness': 'P',\n",
       "  'credibility': 'N',\n",
       "  'financial_flexibility': 'N',\n",
       "  'industrial_risk': 'A',\n",
       "  'management_risk': 'A',\n",
       "  'operating_risk': 'A'},\n",
       " 'will_go_bankrupt': True}"
      ]
     },
     "execution_count": 21,
     "metadata": {},
     "output_type": "execute_result"
    }
   ],
   "source": [
    "r.json()"
   ]
  },
  {
   "cell_type": "code",
   "execution_count": 6,
   "metadata": {
    "collapsed": true
   },
   "outputs": [],
   "source": [
    "r.json?"
   ]
  },
  {
   "cell_type": "code",
   "execution_count": null,
   "metadata": {
    "collapsed": true
   },
   "outputs": [],
   "source": []
  }
 ],
 "metadata": {
  "kernelspec": {
   "display_name": "Python [conda env:Python3]",
   "language": "python",
   "name": "conda-env-Python3-py"
  },
  "language_info": {
   "codemirror_mode": {
    "name": "ipython",
    "version": 3
   },
   "file_extension": ".py",
   "mimetype": "text/x-python",
   "name": "python",
   "nbconvert_exporter": "python",
   "pygments_lexer": "ipython3",
   "version": "3.6.1"
  }
 },
 "nbformat": 4,
 "nbformat_minor": 2
}
